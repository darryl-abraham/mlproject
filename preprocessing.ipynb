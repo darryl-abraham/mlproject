{
 "cells": [
  {
   "cell_type": "markdown",
   "source": [
    "##### Machine Learning Course Project\n",
    "# Preprocessing\n",
    "##### Darryl Abraham, Riccardo Paciello"
   ],
   "metadata": {
    "collapsed": false
   },
   "id": "ccd86203ea65cedb"
  },
  {
   "cell_type": "markdown",
   "source": [
    "### Importing Libraries"
   ],
   "metadata": {
    "collapsed": false
   },
   "id": "ee2784118c73d39c"
  },
  {
   "cell_type": "code",
   "outputs": [],
   "source": [
    "import pandas as pd\n",
    "import numpy as np\n",
    "from functools import reduce\n",
    "import operator\n",
    "\n",
    "import sns\n",
    "from sklearn.feature_selection import mutual_info_regression, mutual_info_classif\n",
    "from scipy.stats import chi2_contingency, fisher_exact\n",
    "from sklearn.preprocessing import LabelEncoder\n",
    "from scipy.stats import spearmanr\n",
    "from sklearn.decomposition import PCA\n",
    "from factor_analyzer import FactorAnalyzer\n",
    "from sklearn.preprocessing import StandardScaler\n",
    "from sklearn.impute import KNNImputer\n",
    "from sklearn.feature_selection import mutual_info_classif\n",
    "import prince\n",
    "from sklearn.preprocessing import OneHotEncoder\n",
    "from sklearn.compose import ColumnTransformer"
   ],
   "metadata": {
    "collapsed": false,
    "ExecuteTime": {
     "end_time": "2024-06-02T19:49:46.991838Z",
     "start_time": "2024-06-02T19:49:46.985661Z"
    }
   },
   "id": "83e664145726d297",
   "execution_count": 324
  },
  {
   "cell_type": "markdown",
   "source": [
    "### Loading the Data"
   ],
   "metadata": {
    "collapsed": false
   },
   "id": "52c35746933d93a3"
  },
  {
   "cell_type": "code",
   "execution_count": 325,
   "id": "initial_id",
   "metadata": {
    "collapsed": true,
    "ExecuteTime": {
     "end_time": "2024-06-02T19:49:49.341649Z",
     "start_time": "2024-06-02T19:49:46.992890Z"
    }
   },
   "outputs": [
    {
     "data": {
      "text/plain": "   ODATEDW OSOURCE  TCODE STATE    ZIP MAILCODE PVASTATE   DOB NOEXCH  \\\n0     8901     GRI      0    IL  61081                    3712      0   \n1     9401     BOA      1    CA  91326                    5202      0   \n2     9001     AMH      1    NC  27017                       0      0   \n3     8701     BRY      0    CA  95953                    2801      0   \n4     8601              0    FL  33176                    2001      0   \n\n  RECINHSE  ... TARGET_D HPHONE_D RFA_2R RFA_2F RFA_2A MDMAUD_R  MDMAUD_F  \\\n0           ...      0.0        0      L      4      E        X         X   \n1           ...      0.0        0      L      2      G        X         X   \n2           ...      0.0        1      L      4      E        X         X   \n3           ...      0.0        1      L      4      E        X         X   \n4        X  ...      0.0        1      L      2      F        X         X   \n\n  MDMAUD_A CLUSTER2 GEOCODE2  \n0        X     39.0        C  \n1        X      1.0        A  \n2        X     60.0        C  \n3        X     41.0        C  \n4        X     26.0        A  \n\n[5 rows x 481 columns]",
      "text/html": "<div>\n<style scoped>\n    .dataframe tbody tr th:only-of-type {\n        vertical-align: middle;\n    }\n\n    .dataframe tbody tr th {\n        vertical-align: top;\n    }\n\n    .dataframe thead th {\n        text-align: right;\n    }\n</style>\n<table border=\"1\" class=\"dataframe\">\n  <thead>\n    <tr style=\"text-align: right;\">\n      <th></th>\n      <th>ODATEDW</th>\n      <th>OSOURCE</th>\n      <th>TCODE</th>\n      <th>STATE</th>\n      <th>ZIP</th>\n      <th>MAILCODE</th>\n      <th>PVASTATE</th>\n      <th>DOB</th>\n      <th>NOEXCH</th>\n      <th>RECINHSE</th>\n      <th>...</th>\n      <th>TARGET_D</th>\n      <th>HPHONE_D</th>\n      <th>RFA_2R</th>\n      <th>RFA_2F</th>\n      <th>RFA_2A</th>\n      <th>MDMAUD_R</th>\n      <th>MDMAUD_F</th>\n      <th>MDMAUD_A</th>\n      <th>CLUSTER2</th>\n      <th>GEOCODE2</th>\n    </tr>\n  </thead>\n  <tbody>\n    <tr>\n      <th>0</th>\n      <td>8901</td>\n      <td>GRI</td>\n      <td>0</td>\n      <td>IL</td>\n      <td>61081</td>\n      <td></td>\n      <td></td>\n      <td>3712</td>\n      <td>0</td>\n      <td></td>\n      <td>...</td>\n      <td>0.0</td>\n      <td>0</td>\n      <td>L</td>\n      <td>4</td>\n      <td>E</td>\n      <td>X</td>\n      <td>X</td>\n      <td>X</td>\n      <td>39.0</td>\n      <td>C</td>\n    </tr>\n    <tr>\n      <th>1</th>\n      <td>9401</td>\n      <td>BOA</td>\n      <td>1</td>\n      <td>CA</td>\n      <td>91326</td>\n      <td></td>\n      <td></td>\n      <td>5202</td>\n      <td>0</td>\n      <td></td>\n      <td>...</td>\n      <td>0.0</td>\n      <td>0</td>\n      <td>L</td>\n      <td>2</td>\n      <td>G</td>\n      <td>X</td>\n      <td>X</td>\n      <td>X</td>\n      <td>1.0</td>\n      <td>A</td>\n    </tr>\n    <tr>\n      <th>2</th>\n      <td>9001</td>\n      <td>AMH</td>\n      <td>1</td>\n      <td>NC</td>\n      <td>27017</td>\n      <td></td>\n      <td></td>\n      <td>0</td>\n      <td>0</td>\n      <td></td>\n      <td>...</td>\n      <td>0.0</td>\n      <td>1</td>\n      <td>L</td>\n      <td>4</td>\n      <td>E</td>\n      <td>X</td>\n      <td>X</td>\n      <td>X</td>\n      <td>60.0</td>\n      <td>C</td>\n    </tr>\n    <tr>\n      <th>3</th>\n      <td>8701</td>\n      <td>BRY</td>\n      <td>0</td>\n      <td>CA</td>\n      <td>95953</td>\n      <td></td>\n      <td></td>\n      <td>2801</td>\n      <td>0</td>\n      <td></td>\n      <td>...</td>\n      <td>0.0</td>\n      <td>1</td>\n      <td>L</td>\n      <td>4</td>\n      <td>E</td>\n      <td>X</td>\n      <td>X</td>\n      <td>X</td>\n      <td>41.0</td>\n      <td>C</td>\n    </tr>\n    <tr>\n      <th>4</th>\n      <td>8601</td>\n      <td></td>\n      <td>0</td>\n      <td>FL</td>\n      <td>33176</td>\n      <td></td>\n      <td></td>\n      <td>2001</td>\n      <td>0</td>\n      <td>X</td>\n      <td>...</td>\n      <td>0.0</td>\n      <td>1</td>\n      <td>L</td>\n      <td>2</td>\n      <td>F</td>\n      <td>X</td>\n      <td>X</td>\n      <td>X</td>\n      <td>26.0</td>\n      <td>A</td>\n    </tr>\n  </tbody>\n</table>\n<p>5 rows × 481 columns</p>\n</div>"
     },
     "execution_count": 325,
     "metadata": {},
     "output_type": "execute_result"
    }
   ],
   "source": [
    "df = pd.read_csv('./data/cup98LRN.txt', sep = ',', chunksize=10000, low_memory=False)\n",
    "df = pd.concat(df, axis='rows')\n",
    "df.head()"
   ]
  },
  {
   "cell_type": "code",
   "outputs": [],
   "source": [
    "def get_feature_types(df):\n",
    "    feature_types = {}\n",
    "    for col in df.columns:\n",
    "        feature_types[col] = df[col].dtype\n",
    "    return feature_types\n",
    "feature_types = get_feature_types(df)"
   ],
   "metadata": {
    "collapsed": false,
    "ExecuteTime": {
     "end_time": "2024-06-02T19:49:49.351137Z",
     "start_time": "2024-06-02T19:49:49.342816Z"
    }
   },
   "id": "a0952b01f94282ec",
   "execution_count": 326
  },
  {
   "cell_type": "code",
   "outputs": [
    {
     "data": {
      "text/plain": "   ODATEDW OSOURCE  TCODE STATE    ZIP MAILCODE PVASTATE   DOB NOEXCH  \\\n0     8901     GRI      0    IL  61081                    3712      0   \n1     9401     BOA      1    CA  91326                    5202      0   \n2     9001     AMH      1    NC  27017                       0      0   \n3     8701     BRY      0    CA  95953                    2801      0   \n4     8601              0    FL  33176                    2001      0   \n\n  RECINHSE  ... TARGET_D HPHONE_D RFA_2R RFA_2F RFA_2A MDMAUD_R  MDMAUD_F  \\\n0           ...      0.0        0      L      4      E        X         X   \n1           ...      0.0        0      L      2      G        X         X   \n2           ...      0.0        1      L      4      E        X         X   \n3           ...      0.0        1      L      4      E        X         X   \n4        X  ...      0.0        1      L      2      F        X         X   \n\n  MDMAUD_A CLUSTER2 GEOCODE2  \n0        X     39.0        C  \n1        X      1.0        A  \n2        X     60.0        C  \n3        X     41.0        C  \n4        X     26.0        A  \n\n[5 rows x 481 columns]",
      "text/html": "<div>\n<style scoped>\n    .dataframe tbody tr th:only-of-type {\n        vertical-align: middle;\n    }\n\n    .dataframe tbody tr th {\n        vertical-align: top;\n    }\n\n    .dataframe thead th {\n        text-align: right;\n    }\n</style>\n<table border=\"1\" class=\"dataframe\">\n  <thead>\n    <tr style=\"text-align: right;\">\n      <th></th>\n      <th>ODATEDW</th>\n      <th>OSOURCE</th>\n      <th>TCODE</th>\n      <th>STATE</th>\n      <th>ZIP</th>\n      <th>MAILCODE</th>\n      <th>PVASTATE</th>\n      <th>DOB</th>\n      <th>NOEXCH</th>\n      <th>RECINHSE</th>\n      <th>...</th>\n      <th>TARGET_D</th>\n      <th>HPHONE_D</th>\n      <th>RFA_2R</th>\n      <th>RFA_2F</th>\n      <th>RFA_2A</th>\n      <th>MDMAUD_R</th>\n      <th>MDMAUD_F</th>\n      <th>MDMAUD_A</th>\n      <th>CLUSTER2</th>\n      <th>GEOCODE2</th>\n    </tr>\n  </thead>\n  <tbody>\n    <tr>\n      <th>0</th>\n      <td>8901</td>\n      <td>GRI</td>\n      <td>0</td>\n      <td>IL</td>\n      <td>61081</td>\n      <td></td>\n      <td></td>\n      <td>3712</td>\n      <td>0</td>\n      <td></td>\n      <td>...</td>\n      <td>0.0</td>\n      <td>0</td>\n      <td>L</td>\n      <td>4</td>\n      <td>E</td>\n      <td>X</td>\n      <td>X</td>\n      <td>X</td>\n      <td>39.0</td>\n      <td>C</td>\n    </tr>\n    <tr>\n      <th>1</th>\n      <td>9401</td>\n      <td>BOA</td>\n      <td>1</td>\n      <td>CA</td>\n      <td>91326</td>\n      <td></td>\n      <td></td>\n      <td>5202</td>\n      <td>0</td>\n      <td></td>\n      <td>...</td>\n      <td>0.0</td>\n      <td>0</td>\n      <td>L</td>\n      <td>2</td>\n      <td>G</td>\n      <td>X</td>\n      <td>X</td>\n      <td>X</td>\n      <td>1.0</td>\n      <td>A</td>\n    </tr>\n    <tr>\n      <th>2</th>\n      <td>9001</td>\n      <td>AMH</td>\n      <td>1</td>\n      <td>NC</td>\n      <td>27017</td>\n      <td></td>\n      <td></td>\n      <td>0</td>\n      <td>0</td>\n      <td></td>\n      <td>...</td>\n      <td>0.0</td>\n      <td>1</td>\n      <td>L</td>\n      <td>4</td>\n      <td>E</td>\n      <td>X</td>\n      <td>X</td>\n      <td>X</td>\n      <td>60.0</td>\n      <td>C</td>\n    </tr>\n    <tr>\n      <th>3</th>\n      <td>8701</td>\n      <td>BRY</td>\n      <td>0</td>\n      <td>CA</td>\n      <td>95953</td>\n      <td></td>\n      <td></td>\n      <td>2801</td>\n      <td>0</td>\n      <td></td>\n      <td>...</td>\n      <td>0.0</td>\n      <td>1</td>\n      <td>L</td>\n      <td>4</td>\n      <td>E</td>\n      <td>X</td>\n      <td>X</td>\n      <td>X</td>\n      <td>41.0</td>\n      <td>C</td>\n    </tr>\n    <tr>\n      <th>4</th>\n      <td>8601</td>\n      <td></td>\n      <td>0</td>\n      <td>FL</td>\n      <td>33176</td>\n      <td></td>\n      <td></td>\n      <td>2001</td>\n      <td>0</td>\n      <td>X</td>\n      <td>...</td>\n      <td>0.0</td>\n      <td>1</td>\n      <td>L</td>\n      <td>2</td>\n      <td>F</td>\n      <td>X</td>\n      <td>X</td>\n      <td>X</td>\n      <td>26.0</td>\n      <td>A</td>\n    </tr>\n  </tbody>\n</table>\n<p>5 rows × 481 columns</p>\n</div>"
     },
     "execution_count": 327,
     "metadata": {},
     "output_type": "execute_result"
    }
   ],
   "source": [
    "df.head()"
   ],
   "metadata": {
    "collapsed": false,
    "ExecuteTime": {
     "end_time": "2024-06-02T19:49:49.387097Z",
     "start_time": "2024-06-02T19:49:49.352244Z"
    }
   },
   "id": "84a6b1732ea52800",
   "execution_count": 327
  },
  {
   "cell_type": "code",
   "outputs": [
    {
     "data": {
      "text/plain": "            ODATEDW         TCODE           DOB           AGE       NUMCHLD  \\\ncount  95412.000000  95412.000000  95412.000000  71747.000000  12386.000000   \nmean    9141.363256     54.223117   2723.602933     61.611649      1.527773   \nstd      343.454752    953.844476   2132.241295     16.664199      0.806861   \nmin     8306.000000      0.000000      0.000000      1.000000      1.000000   \n25%     8801.000000      0.000000    201.000000     48.000000      1.000000   \n50%     9201.000000      1.000000   2610.000000     62.000000      1.000000   \n75%     9501.000000      2.000000   4601.000000     75.000000      2.000000   \nmax     9701.000000  72002.000000   9710.000000     98.000000      7.000000   \n\n             INCOME       WEALTH1           HIT       MBCRAFT      MBGARDEN  \\\ncount  74126.000000  50680.000000  95412.000000  42558.000000  42558.000000   \nmean       3.886248      5.345699      3.321438      0.152075      0.059166   \nstd        1.854960      2.742490      9.306899      0.470023      0.262078   \nmin        1.000000      0.000000      0.000000      0.000000      0.000000   \n25%        2.000000      3.000000      0.000000      0.000000      0.000000   \n50%        4.000000      6.000000      0.000000      0.000000      0.000000   \n75%        5.000000      8.000000      3.000000      0.000000      0.000000   \nmax        7.000000      9.000000    241.000000      6.000000      4.000000   \n\n       ...      FISTDATE      NEXTDATE       TIMELAG       AVGGIFT  \\\ncount  ...  95412.000000  85439.000000  85439.000000  95412.000000   \nmean   ...   9135.651648   9151.022917      8.093739     13.347786   \nstd    ...    320.394019    294.257260      8.213242     10.769997   \nmin    ...      0.000000   7211.000000      0.000000      1.285714   \n25%    ...   8810.000000   8903.000000      4.000000      8.384615   \n50%    ...   9201.000000   9204.000000      6.000000     11.636364   \n75%    ...   9409.000000   9409.000000     11.000000     15.477955   \nmax    ...   9603.000000   9702.000000   1088.000000   1000.000000   \n\n            CONTROLN      TARGET_B      TARGET_D      HPHONE_D        RFA_2F  \\\ncount   95412.000000  95412.000000  95412.000000  95412.000000  95412.000000   \nmean    95778.176959      0.050759      0.793073      0.500618      1.910053   \nstd     55284.596094      0.219506      4.429725      0.500002      1.072749   \nmin         1.000000      0.000000      0.000000      0.000000      1.000000   \n25%     47910.750000      0.000000      0.000000      0.000000      1.000000   \n50%     95681.500000      0.000000      0.000000      1.000000      2.000000   \n75%    143643.500000      0.000000      0.000000      1.000000      3.000000   \nmax    191779.000000      1.000000    200.000000      1.000000      4.000000   \n\n           CLUSTER2  \ncount  95280.000000  \nmean      31.533711  \nstd       18.764614  \nmin        1.000000  \n25%       15.000000  \n50%       32.000000  \n75%       49.000000  \nmax       62.000000  \n\n[8 rows x 407 columns]",
      "text/html": "<div>\n<style scoped>\n    .dataframe tbody tr th:only-of-type {\n        vertical-align: middle;\n    }\n\n    .dataframe tbody tr th {\n        vertical-align: top;\n    }\n\n    .dataframe thead th {\n        text-align: right;\n    }\n</style>\n<table border=\"1\" class=\"dataframe\">\n  <thead>\n    <tr style=\"text-align: right;\">\n      <th></th>\n      <th>ODATEDW</th>\n      <th>TCODE</th>\n      <th>DOB</th>\n      <th>AGE</th>\n      <th>NUMCHLD</th>\n      <th>INCOME</th>\n      <th>WEALTH1</th>\n      <th>HIT</th>\n      <th>MBCRAFT</th>\n      <th>MBGARDEN</th>\n      <th>...</th>\n      <th>FISTDATE</th>\n      <th>NEXTDATE</th>\n      <th>TIMELAG</th>\n      <th>AVGGIFT</th>\n      <th>CONTROLN</th>\n      <th>TARGET_B</th>\n      <th>TARGET_D</th>\n      <th>HPHONE_D</th>\n      <th>RFA_2F</th>\n      <th>CLUSTER2</th>\n    </tr>\n  </thead>\n  <tbody>\n    <tr>\n      <th>count</th>\n      <td>95412.000000</td>\n      <td>95412.000000</td>\n      <td>95412.000000</td>\n      <td>71747.000000</td>\n      <td>12386.000000</td>\n      <td>74126.000000</td>\n      <td>50680.000000</td>\n      <td>95412.000000</td>\n      <td>42558.000000</td>\n      <td>42558.000000</td>\n      <td>...</td>\n      <td>95412.000000</td>\n      <td>85439.000000</td>\n      <td>85439.000000</td>\n      <td>95412.000000</td>\n      <td>95412.000000</td>\n      <td>95412.000000</td>\n      <td>95412.000000</td>\n      <td>95412.000000</td>\n      <td>95412.000000</td>\n      <td>95280.000000</td>\n    </tr>\n    <tr>\n      <th>mean</th>\n      <td>9141.363256</td>\n      <td>54.223117</td>\n      <td>2723.602933</td>\n      <td>61.611649</td>\n      <td>1.527773</td>\n      <td>3.886248</td>\n      <td>5.345699</td>\n      <td>3.321438</td>\n      <td>0.152075</td>\n      <td>0.059166</td>\n      <td>...</td>\n      <td>9135.651648</td>\n      <td>9151.022917</td>\n      <td>8.093739</td>\n      <td>13.347786</td>\n      <td>95778.176959</td>\n      <td>0.050759</td>\n      <td>0.793073</td>\n      <td>0.500618</td>\n      <td>1.910053</td>\n      <td>31.533711</td>\n    </tr>\n    <tr>\n      <th>std</th>\n      <td>343.454752</td>\n      <td>953.844476</td>\n      <td>2132.241295</td>\n      <td>16.664199</td>\n      <td>0.806861</td>\n      <td>1.854960</td>\n      <td>2.742490</td>\n      <td>9.306899</td>\n      <td>0.470023</td>\n      <td>0.262078</td>\n      <td>...</td>\n      <td>320.394019</td>\n      <td>294.257260</td>\n      <td>8.213242</td>\n      <td>10.769997</td>\n      <td>55284.596094</td>\n      <td>0.219506</td>\n      <td>4.429725</td>\n      <td>0.500002</td>\n      <td>1.072749</td>\n      <td>18.764614</td>\n    </tr>\n    <tr>\n      <th>min</th>\n      <td>8306.000000</td>\n      <td>0.000000</td>\n      <td>0.000000</td>\n      <td>1.000000</td>\n      <td>1.000000</td>\n      <td>1.000000</td>\n      <td>0.000000</td>\n      <td>0.000000</td>\n      <td>0.000000</td>\n      <td>0.000000</td>\n      <td>...</td>\n      <td>0.000000</td>\n      <td>7211.000000</td>\n      <td>0.000000</td>\n      <td>1.285714</td>\n      <td>1.000000</td>\n      <td>0.000000</td>\n      <td>0.000000</td>\n      <td>0.000000</td>\n      <td>1.000000</td>\n      <td>1.000000</td>\n    </tr>\n    <tr>\n      <th>25%</th>\n      <td>8801.000000</td>\n      <td>0.000000</td>\n      <td>201.000000</td>\n      <td>48.000000</td>\n      <td>1.000000</td>\n      <td>2.000000</td>\n      <td>3.000000</td>\n      <td>0.000000</td>\n      <td>0.000000</td>\n      <td>0.000000</td>\n      <td>...</td>\n      <td>8810.000000</td>\n      <td>8903.000000</td>\n      <td>4.000000</td>\n      <td>8.384615</td>\n      <td>47910.750000</td>\n      <td>0.000000</td>\n      <td>0.000000</td>\n      <td>0.000000</td>\n      <td>1.000000</td>\n      <td>15.000000</td>\n    </tr>\n    <tr>\n      <th>50%</th>\n      <td>9201.000000</td>\n      <td>1.000000</td>\n      <td>2610.000000</td>\n      <td>62.000000</td>\n      <td>1.000000</td>\n      <td>4.000000</td>\n      <td>6.000000</td>\n      <td>0.000000</td>\n      <td>0.000000</td>\n      <td>0.000000</td>\n      <td>...</td>\n      <td>9201.000000</td>\n      <td>9204.000000</td>\n      <td>6.000000</td>\n      <td>11.636364</td>\n      <td>95681.500000</td>\n      <td>0.000000</td>\n      <td>0.000000</td>\n      <td>1.000000</td>\n      <td>2.000000</td>\n      <td>32.000000</td>\n    </tr>\n    <tr>\n      <th>75%</th>\n      <td>9501.000000</td>\n      <td>2.000000</td>\n      <td>4601.000000</td>\n      <td>75.000000</td>\n      <td>2.000000</td>\n      <td>5.000000</td>\n      <td>8.000000</td>\n      <td>3.000000</td>\n      <td>0.000000</td>\n      <td>0.000000</td>\n      <td>...</td>\n      <td>9409.000000</td>\n      <td>9409.000000</td>\n      <td>11.000000</td>\n      <td>15.477955</td>\n      <td>143643.500000</td>\n      <td>0.000000</td>\n      <td>0.000000</td>\n      <td>1.000000</td>\n      <td>3.000000</td>\n      <td>49.000000</td>\n    </tr>\n    <tr>\n      <th>max</th>\n      <td>9701.000000</td>\n      <td>72002.000000</td>\n      <td>9710.000000</td>\n      <td>98.000000</td>\n      <td>7.000000</td>\n      <td>7.000000</td>\n      <td>9.000000</td>\n      <td>241.000000</td>\n      <td>6.000000</td>\n      <td>4.000000</td>\n      <td>...</td>\n      <td>9603.000000</td>\n      <td>9702.000000</td>\n      <td>1088.000000</td>\n      <td>1000.000000</td>\n      <td>191779.000000</td>\n      <td>1.000000</td>\n      <td>200.000000</td>\n      <td>1.000000</td>\n      <td>4.000000</td>\n      <td>62.000000</td>\n    </tr>\n  </tbody>\n</table>\n<p>8 rows × 407 columns</p>\n</div>"
     },
     "execution_count": 328,
     "metadata": {},
     "output_type": "execute_result"
    }
   ],
   "source": [
    "df.describe()"
   ],
   "metadata": {
    "collapsed": false,
    "ExecuteTime": {
     "end_time": "2024-06-02T19:49:51.118131Z",
     "start_time": "2024-06-02T19:49:49.388103Z"
    }
   },
   "id": "5b6742ba4434a48a",
   "execution_count": 328
  },
  {
   "cell_type": "code",
   "outputs": [],
   "source": [
    "id = ['CONTROLN']\n",
    "num_feats = ['ODATEDW', 'DOB', 'AGE', 'NUMCHLD', 'INCOME', 'HIT', 'MBCRAFT', \"MBGARDEN\", \"MBBOOKS\", \"MBCOLECT\", \"MAGFAML\", \"MAGFEM\", \"MAGMALE\", \"PUBGARDN\", \"PUBCULIN\", \"PUBHLTH\", \"PUBDOITY\", \"PUBNEWFN\", \"PUBPHOTO\", \"PUBOPP\", 'MALEMILI', 'MALEVET', 'VIETVETS', 'WWIIVETS', 'LOCALGOV', 'STATEGOV', 'FEDGOV', 'POP901', 'POP902', 'POP903', 'POP90C1', 'POP90C2', 'POP90C3', 'POP90C4', 'POP90C5', 'ETH1', 'ETH2', 'ETH3', 'ETH4', 'ETH5', 'ETH6', 'ETH7', 'ETH8', 'ETH9', 'ETH10', 'ETH11', 'ETH12', 'ETH13', 'ETH14', 'ETH15', 'ETH16', 'AGE901', 'AGE902', 'AGE903', 'AGE904', 'AGE905', 'AGE906', 'AGE907', 'CHIL1', 'CHIL2', 'CHIL3', 'AGEC1', 'AGEC2', 'AGEC3', 'AGEC4', 'AGEC5', 'AGEC6', 'AGEC7', 'CHILC1', 'CHILC2', 'CHILC3', 'CHILC4', 'CHILC5', \"HHAGE1\", \"HHAGE2\", \"HHAGE3\", \"HHN1\", \"HHN2\", \"HHN3\", \"HHN4\", \"HHN5\", \"HHN6\", \"MARR1\", \"MARR2\", \"MARR3\", \"MARR4\", \"HHP1\", \"HHP2\", \"DW1\", \"DW2\", \"DW3\", \"DW4\", \"DW5\", \"DW6\", \"DW7\", \"DW8\", \"DW9\", \"HV1\", \"HV2\", \"HV3\", \"HV4\", \"HU1\", \"HU2\", \"HU3\", \"HU4\", \"HU5\", \"HHD1\", \"HHD2\", \"HHD3\", \"HHD4\", \"HHD5\", \"HHD6\", \"HHD7\", \"HHD8\", \"HHD9\", \"HHD10\", \"HHD11\", \"HHD12\", \"ETHC1\", \"ETHC2\", \"ETHC3\", \"ETHC4\",\"ETHC5\", \"ETHC6\", \"HVP1\", \"HVP2\", \"HVP3\", \"HVP4\", \"HVP5\", \"HVP6\", \"HUR1\", \"HUR2\", \"RHP1\", \"RHP2\", \"RHP3\", \"RHP4\", \"HUPA1\", \"HUPA2\", \"HUPA3\", \"HUPA4\", \"HUPA5\", \"HUPA6\", \"HUPA7\", \"RP1\", \"RP2\", \"RP3\", \"RP4\", \"IC1\", \"IC2\", \"IC3\", \"IC4\", \"IC5\", \"IC6\", \"IC7\", \"IC8\", \"IC9\", \"IC10\", \"IC11\", \"IC12\", \"IC13\", \"IC14\", \"IC15\", \"IC16\", \"IC17\", \"IC18\", \"IC19\", \"IC20\", \"IC21\", \"IC22\", \"IC23\", \"HHAS1\", \"HHAS2\", \"HHAS3\", \"HHAS4\", \"MC1\", \"MC2\", \"MC3\", \"TPE1\", \"TPE2\", \"TPE3\", \"TPE4\", \"TPE5\", \"TPE6\", \"TPE7\", \"TPE8\", \"TPE9\", \"PEC1\", \"PEC2\", \"TPE10\", \"TPE11\", \"TPE12\", \"TPE13\", \"LFC1\", \"LFC2\", \"LFC3\", \"LFC4\", \"LFC5\", \"LFC6\", \"LFC7\", \"LFC8\", \"LFC9\", \"LFC10\", \"OCC1\", \"OCC2\", \"OCC3\", \"OCC4\", \"OCC5\", \"OCC6\", \"OCC7\", \"OCC8\", \"OCC9\", \"OCC10\", \"OCC11\", \"OCC12\", \"OCC13\", \"EIC1\", \"EIC2\", \"EIC3\", \"EIC4\", \"EIC5\", \"EIC6\", \"EIC7\", \"EIC8\", \"EIC9\", \"EIC10\", \"EIC11\", \"EIC12\", \"EIC13\", \"EIC14\", \"EIC15\", \"EIC16\", \"OEDC1\", \"OEDC2\", \"OEDC3\", \"OEDC4\", \"OEDC5\", \"OEDC6\", \"OEDC7\", \"EC1\", \"EC2\", \"EC3\", \"EC4\", \"EC5\", \"EC6\", \"EC7\", \"EC8\", \"SEC1\", \"SEC2\", \"SEC3\", \"SEC4\", \"SEC5\", \"AFC1\", \"AFC2\", \"AFC3\", \"AFC4\", \"AFC5\", \"AFC6\", \"VC1\", \"VC2\", \"VC3\", \"VC4\", \"ANC1\", \"ANC2\", \"ANC3\", \"ANC4\", \"ANC5\", \"ANC6\", \"ANC7\", \"ANC8\", \"ANC9\", \"ANC10\", \"ANC11\", \"ANC12\", \"ANC13\", \"ANC14\", \"ANC15\", \"POBC1\", \"POBC2\", \"LSC1\", \"LSC2\", \"LSC3\", \"LSC4\", \"VOC1\", \"VOC2\", \"VOC3\", \"HC1\", \"HC2\", \"HC3\", \"HC4\", \"HC5\", \"HC6\", \"HC7\", \"HC8\", \"HC9\", \"HC10\", \"HC11\", \"HC12\", \"HC13\", \"HC14\", \"HC15\", \"HC16\", \"HC17\", \"HC18\", \"HC19\", \"HC20\", \"HC21\", \"MHUC1\", \"MHUC2\", \"AC1\", \"AC2\", 'CARDPROM', 'NUMPROM', 'CARDPM12', 'NUMPRM12', \"RAMNT_3\", \"RAMNT_4\", \"RAMNT_5\", \"RAMNT_6\", \"RAMNT_7\", \"RAMNT_8\", \"RAMNT_9\", \"RAMNT_10\", \"RAMNT_11\", \"RAMNT_12\", \"RAMNT_13\", \"RAMNT_14\", \"RAMNT_15\", \"RAMNT_16\", \"RAMNT_17\", \"RAMNT_18\", \"RAMNT_19\", \"RAMNT_20\", \"RAMNT_21\", \"RAMNT_22\", \"RAMNT_23\", \"RAMNT_24\", \"RAMNTALL\", \"NGIFTALL\", \"CARDGIFT\", \"MINRAMNT\", \"MINRDATE\", \"MAXRAMNT\", \"MAXRDATE\", \"LASTGIFT\", \"LASTDATE\", \"FISTDATE\", \"NEXTDATE\", \"TIMELAG\", \"AVGGIFT\", \"ADATE_2\", \"ADATE_3\", \"ADATE_4\", \"ADATE_5\", \"ADATE_6\", \"ADATE_7\", \"ADATE_8\", \"ADATE_9\", \"ADATE_10\", \"ADATE_11\", \"ADATE_12\", \"ADATE_13\", \"ADATE_14\", \"ADATE_15\", \"ADATE_16\", \"ADATE_17\", \"ADATE_18\", \"ADATE_19\", \"ADATE_20\", \"ADATE_21\", \"ADATE_22\", \"ADATE_23\", \"ADATE_24\"]\n",
    "cat_feats = ['OSOURCE', 'TCODE', 'STATE', 'ZIP', 'MAILCODE', 'PVASTATE', 'NOEXCH', 'RECINHSE', 'RECP3', 'RECPGVG', 'RECSWEEP', 'MDMAUD', 'DOMAIN', 'CLUSTER', 'AGEFLAG', 'HOMEOWNR', 'CHILD03', 'CHILD07', 'CHILD12', 'CHILD18', 'GENDER', 'WEALTH1', 'DATASRCE', 'SOLP3', 'SOLIH', 'MAJOR', 'WEALTH2', 'GEOCODE', 'COLLECT1', 'VETERANS', 'BIBLE', 'CATLG', 'HOMEE', 'PETS', 'CDPLAY', 'STEREO', 'PCOWNERS', 'PHOTO', 'CRAFTS', 'FISHER', 'GARDENIN', 'BOATS', 'WALKER', 'KIDSTUFF', 'CARDS', 'PLATES', 'LIFESRC', 'PEPSTRFL', \"MSA\", \"ADI\", \"DMA\", \"RFA_2\", \"RFA_3\", \"RFA_4\", \"RFA_5\", \"RFA_6\", \"RFA_7\", \"RFA_8\", \"RFA_9\", \"RFA_10\", \"RFA_11\", \"RFA_12\", \"RFA_13\", \"RFA_14\", \"RFA_15\", \"RFA_16\", \"RFA_17\", \"RFA_18\", \"RFA_19\", \"RFA_20\", \"RFA_21\", \"RFA_22\", \"RFA_23\", \"RFA_24\", 'MAXADATE', 'HPHONE_D', \"RFA_2R\", \"RFA_2F\", \"RFA_2A\", \"MDMAUD_R\", \"MDMAUD_F\", \"MDMAUD_A\", 'CLUSTER2', 'GEOCODE2']\n",
    "ordinal_feats = ['DOMAIN', 'WEALTH1', 'SOLP3', 'SOLIH', 'WEALTH2', \"RFA_2\", \"RFA_3\", \"RFA_4\", \"RFA_5\", \"RFA_6\", \"RFA_7\", \"RFA_8\", \"RFA_9\", \"RFA_10\", \"RFA_11\", \"RFA_12\", \"RFA_13\", \"RFA_14\", \"RFA_15\", \"RFA_16\", \"RFA_17\", \"RFA_18\", \"RFA_19\", \"RFA_20\", \"RFA_21\", \"RFA_22\", \"RFA_23\", \"RFA_24\", \"RFA_2R\", \"RFA_2F\", \"RFA_2A\", \"MDMAUD_R\", \"MDMAUD_F\", \"MDMAUD_A\"]\n",
    "targets = ['TARGET_B', 'TARGET_D']"
   ],
   "metadata": {
    "collapsed": false,
    "ExecuteTime": {
     "end_time": "2024-06-02T19:49:51.132057Z",
     "start_time": "2024-06-02T19:49:51.118203Z"
    }
   },
   "id": "b9735cba0bdade57",
   "execution_count": 329
  },
  {
   "cell_type": "markdown",
   "source": [
    "### Drop unaligned features\n",
    "This is to drop all features that are not aligned with the variable definitions in the KDD Cup 1998 documention. If they are not aligned (for example where a variable should be binary according to the document, but does not have 2 unique values). No information can be inferred as to what the extra values are, so we drop them."
   ],
   "metadata": {
    "collapsed": false
   },
   "id": "8aeafb1a4af42cb6"
  },
  {
   "cell_type": "code",
   "outputs": [],
   "source": [
    "# Find binary features in dataset\n",
    "def get_binary_features(df):\n",
    "    binary_features = []\n",
    "    for col in df.columns:\n",
    "        if df[col].nunique() == 2:\n",
    "            binary_features.append(col)\n",
    "    return binary_features\n",
    "found_binary = get_binary_features(df)"
   ],
   "metadata": {
    "collapsed": false,
    "ExecuteTime": {
     "end_time": "2024-06-02T19:49:51.933350Z",
     "start_time": "2024-06-02T19:49:51.133150Z"
    }
   },
   "id": "71ef874c33a8d3c4",
   "execution_count": 330
  },
  {
   "cell_type": "code",
   "outputs": [],
   "source": [
    "# True binary features indicated in KDD CUP 1998 docs\n",
    "true_binary = [\n",
    "    'MAILCODE', 'PVASTATE', 'NOEXCH', 'RECINHSE', 'RECP3', 'RECPGVG', 'RECSWEEP', 'AGEFLAG', 'HOMEOWNR', 'CHILD07', 'CHILD12', 'CHILD18', 'MAJOR', 'COLLECT1', 'VETERANS', 'BIBLE', 'CATLG', 'HOMEE', 'PETS', 'CDPLAY', 'STEREO', 'PCOWNERS', 'PHOTO', 'CRAFTS', 'FISHER', 'GARDENIN', 'BOATS', 'WALKER', 'KIDSTUFF', 'CARDS', 'PLATES', 'PEPSTRFL', 'TARGET_B', 'HPHONE_D'\n",
    "]"
   ],
   "metadata": {
    "collapsed": false,
    "ExecuteTime": {
     "end_time": "2024-06-02T19:49:51.937648Z",
     "start_time": "2024-06-02T19:49:51.934429Z"
    }
   },
   "id": "cfb6eebd72cb19d0",
   "execution_count": 331
  },
  {
   "cell_type": "code",
   "outputs": [],
   "source": [
    "# intersection (features that are true and found binary)\n",
    "binary_features = list(set(found_binary).intersection(true_binary))\n",
    "\n",
    "# difference between binary_features and true_binary (features that are true binary but not found)\n",
    "true_not_found_features = list(set(true_binary).difference(binary_features))\n",
    "\n",
    "# difference between found_binary and binary_features (features that are found binary but not true)\n",
    "found_not_true_features = list(set(found_binary).difference(binary_features))"
   ],
   "metadata": {
    "collapsed": false,
    "ExecuteTime": {
     "end_time": "2024-06-02T19:49:51.941416Z",
     "start_time": "2024-06-02T19:49:51.938747Z"
    }
   },
   "id": "b29d0e119736292d",
   "execution_count": 332
  },
  {
   "cell_type": "code",
   "outputs": [],
   "source": [
    "# Drop features that are true binary but not found to be\n",
    "df.drop(columns=true_not_found_features, inplace=True)\n",
    "num_feats = [value for value in num_feats if value not in true_not_found_features]\n",
    "cat_feats = [value for value in cat_feats if value not in true_not_found_features]"
   ],
   "metadata": {
    "collapsed": false,
    "ExecuteTime": {
     "end_time": "2024-06-02T19:49:52.051997Z",
     "start_time": "2024-06-02T19:49:51.942432Z"
    }
   },
   "id": "ecb0376377151eb5",
   "execution_count": 333
  },
  {
   "cell_type": "markdown",
   "source": [
    "### Set proper dtype\n",
    "Setting dtype to integer for character dtype columns with integers as strings.\n",
    "ZIP, and CLUSTER codes are maintained (no one-hot encoding due to high cardinality)\n",
    "\n",
    "*N.B. Only to be run after binary encoding*"
   ],
   "metadata": {
    "collapsed": false
   },
   "id": "842097c7e0272d1b"
  },
  {
   "cell_type": "code",
   "outputs": [],
   "source": [
    "# replace blanks with 99 and convert to numeric\n",
    "df['SOLP3'] = df['SOLP3'].replace(' ', 99).astype(int)\n",
    "df['SOLIH'] = df['SOLIH'].replace(' ', 99).astype(int)\n",
    "df['CLUSTER'] = df['CLUSTER'].replace(' ', -1).astype(int)\n",
    "df['ZIP'] = df['ZIP'].astype(str).str.replace('-', '').astype(int)"
   ],
   "metadata": {
    "collapsed": false,
    "ExecuteTime": {
     "end_time": "2024-06-02T19:49:52.100167Z",
     "start_time": "2024-06-02T19:49:52.053038Z"
    }
   },
   "id": "1bc3f7ae40c19178",
   "execution_count": 334
  },
  {
   "cell_type": "markdown",
   "source": [
    "### Encoding binary features"
   ],
   "metadata": {
    "collapsed": false
   },
   "id": "b770eccd8de8e430"
  },
  {
   "cell_type": "code",
   "outputs": [
    {
     "data": {
      "text/plain": "{'WALKER': {' ': 0, 'Y': 1},\n 'PLATES': {' ': 0, 'Y': 1},\n 'BIBLE': {' ': 0, 'Y': 1},\n 'HPHONE_D': {0: 0, 1: 1},\n 'PETS': {' ': 0, 'Y': 1},\n 'GARDENIN': {' ': 0, 'Y': 1},\n 'CRAFTS': {' ': 0, 'Y': 1},\n 'PHOTO': {' ': 0, 'Y': 1},\n 'RECINHSE': {' ': 0, 'X': 1},\n 'RECP3': {' ': 0, 'X': 1},\n 'HOMEE': {' ': 0, 'Y': 1},\n 'CATLG': {' ': 0, 'Y': 1},\n 'BOATS': {' ': 0, 'Y': 1},\n 'PCOWNERS': {' ': 0, 'Y': 1},\n 'CARDS': {' ': 0, 'Y': 1},\n 'STEREO': {' ': 0, 'Y': 1},\n 'MAILCODE': {' ': 0, 'B': 1},\n 'PEPSTRFL': {'X': 0, ' ': 1},\n 'COLLECT1': {' ': 0, 'Y': 1},\n 'TARGET_B': {0: 0, 1: 1},\n 'VETERANS': {' ': 0, 'Y': 1},\n 'KIDSTUFF': {' ': 0, 'Y': 1},\n 'CDPLAY': {' ': 0, 'Y': 1},\n 'RECPGVG': {' ': 0, 'X': 1},\n 'FISHER': {' ': 0, 'Y': 1},\n 'MAJOR': {' ': 0, 'X': 1},\n 'RECSWEEP': {' ': 0, 'X': 1}}"
     },
     "execution_count": 335,
     "metadata": {},
     "output_type": "execute_result"
    }
   ],
   "source": [
    "# get dictionary of binary features and their encoding\n",
    "def get_binary_encoding(df, cols):\n",
    "    binary_encoding = {}\n",
    "    for col in cols:\n",
    "        binary_encoding[col] = {df[col].unique()[0]: 0, df[col].unique()[1]: 1}\n",
    "    return binary_encoding\n",
    "binary_encoding = get_binary_encoding(df, binary_features)\n",
    "binary_encoding"
   ],
   "metadata": {
    "collapsed": false,
    "ExecuteTime": {
     "end_time": "2024-06-02T19:49:52.236860Z",
     "start_time": "2024-06-02T19:49:52.101361Z"
    }
   },
   "id": "8f13d16ef6c8a8fc",
   "execution_count": 335
  },
  {
   "cell_type": "code",
   "outputs": [],
   "source": [
    "# Binary encoding function\n",
    "def encode_binary(df, cols, from_to):\n",
    "    for col in cols:\n",
    "        encoding = from_to[col]\n",
    "        df[col] = df[col].replace(encoding)\n",
    "    return df"
   ],
   "metadata": {
    "collapsed": false,
    "ExecuteTime": {
     "end_time": "2024-06-02T19:49:52.241049Z",
     "start_time": "2024-06-02T19:49:52.236999Z"
    }
   },
   "id": "20450000d3a760b4",
   "execution_count": 336
  },
  {
   "cell_type": "code",
   "outputs": [
    {
     "name": "stderr",
     "output_type": "stream",
     "text": [
      "C:\\Users\\darry\\AppData\\Local\\Temp\\ipykernel_13920\\1813438623.py:5: FutureWarning: Downcasting behavior in `replace` is deprecated and will be removed in a future version. To retain the old behavior, explicitly call `result.infer_objects(copy=False)`. To opt-in to the future behavior, set `pd.set_option('future.no_silent_downcasting', True)`\n",
      "  df[col] = df[col].replace(encoding)\n"
     ]
    }
   ],
   "source": [
    "# Encode binary features\n",
    "df = encode_binary(df, binary_features, binary_encoding)"
   ],
   "metadata": {
    "collapsed": false,
    "ExecuteTime": {
     "end_time": "2024-06-02T19:49:52.702610Z",
     "start_time": "2024-06-02T19:49:52.241227Z"
    }
   },
   "id": "fd3f695395b05b02",
   "execution_count": 337
  },
  {
   "cell_type": "markdown",
   "source": [
    "### Multiclass categorical feature encoding"
   ],
   "metadata": {
    "collapsed": false
   },
   "id": "cb138620790da437"
  },
  {
   "cell_type": "markdown",
   "source": [
    "First we find the features that are categorical (have dtype object, not all true categorical features). Then we shall handle these features one by one."
   ],
   "metadata": {
    "collapsed": false
   },
   "id": "5093dcf55f16a064"
  },
  {
   "cell_type": "code",
   "outputs": [
    {
     "data": {
      "text/plain": "{'OSOURCE': 896,\n 'STATE': 57,\n 'MDMAUD': 28,\n 'DOMAIN': 17,\n 'CHILD03': 4,\n 'GENDER': 7,\n 'DATASRCE': 4,\n 'GEOCODE': 8,\n 'LIFESRC': 4,\n 'RFA_2': 14,\n 'RFA_3': 71,\n 'RFA_4': 64,\n 'RFA_5': 41,\n 'RFA_6': 109,\n 'RFA_7': 106,\n 'RFA_8': 109,\n 'RFA_9': 107,\n 'RFA_10': 94,\n 'RFA_11': 101,\n 'RFA_12': 107,\n 'RFA_13': 87,\n 'RFA_14': 95,\n 'RFA_15': 34,\n 'RFA_16': 123,\n 'RFA_17': 118,\n 'RFA_18': 122,\n 'RFA_19': 108,\n 'RFA_20': 80,\n 'RFA_21': 102,\n 'RFA_22': 117,\n 'RFA_23': 87,\n 'RFA_24': 97,\n 'RFA_2R': 1,\n 'RFA_2A': 4,\n 'MDMAUD_R': 5,\n 'MDMAUD_F': 4,\n 'MDMAUD_A': 5,\n 'GEOCODE2': 5}"
     },
     "execution_count": 338,
     "metadata": {},
     "output_type": "execute_result"
    }
   ],
   "source": [
    "# Number of modalities for each feature\n",
    "def get_categorical_modalities(df):\n",
    "    categorical_features = []\n",
    "    for col in df.columns:\n",
    "        if df[col].dtype == 'object':\n",
    "            categorical_features.append(col)\n",
    "    categorical_modalities = {}\n",
    "    for col in categorical_features:\n",
    "        categorical_modalities[col] = df[col].nunique()\n",
    "    return categorical_features, categorical_modalities\n",
    "categorical_features, categorical_modalities = get_categorical_modalities(df)\n",
    "categorical_modalities"
   ],
   "metadata": {
    "collapsed": false,
    "ExecuteTime": {
     "end_time": "2024-06-02T19:49:52.818841Z",
     "start_time": "2024-06-02T19:49:52.703820Z"
    }
   },
   "id": "6baa4682154e600f",
   "execution_count": 338
  },
  {
   "cell_type": "markdown",
   "source": [
    "*Custom function to bitwise encode RFA, MDMAUD, DOMAIN*"
   ],
   "metadata": {
    "collapsed": false
   },
   "id": "c2af44a4ef301639"
  },
  {
   "cell_type": "code",
   "outputs": [],
   "source": [
    "def byte_encoder(code, byte_mapping, true_len, byte_pos):\n",
    "    if pd.isna(code) or (isinstance(code, str) and len(code) != true_len):\n",
    "        return np.nan\n",
    "    elif code == 0 or 'X' in code:\n",
    "        return 0\n",
    "    else:\n",
    "        byte = byte_mapping.get(code[byte_pos])\n",
    "        return f\"{code[:byte_pos]}{byte}{code[byte_pos+1:]}\""
   ],
   "metadata": {
    "collapsed": false,
    "ExecuteTime": {
     "end_time": "2024-06-02T19:49:52.823711Z",
     "start_time": "2024-06-02T19:49:52.819906Z"
    }
   },
   "id": "90b417bec77056e4",
   "execution_count": 339
  },
  {
   "cell_type": "markdown",
   "source": [
    "*DOMAIN encoding*\n",
    "1st byte encoding (level of urbanicity):\n",
    "- R -> 1\n",
    "- T -> 2\n",
    "- S -> 3\n",
    "- C -> 4\n",
    "- U -> 5"
   ],
   "metadata": {
    "collapsed": false
   },
   "id": "edfb31b799b65e67"
  },
  {
   "cell_type": "code",
   "outputs": [],
   "source": [
    "# Code mapping\n",
    "dom_byte_mapping = {'R': 1, 'T': 2, 'S': 3, 'C': 4, 'U': 5}\n",
    "\n",
    "df['DOMAIN'] = df['DOMAIN'].apply(byte_encoder, args=(dom_byte_mapping, 2, 0))\n",
    "df['DOMAIN'] = pd.to_numeric(df['DOMAIN'], errors='coerce').astype('Int64')"
   ],
   "metadata": {
    "collapsed": false,
    "ExecuteTime": {
     "end_time": "2024-06-02T19:49:52.949707Z",
     "start_time": "2024-06-02T19:49:52.824718Z"
    }
   },
   "id": "cf0b988c5337f750",
   "execution_count": 340
  },
  {
   "cell_type": "markdown",
   "source": [
    "*RFA encoding*\n",
    "\n",
    "Encoding of 1st byte: \n",
    "- F -> 1\n",
    "- N -> 2\n",
    "- I -> 3\n",
    "- L -> 5 \n",
    "- A -> 6\n",
    "- S -> 7\n",
    "\n",
    "Encoding of 3rd byte:\n",
    "- A -> 1\n",
    "- B -> 3\n",
    "- C -> 4\n",
    "- D -> 8\n",
    "- E -> 13\n",
    "- F -> 20\n",
    "- G -> 25"
   ],
   "metadata": {
    "collapsed": false
   },
   "id": "dc6fbe5fdadc3fa4"
  },
  {
   "cell_type": "markdown",
   "source": [],
   "metadata": {
    "collapsed": false
   },
   "id": "489d30323040c6f4"
  },
  {
   "cell_type": "code",
   "outputs": [],
   "source": [
    "# Code mapping\n",
    "first_byte_mapping = {'F': 1, 'N': 2, 'I': 3, 'L': 5, 'A': 6, 'S': 7}\n",
    "third_byte_mapping = {'A': 1, 'B': 3, 'C': 4, 'D': 8, 'E': 13, 'F': 20, 'G': 25}\n",
    "\n",
    "for col in categorical_features:\n",
    "    if col.startswith('RFA'):\n",
    "        if col.endswith('R'):\n",
    "            df[col] = df[col].apply(byte_encoder, args=(first_byte_mapping, 1, 0))\n",
    "        elif  col.endswith('A'):\n",
    "            df[col] = df[col].apply(byte_encoder, args=(third_byte_mapping, 1, 0))\n",
    "        elif col.endswith('F'):\n",
    "            df[col] = df[col].replace('X', 0)\n",
    "        else:\n",
    "            df[col] = df[col].apply(byte_encoder, args=(first_byte_mapping, 3, 0))\n",
    "            df[col] = df[col].apply(byte_encoder, args=(third_byte_mapping, 3, 2))\n",
    "        df[col] = pd.to_numeric(df[col], errors='coerce').astype('Int64')"
   ],
   "metadata": {
    "collapsed": false,
    "ExecuteTime": {
     "end_time": "2024-06-02T19:49:57.283148Z",
     "start_time": "2024-06-02T19:49:52.950733Z"
    }
   },
   "id": "a89d4e13f717f9b",
   "execution_count": 341
  },
  {
   "cell_type": "markdown",
   "source": [
    "*MDMAUD encoding*\n",
    "\n",
    "If not major donor then 0.\n",
    "\n",
    "Encoding of 1st byte: \n",
    "- D -> 1\n",
    "- I -> 2\n",
    "- L -> 3\n",
    "- C -> 4 \n",
    "\n",
    "Encoding of 3rd byte:\n",
    "- L -> 1\n",
    "- C -> 2\n",
    "- M -> 3\n",
    "- T -> 4"
   ],
   "metadata": {
    "collapsed": false
   },
   "id": "9213c4a3e5c9e05a"
  },
  {
   "cell_type": "code",
   "outputs": [],
   "source": [
    "# Code mapping\n",
    "first_byte_mapping = {'D': 1, 'I': 2, 'L': 3, 'C': 4}\n",
    "third_byte_mapping = {'L': 1, 'C': 2, 'M': 3, 'T': 4}\n",
    "\n",
    "for col in categorical_features:\n",
    "    if col.startswith('MDMAUD'):\n",
    "        if col.endswith('R'):\n",
    "            df[col] = df[col].apply(byte_encoder, args=(first_byte_mapping, 1, 0))\n",
    "        elif  col.endswith('A'):\n",
    "            df[col] = df[col].apply(byte_encoder, args=(third_byte_mapping, 1, 0))\n",
    "        elif col.endswith('F'):\n",
    "            df[col] = df[col].replace('X', 0)\n",
    "        else:\n",
    "            df[col] = df[col].str[:-1]\n",
    "            df[col] = df[col].apply(byte_encoder, args=(first_byte_mapping, 3, 0)).apply(byte_encoder, args=(third_byte_mapping, 3, 2))\n",
    "        df[col] = pd.to_numeric(df[col], errors='coerce').astype('Int64')"
   ],
   "metadata": {
    "collapsed": false,
    "ExecuteTime": {
     "end_time": "2024-06-02T19:49:57.554309Z",
     "start_time": "2024-06-02T19:49:57.284150Z"
    }
   },
   "id": "a4701ffb30c9be88",
   "execution_count": 342
  },
  {
   "cell_type": "markdown",
   "source": [
    "*GENDER*\n",
    "U -> np.nan\n",
    "J -> np.nan\n",
    "M -> 0\n",
    "F -> 1"
   ],
   "metadata": {
    "collapsed": false
   },
   "id": "1bc1580c6b53ff34"
  },
  {
   "cell_type": "code",
   "outputs": [],
   "source": [
    "# Label encoding\n",
    "gen_byte_mapping = {np.nan: np.nan, ' ': np.nan, 'U': np.nan, 'J': np.nan, 'M': 0, 'F': 1}\n",
    "df['GENDER'] = df['GENDER'].apply(lambda x: gen_byte_mapping.get(x))"
   ],
   "metadata": {
    "collapsed": false,
    "ExecuteTime": {
     "end_time": "2024-06-02T19:49:57.574556Z",
     "start_time": "2024-06-02T19:49:57.555401Z"
    }
   },
   "id": "a957dece52d5553c",
   "execution_count": 343
  },
  {
   "cell_type": "markdown",
   "source": [
    "*GEOCODE, GEOCODE2*\n",
    "Temporarily label encoded.\n",
    "One hot encoding (performed at the point of model training using ColumnTransformer in pipeline)\n",
    "' ' -> np.nan"
   ],
   "metadata": {
    "collapsed": false
   },
   "id": "79f0d4425ae13cb8"
  },
  {
   "cell_type": "code",
   "outputs": [],
   "source": [
    "df['GEOCODE'] = df['GEOCODE'].replace(' ', np.nan).astype('Int64')\n",
    "geo2_byte_mapping = {np.nan: np.nan, ' ': np.nan, 'A': 1, 'B': 2, 'C': 3, 'D': 4}\n",
    "df['GEOCODE2'] = df['GEOCODE2'].apply(lambda x: geo2_byte_mapping.get(x)).astype('Int64')"
   ],
   "metadata": {
    "collapsed": false,
    "ExecuteTime": {
     "end_time": "2024-06-02T19:49:57.641313Z",
     "start_time": "2024-06-02T19:49:57.575562Z"
    }
   },
   "id": "bc36170b1de9137",
   "execution_count": 344
  },
  {
   "cell_type": "markdown",
   "source": [
    "*DATASRCE*\n",
    "Temporarily label encoded.\n",
    "One hot encoding (performed at the point of model training using ColumnTransformer in pipeline)\n",
    "' ' -> np.nan"
   ],
   "metadata": {
    "collapsed": false
   },
   "id": "80daaed6bbf7751f"
  },
  {
   "cell_type": "code",
   "outputs": [],
   "source": [
    "df['DATASRCE'] = df['DATASRCE'].replace(' ', np.nan).astype('Int64')"
   ],
   "metadata": {
    "collapsed": false,
    "ExecuteTime": {
     "end_time": "2024-06-02T19:49:57.663275Z",
     "start_time": "2024-06-02T19:49:57.642378Z"
    }
   },
   "id": "eb09777024142990",
   "execution_count": 345
  },
  {
   "cell_type": "markdown",
   "source": [
    "*LIFESRC*\n",
    "Temporarily label encoded.\n",
    "One hot encoding (performed at the point of model training using ColumnTransformer in pipeline)\n",
    "' ' -> np.nan"
   ],
   "metadata": {
    "collapsed": false
   },
   "id": "d99f4594f458e8d"
  },
  {
   "cell_type": "code",
   "outputs": [],
   "source": [
    "df['LIFESRC'] = df['LIFESRC'].replace(' ', np.nan).astype('Int64')"
   ],
   "metadata": {
    "collapsed": false,
    "ExecuteTime": {
     "end_time": "2024-06-02T19:49:57.688105Z",
     "start_time": "2024-06-02T19:49:57.664428Z"
    }
   },
   "id": "8799830cdb9027a6",
   "execution_count": 346
  },
  {
   "cell_type": "markdown",
   "source": [
    "*CHILD03*\n",
    "Temporarily label encoded.\n",
    "One hot encoding, performed at the point of model training using ColumnTransformer in pipeline.\n",
    "' ' -> np.nan"
   ],
   "metadata": {
    "collapsed": false
   },
   "id": "67858d058cab917f"
  },
  {
   "cell_type": "code",
   "outputs": [],
   "source": [
    "chil03_byte_mapping = {np.nan: np.nan, ' ': np.nan, 'B': 3, 'M': 2, 'F': 1}\n",
    "df['CHILD03'] = df['CHILD03'].apply(lambda x: chil03_byte_mapping.get(x))"
   ],
   "metadata": {
    "collapsed": false,
    "ExecuteTime": {
     "end_time": "2024-06-02T19:49:57.705382Z",
     "start_time": "2024-06-02T19:49:57.689151Z"
    }
   },
   "id": "adbb90c15b9cd148",
   "execution_count": 347
  },
  {
   "cell_type": "markdown",
   "source": [
    "*OSOURCE*\n",
    "Label encoding, one hot encoding not possible due to high cardinality.\n",
    "' ' -> np.nan"
   ],
   "metadata": {
    "collapsed": false
   },
   "id": "c1626dd7394a8d77"
  },
  {
   "cell_type": "code",
   "outputs": [
    {
     "name": "stderr",
     "output_type": "stream",
     "text": [
      "C:\\Users\\darry\\AppData\\Local\\Temp\\ipykernel_13920\\4289099267.py:3: FutureWarning: Downcasting behavior in `replace` is deprecated and will be removed in a future version. To retain the old behavior, explicitly call `result.infer_objects(copy=False)`. To opt-in to the future behavior, set `pd.set_option('future.no_silent_downcasting', True)`\n",
      "  df['OSOURCE'] = df['OSOURCE'].replace(osource_encoding).astype('Int64')\n"
     ]
    }
   ],
   "source": [
    "df['OSOURCE'] = df['OSOURCE'].replace(' ', np.nan)\n",
    "osource_encoding = {val: idx for idx, val in enumerate(df['OSOURCE'].unique())}\n",
    "df['OSOURCE'] = df['OSOURCE'].replace(osource_encoding).astype('Int64')"
   ],
   "metadata": {
    "collapsed": false,
    "ExecuteTime": {
     "end_time": "2024-06-02T19:50:01.009754Z",
     "start_time": "2024-06-02T19:49:57.706443Z"
    }
   },
   "id": "338edf4d1302c868",
   "execution_count": 348
  },
  {
   "cell_type": "markdown",
   "source": [
    "*STATE*\n",
    "Label encoding, one hot encoding not possible due to high cardinality."
   ],
   "metadata": {
    "collapsed": false
   },
   "id": "1511ec9f2b29e426"
  },
  {
   "cell_type": "code",
   "outputs": [
    {
     "name": "stderr",
     "output_type": "stream",
     "text": [
      "C:\\Users\\darry\\AppData\\Local\\Temp\\ipykernel_13920\\46920350.py:3: FutureWarning: Downcasting behavior in `replace` is deprecated and will be removed in a future version. To retain the old behavior, explicitly call `result.infer_objects(copy=False)`. To opt-in to the future behavior, set `pd.set_option('future.no_silent_downcasting', True)`\n",
      "  df['STATE'] = df['STATE'].replace(osource_encoding).astype('Int64')\n"
     ]
    }
   ],
   "source": [
    "df['STATE'] = df['STATE'].replace(' ', np.nan)\n",
    "osource_encoding = {val: idx for idx, val in enumerate(df['STATE'].unique())}\n",
    "df['STATE'] = df['STATE'].replace(osource_encoding).astype('Int64')"
   ],
   "metadata": {
    "collapsed": false,
    "ExecuteTime": {
     "end_time": "2024-06-02T19:50:01.172496Z",
     "start_time": "2024-06-02T19:50:01.010824Z"
    }
   },
   "id": "f8ff8e9f99b71915",
   "execution_count": 349
  },
  {
   "cell_type": "markdown",
   "source": [
    "### Balancing the target variable"
   ],
   "metadata": {
    "collapsed": false
   },
   "id": "9fbcf9f213bf30c"
  },
  {
   "cell_type": "code",
   "outputs": [
    {
     "data": {
      "text/plain": "TARGET_B\n0    90569\n1     4843\nName: count, dtype: int64"
     },
     "execution_count": 350,
     "metadata": {},
     "output_type": "execute_result"
    }
   ],
   "source": [
    "df['TARGET_B'].value_counts()"
   ],
   "metadata": {
    "collapsed": false,
    "ExecuteTime": {
     "end_time": "2024-06-02T19:50:01.182043Z",
     "start_time": "2024-06-02T19:50:01.173744Z"
    }
   },
   "id": "a87040403274a455",
   "execution_count": 350
  },
  {
   "cell_type": "code",
   "outputs": [
    {
     "data": {
      "text/plain": "TARGET_D\n0.0     90569\n10.0      941\n15.0      591\n20.0      577\n5.0       503\nName: count, dtype: int64"
     },
     "execution_count": 351,
     "metadata": {},
     "output_type": "execute_result"
    }
   ],
   "source": [
    "df['TARGET_D'].value_counts().head()"
   ],
   "metadata": {
    "collapsed": false,
    "ExecuteTime": {
     "end_time": "2024-06-02T19:50:01.208788Z",
     "start_time": "2024-06-02T19:50:01.183169Z"
    }
   },
   "id": "970e893c98b3cbb3",
   "execution_count": 351
  },
  {
   "cell_type": "code",
   "outputs": [
    {
     "data": {
      "text/plain": "9686"
     },
     "execution_count": 352,
     "metadata": {},
     "output_type": "execute_result"
    }
   ],
   "source": [
    "df_pos = df[df['TARGET_B'] == 1]\n",
    "df_neg = df[df['TARGET_B'] == 0]\n",
    "\n",
    "df_neg_sample = df_neg.sample(n=len(df_pos), random_state=42)\n",
    "df = pd.concat([df_pos, df_neg_sample], axis=0)\n",
    "len(df)"
   ],
   "metadata": {
    "collapsed": false,
    "ExecuteTime": {
     "end_time": "2024-06-02T19:50:01.429356Z",
     "start_time": "2024-06-02T19:50:01.208964Z"
    }
   },
   "id": "be1b28dd877bb7d4",
   "execution_count": 352
  },
  {
   "cell_type": "markdown",
   "source": [
    "### Missing value handling"
   ],
   "metadata": {
    "collapsed": false
   },
   "id": "26beb5a30e409138"
  },
  {
   "cell_type": "markdown",
   "source": [
    "*Step 1: Drop columns with more than 50% missing values*"
   ],
   "metadata": {
    "collapsed": false
   },
   "id": "f72785a6a9348fe6"
  },
  {
   "cell_type": "code",
   "outputs": [
    {
     "data": {
      "text/plain": "RDATE_5    0.999794\nRAMNT_5    0.999794\nRAMNT_4    0.995870\nRDATE_4    0.995870\nRAMNT_3    0.994322\ndtype: float64"
     },
     "execution_count": 353,
     "metadata": {},
     "output_type": "execute_result"
    }
   ],
   "source": [
    "df.isnull().mean().sort_values(ascending=False).head()"
   ],
   "metadata": {
    "collapsed": false,
    "ExecuteTime": {
     "end_time": "2024-06-02T19:50:01.447850Z",
     "start_time": "2024-06-02T19:50:01.429356Z"
    }
   },
   "id": "97890dc7175c8159",
   "execution_count": 353
  },
  {
   "cell_type": "code",
   "outputs": [
    {
     "name": "stdout",
     "output_type": "stream",
     "text": [
      "Removed columns: ['RDATE_10', 'RAMNT_11', 'RDATE_12', 'PUBCULIN', 'LIFESRC', 'RDATE_4', 'RDATE_13', 'RFA_20', 'RDATE_8', 'RAMNT_8', 'RDATE_22', 'RAMNT_12', 'RDATE_15', 'RAMNT_5', 'PUBNEWFN', 'NUMCHLD', 'RAMNT_14', 'RDATE_14', 'RAMNT_24', 'RFA_23', 'MAGFEM', 'RDATE_24', 'CHILD03', 'RAMNT_19', 'RAMNT_4', 'GEOCODE', 'ADATE_23', 'RAMNT_23', 'ADATE_15', 'RAMNT_20', 'PUBOPP', 'MBBOOKS', 'PUBDOITY', 'MBCRAFT', 'PUBPHOTO', 'RAMNT_16', 'RAMNT_7', 'RDATE_6', 'RDATE_21', 'RAMNT_21', 'RAMNT_15', 'PUBGARDN', 'RAMNT_10', 'PUBHLTH', 'MBGARDEN', 'RDATE_11', 'RAMNT_13', 'RAMNT_6', 'MBCOLECT', 'RAMNT_9', 'RFA_15', 'RAMNT_17', 'RAMNT_22', 'RDATE_9', 'RDATE_17', 'RDATE_3', 'RDATE_16', 'RDATE_7', 'RDATE_19', 'MAGFAML', 'ADATE_20', 'RDATE_5', 'RAMNT_18', 'RDATE_23', 'RAMNT_3', 'RDATE_20', 'RDATE_18', 'MAGMALE']\n"
     ]
    }
   ],
   "source": [
    "# Drop columns with more than 50% missing values\n",
    "threshold = 0.5\n",
    "df_ = df.dropna(thresh=len(df) * threshold, axis=1)\n",
    "num_feats = [value for value in num_feats if value in df_.columns]\n",
    "cat_feats = [value for value in cat_feats if value in df_.columns]\n",
    "ordinal_feats = [value for value in ordinal_feats if value in df_.columns]\n",
    "print(\"Removed columns: \" + str(list(set(df.columns).difference(df_.columns))))\n",
    "df = df_"
   ],
   "metadata": {
    "collapsed": false,
    "ExecuteTime": {
     "end_time": "2024-06-02T19:50:01.486600Z",
     "start_time": "2024-06-02T19:50:01.448940Z"
    }
   },
   "id": "7067aa5b62837879",
   "execution_count": 354
  },
  {
   "cell_type": "markdown",
   "source": [
    "*Step 2: Drop rows with more than 30% missing values*"
   ],
   "metadata": {
    "collapsed": false
   },
   "id": "fda6f3a25235c3ec"
  },
  {
   "cell_type": "code",
   "outputs": [],
   "source": [
    "# recursively sample df_neg so that it does not have more that 30% missing values\n",
    "def recursive_sample(df_neg, n, threshold):\n",
    "    sample = df_neg.sample(n)\n",
    "    temp_ = sample.dropna(thresh=len(df.columns) * threshold, axis=0)\n",
    "    if n - len(temp_) == 0:\n",
    "        return sample\n",
    "    else:\n",
    "        return recursive_sample(df_neg, n, threshold)"
   ],
   "metadata": {
    "collapsed": false,
    "ExecuteTime": {
     "end_time": "2024-06-02T19:50:01.492072Z",
     "start_time": "2024-06-02T19:50:01.487608Z"
    }
   },
   "id": "98b45bf1c8ddcffb",
   "execution_count": 355
  },
  {
   "cell_type": "code",
   "outputs": [
    {
     "data": {
      "text/plain": "9686"
     },
     "execution_count": 356,
     "metadata": {},
     "output_type": "execute_result"
    }
   ],
   "source": [
    "df_pos = df[df['TARGET_B'] == 1]\n",
    "df_neg = df[df['TARGET_B'] == 0]\n",
    "df_neg_sample = recursive_sample(df_neg, len(df_pos), 0.7)\n",
    "df = pd.concat([df_pos, df_neg_sample], axis=0)\n",
    "len(df)"
   ],
   "metadata": {
    "collapsed": false,
    "ExecuteTime": {
     "end_time": "2024-06-02T19:50:01.586011Z",
     "start_time": "2024-06-02T19:50:01.493309Z"
    }
   },
   "id": "9178c9431a1473ae",
   "execution_count": 356
  },
  {
   "cell_type": "markdown",
   "source": [
    "*Step 3: Impute missing values*"
   ],
   "metadata": {
    "collapsed": false
   },
   "id": "4d15822b615a9953"
  },
  {
   "cell_type": "code",
   "outputs": [
    {
     "data": {
      "text/plain": "WEALTH1     0.471299\nWEALTH2     0.448689\nRFA_13      0.418233\nADATE_13    0.418129\nRFA_21      0.413070\ndtype: float64"
     },
     "execution_count": 357,
     "metadata": {},
     "output_type": "execute_result"
    }
   ],
   "source": [
    "df.isnull().mean().sort_values(ascending=False).head()"
   ],
   "metadata": {
    "collapsed": false,
    "ExecuteTime": {
     "end_time": "2024-06-02T19:50:01.602537Z",
     "start_time": "2024-06-02T19:50:01.587408Z"
    }
   },
   "id": "f2b01647e82f6e55",
   "execution_count": 357
  },
  {
   "cell_type": "markdown",
   "source": [
    "Impute numerical features"
   ],
   "metadata": {
    "collapsed": false
   },
   "id": "388fec0e05d2f5f7"
  },
  {
   "cell_type": "code",
   "outputs": [],
   "source": [
    "# knn impute numerical features\n",
    "nimputer = KNNImputer(n_neighbors=10)\n",
    "df[num_feats] = nimputer.fit_transform(df[num_feats])"
   ],
   "metadata": {
    "collapsed": false,
    "ExecuteTime": {
     "end_time": "2024-06-02T19:50:27.042856Z",
     "start_time": "2024-06-02T19:50:01.603694Z"
    }
   },
   "id": "afbd56161580d113",
   "execution_count": 358
  },
  {
   "cell_type": "markdown",
   "source": [
    "Impute categorical features"
   ],
   "metadata": {
    "collapsed": false
   },
   "id": "4c6d47f98b907555"
  },
  {
   "cell_type": "code",
   "outputs": [
    {
     "name": "stdout",
     "output_type": "stream",
     "text": [
      "Imputing row 1/9686 with 4 missing, elapsed time: 19.264\n",
      "Imputing row 101/9686 with 0 missing, elapsed time: 19.283\n",
      "Imputing row 201/9686 with 1 missing, elapsed time: 19.304\n",
      "Imputing row 301/9686 with 10 missing, elapsed time: 19.322\n",
      "Imputing row 401/9686 with 4 missing, elapsed time: 19.336\n",
      "Imputing row 501/9686 with 2 missing, elapsed time: 19.356\n",
      "Imputing row 601/9686 with 0 missing, elapsed time: 19.374\n",
      "Imputing row 701/9686 with 0 missing, elapsed time: 19.392\n",
      "Imputing row 801/9686 with 8 missing, elapsed time: 19.412\n",
      "Imputing row 901/9686 with 4 missing, elapsed time: 19.432\n",
      "Imputing row 1001/9686 with 11 missing, elapsed time: 19.448\n",
      "Imputing row 1101/9686 with 0 missing, elapsed time: 19.465\n",
      "Imputing row 1201/9686 with 2 missing, elapsed time: 19.484\n",
      "Imputing row 1301/9686 with 1 missing, elapsed time: 19.508\n",
      "Imputing row 1401/9686 with 2 missing, elapsed time: 19.537\n",
      "Imputing row 1501/9686 with 1 missing, elapsed time: 19.556\n",
      "Imputing row 1601/9686 with 18 missing, elapsed time: 19.577\n",
      "Imputing row 1701/9686 with 8 missing, elapsed time: 19.598\n",
      "Imputing row 1801/9686 with 9 missing, elapsed time: 19.617\n",
      "Imputing row 1901/9686 with 1 missing, elapsed time: 19.633\n",
      "Imputing row 2001/9686 with 2 missing, elapsed time: 19.656\n",
      "Imputing row 2101/9686 with 7 missing, elapsed time: 19.673\n",
      "Imputing row 2201/9686 with 9 missing, elapsed time: 19.688\n",
      "Imputing row 2301/9686 with 17 missing, elapsed time: 19.712\n",
      "Imputing row 2401/9686 with 21 missing, elapsed time: 19.739\n",
      "Imputing row 2501/9686 with 8 missing, elapsed time: 19.762\n",
      "Imputing row 2601/9686 with 3 missing, elapsed time: 19.784\n",
      "Imputing row 2701/9686 with 1 missing, elapsed time: 19.805\n",
      "Imputing row 2801/9686 with 4 missing, elapsed time: 19.828\n",
      "Imputing row 2901/9686 with 2 missing, elapsed time: 19.845\n",
      "Imputing row 3001/9686 with 1 missing, elapsed time: 19.870\n",
      "Imputing row 3101/9686 with 15 missing, elapsed time: 19.893\n",
      "Imputing row 3201/9686 with 18 missing, elapsed time: 19.912\n",
      "Imputing row 3301/9686 with 1 missing, elapsed time: 19.936\n",
      "Imputing row 3401/9686 with 4 missing, elapsed time: 19.958\n",
      "Imputing row 3501/9686 with 1 missing, elapsed time: 19.982\n",
      "Imputing row 3601/9686 with 0 missing, elapsed time: 20.001\n",
      "Imputing row 3701/9686 with 0 missing, elapsed time: 20.017\n",
      "Imputing row 3801/9686 with 1 missing, elapsed time: 20.037\n",
      "Imputing row 3901/9686 with 10 missing, elapsed time: 20.058\n",
      "Imputing row 4001/9686 with 9 missing, elapsed time: 20.075\n",
      "Imputing row 4101/9686 with 0 missing, elapsed time: 20.095\n",
      "Imputing row 4201/9686 with 3 missing, elapsed time: 20.113\n",
      "Imputing row 4301/9686 with 9 missing, elapsed time: 20.136\n",
      "Imputing row 4401/9686 with 5 missing, elapsed time: 20.157\n",
      "Imputing row 4501/9686 with 11 missing, elapsed time: 20.178\n",
      "Imputing row 4601/9686 with 5 missing, elapsed time: 20.198\n",
      "Imputing row 4701/9686 with 16 missing, elapsed time: 20.220\n",
      "Imputing row 4801/9686 with 6 missing, elapsed time: 20.239\n",
      "Imputing row 4901/9686 with 2 missing, elapsed time: 20.260\n",
      "Imputing row 5001/9686 with 7 missing, elapsed time: 20.279\n",
      "Imputing row 5101/9686 with 6 missing, elapsed time: 20.301\n",
      "Imputing row 5201/9686 with 1 missing, elapsed time: 20.324\n",
      "Imputing row 5301/9686 with 4 missing, elapsed time: 20.345\n",
      "Imputing row 5401/9686 with 3 missing, elapsed time: 20.370\n",
      "Imputing row 5501/9686 with 3 missing, elapsed time: 20.393\n",
      "Imputing row 5601/9686 with 5 missing, elapsed time: 20.424\n",
      "Imputing row 5701/9686 with 9 missing, elapsed time: 20.450\n",
      "Imputing row 5801/9686 with 8 missing, elapsed time: 20.469\n",
      "Imputing row 5901/9686 with 17 missing, elapsed time: 20.490\n",
      "Imputing row 6001/9686 with 0 missing, elapsed time: 20.511\n",
      "Imputing row 6101/9686 with 3 missing, elapsed time: 20.534\n",
      "Imputing row 6201/9686 with 5 missing, elapsed time: 20.555\n",
      "Imputing row 6301/9686 with 1 missing, elapsed time: 20.576\n",
      "Imputing row 6401/9686 with 12 missing, elapsed time: 20.602\n",
      "Imputing row 6501/9686 with 2 missing, elapsed time: 20.626\n",
      "Imputing row 6601/9686 with 4 missing, elapsed time: 20.651\n",
      "Imputing row 6701/9686 with 4 missing, elapsed time: 20.671\n",
      "Imputing row 6801/9686 with 1 missing, elapsed time: 20.698\n",
      "Imputing row 6901/9686 with 15 missing, elapsed time: 20.719\n",
      "Imputing row 7001/9686 with 7 missing, elapsed time: 20.738\n",
      "Imputing row 7101/9686 with 0 missing, elapsed time: 20.758\n",
      "Imputing row 7201/9686 with 1 missing, elapsed time: 20.777\n",
      "Imputing row 7301/9686 with 4 missing, elapsed time: 20.797\n",
      "Imputing row 7401/9686 with 3 missing, elapsed time: 20.826\n",
      "Imputing row 7501/9686 with 2 missing, elapsed time: 20.856\n",
      "Imputing row 7601/9686 with 0 missing, elapsed time: 20.885\n",
      "Imputing row 7701/9686 with 1 missing, elapsed time: 20.908\n",
      "Imputing row 7801/9686 with 8 missing, elapsed time: 20.929\n",
      "Imputing row 7901/9686 with 3 missing, elapsed time: 20.951\n",
      "Imputing row 8001/9686 with 3 missing, elapsed time: 20.970\n",
      "Imputing row 8101/9686 with 4 missing, elapsed time: 20.988\n",
      "Imputing row 8201/9686 with 4 missing, elapsed time: 21.006\n",
      "Imputing row 8301/9686 with 3 missing, elapsed time: 21.022\n",
      "Imputing row 8401/9686 with 2 missing, elapsed time: 21.042\n",
      "Imputing row 8501/9686 with 3 missing, elapsed time: 21.063\n",
      "Imputing row 8601/9686 with 15 missing, elapsed time: 21.097\n",
      "Imputing row 8701/9686 with 0 missing, elapsed time: 21.119\n",
      "Imputing row 8801/9686 with 4 missing, elapsed time: 21.140\n",
      "Imputing row 8901/9686 with 1 missing, elapsed time: 21.162\n",
      "Imputing row 9001/9686 with 1 missing, elapsed time: 21.180\n",
      "Imputing row 9101/9686 with 6 missing, elapsed time: 21.200\n",
      "Imputing row 9201/9686 with 0 missing, elapsed time: 21.222\n",
      "Imputing row 9301/9686 with 5 missing, elapsed time: 21.245\n",
      "Imputing row 9401/9686 with 4 missing, elapsed time: 21.268\n",
      "Imputing row 9501/9686 with 1 missing, elapsed time: 21.292\n",
      "Imputing row 9601/9686 with 2 missing, elapsed time: 21.318\n"
     ]
    }
   ],
   "source": [
    "from fancyimpute import KNN\n",
    "\n",
    "cimputer = KNN(k=1)\n",
    "df[ordinal_feats] = cimputer.fit_transform(df[ordinal_feats]).round()\n",
    "\n",
    "nominal_feats = [value for value in cat_feats if value not in ordinal_feats]\n",
    "df[nominal_feats] = df[nominal_feats].apply(lambda x: x.fillna(x.mode()[0]))"
   ],
   "metadata": {
    "collapsed": false,
    "ExecuteTime": {
     "end_time": "2024-06-02T19:50:48.470530Z",
     "start_time": "2024-06-02T19:50:27.043888Z"
    }
   },
   "id": "47d4ff1f6b4be5b3",
   "execution_count": 359
  },
  {
   "cell_type": "code",
   "outputs": [
    {
     "name": "stdout",
     "output_type": "stream",
     "text": [
      "(9686, 406)\n"
     ]
    },
    {
     "data": {
      "text/plain": "ODATEDW    0.0\nEC4        0.0\nAFC1       0.0\nSEC5       0.0\nSEC4       0.0\ndtype: float64"
     },
     "execution_count": 360,
     "metadata": {},
     "output_type": "execute_result"
    }
   ],
   "source": [
    "print(df.shape)\n",
    "df.isnull().mean().sort_values(ascending=False).head()"
   ],
   "metadata": {
    "collapsed": false,
    "ExecuteTime": {
     "end_time": "2024-06-02T19:50:48.494322Z",
     "start_time": "2024-06-02T19:50:48.471591Z"
    }
   },
   "id": "416a9e775cb742b5",
   "execution_count": 360
  },
  {
   "cell_type": "markdown",
   "source": [
    "### Feature engineering"
   ],
   "metadata": {
    "collapsed": false
   },
   "id": "85f0237b76d361cb"
  },
  {
   "cell_type": "markdown",
   "source": [
    "*Custom function to merge subvariables*"
   ],
   "metadata": {
    "collapsed": false
   },
   "id": "cf42626f4d318577"
  },
  {
   "cell_type": "code",
   "outputs": [],
   "source": [
    "def merge_subvars(code):\n",
    "    if pd.isna(code):\n",
    "        return np.nan\n",
    "    elif isinstance(code, str):\n",
    "        return code\n",
    "    else:\n",
    "        bytes = [int(byte) for byte in str(int(code))]\n",
    "        new = reduce(operator.mul, bytes)\n",
    "        return new"
   ],
   "metadata": {
    "collapsed": false,
    "ExecuteTime": {
     "end_time": "2024-06-02T19:50:48.498722Z",
     "start_time": "2024-06-02T19:50:48.494412Z"
    }
   },
   "id": "88df7faccce859f3",
   "execution_count": 361
  },
  {
   "cell_type": "markdown",
   "source": [
    "*DOMAIN*\n",
    "XY -> X*Y\n",
    "Both bytes are ordered categorical variables. Instead of separating them we can use combine both their information through multiplication."
   ],
   "metadata": {
    "collapsed": false
   },
   "id": "bfc2af527a0d5f16"
  },
  {
   "cell_type": "code",
   "outputs": [],
   "source": [
    "df['DOMAIN'] = df['DOMAIN'].apply(merge_subvars)"
   ],
   "metadata": {
    "collapsed": false,
    "ExecuteTime": {
     "end_time": "2024-06-02T19:50:48.511873Z",
     "start_time": "2024-06-02T19:50:48.500010Z"
    }
   },
   "id": "d04d4e38b602f4e5",
   "execution_count": 362
  },
  {
   "cell_type": "markdown",
   "source": [
    "*RFA*\n",
    "XYZ -> X*Y*Z\n",
    "All bytes are ordered categorical variables. Instead of separating them we can use combine both their information through multiplication."
   ],
   "metadata": {
    "collapsed": false
   },
   "id": "b61967b6665c7008"
  },
  {
   "cell_type": "code",
   "outputs": [],
   "source": [
    "for col in cat_feats:\n",
    "    if col.startswith('RFA'):\n",
    "        df[col] = df[col].apply(merge_subvars)"
   ],
   "metadata": {
    "collapsed": false,
    "ExecuteTime": {
     "end_time": "2024-06-02T19:50:48.768583Z",
     "start_time": "2024-06-02T19:50:48.513042Z"
    }
   },
   "id": "c3efdd59bdc08945",
   "execution_count": 363
  },
  {
   "cell_type": "markdown",
   "source": [
    "*MDMAUD*\n",
    "XYZ -> X*Y*Z\n",
    "All bytes are ordered categorical variables. Instead of separating them we can use combine both their information through multiplication."
   ],
   "metadata": {
    "collapsed": false
   },
   "id": "ef7fbcc5f9632a28"
  },
  {
   "cell_type": "code",
   "outputs": [],
   "source": [
    "for col in categorical_features:\n",
    "    if col.startswith('MDMAUD'):\n",
    "        df[col] = df[col].apply(merge_subvars)"
   ],
   "metadata": {
    "collapsed": false,
    "ExecuteTime": {
     "end_time": "2024-06-02T19:50:48.802874Z",
     "start_time": "2024-06-02T19:50:48.769617Z"
    }
   },
   "id": "762d0c08b605c79e",
   "execution_count": 364
  },
  {
   "cell_type": "markdown",
   "source": [
    "### Feature Selection"
   ],
   "metadata": {
    "collapsed": false
   },
   "id": "f71da5cffe41a56c"
  },
  {
   "cell_type": "markdown",
   "source": [
    "*Step 1: Manual feature selection*\n",
    "In this step we manually inspect all features and their meaning and drop features which are not properly described or derived from other features. Due to the large number of features, this is a reasonable first step to reduce the number of features.\n",
    "\n",
    "Features to remove = ['NOEXCH', 'RECPGVG', 'RECSWEEP', 'CLUSTER', 'AGEFLAG', 'GEOCODE', 'MSA', 'ADI', 'DMA', 'CLUSTER2', 'GEOCODE2']\n",
    "\n",
    "To confirm that these variables are irrelevant we run some tests.\n"
   ],
   "metadata": {
    "collapsed": false
   },
   "id": "e2262fde4a5a5b72"
  },
  {
   "cell_type": "code",
   "outputs": [
    {
     "name": "stdout",
     "output_type": "stream",
     "text": [
      "Chi-squared test for RECPGVG\n",
      "Chi2 statistic: 1.2324233194697374\n",
      "P-value: 0.26693627727899905\n",
      "The association between RECPGVG and TARGET_B is not significant.\n",
      "\n",
      "Fisher's exact test for RECPGVG\n",
      "Odds ratio: 2.252327265204799\n",
      "P-value: 0.2665211238365676\n",
      "The association between RECPGVG and TARGET_B is not significant.\n",
      "\n",
      "\n",
      "Chi-squared test for RECSWEEP\n",
      "Chi2 statistic: 0.3993586080583721\n",
      "P-value: 0.5274206843517127\n",
      "The association between RECSWEEP and TARGET_B is not significant.\n",
      "\n",
      "Fisher's exact test for RECSWEEP\n",
      "Odds ratio: 0.8936580819564942\n",
      "P-value: 0.5275451401703914\n",
      "The association between RECSWEEP and TARGET_B is not significant.\n",
      "\n",
      "\n",
      "Chi-squared test for CLUSTER\n",
      "Chi2 statistic: 79.23031984447691\n",
      "P-value: 0.01128118954446939\n",
      "The association between CLUSTER and TARGET_B is significant.\n",
      "\n",
      "\n",
      "Chi-squared test for MSA\n",
      "Chi2 statistic: 283.2661746138157\n",
      "P-value: 0.164251104446483\n",
      "The association between MSA and TARGET_B is not significant.\n",
      "\n",
      "\n",
      "Chi-squared test for ADI\n",
      "Chi2 statistic: 215.44259163099326\n",
      "P-value: 0.06853030175952621\n",
      "The association between ADI and TARGET_B is not significant.\n",
      "\n",
      "\n",
      "Chi-squared test for DMA\n",
      "Chi2 statistic: 217.65581310571304\n",
      "P-value: 0.06816494468039795\n",
      "The association between DMA and TARGET_B is not significant.\n",
      "\n",
      "\n",
      "Chi-squared test for CLUSTER2\n",
      "Chi2 statistic: 104.71746138040425\n",
      "P-value: 0.00042392481674269225\n",
      "The association between CLUSTER2 and TARGET_B is significant.\n",
      "\n",
      "\n",
      "Chi-squared test for GEOCODE2\n",
      "Chi2 statistic: 5.220205687242027\n",
      "P-value: 0.1563647336308486\n",
      "The association between GEOCODE2 and TARGET_B is not significant.\n",
      "\n"
     ]
    },
    {
     "data": {
      "text/plain": "['CLUSTER', 'CLUSTER2']"
     },
     "execution_count": 365,
     "metadata": {},
     "output_type": "execute_result"
    }
   ],
   "source": [
    "def sig_tests(df, feats, target, alpha):\n",
    "    \n",
    "    keep = []\n",
    "    \n",
    "    for feature in feats:\n",
    "        try:\n",
    "            x = df[feature]\n",
    "        except:\n",
    "            continue\n",
    "\n",
    "        contingency_table = pd.crosstab(df[feature], df[target])\n",
    "        \n",
    "        # Chi-squared test\n",
    "        chi2_stat, p_value, _, _ = chi2_contingency(contingency_table)\n",
    "        print(\"Chi-squared test for\", feature)\n",
    "        print(\"Chi2 statistic:\", chi2_stat)\n",
    "        print(\"P-value:\", p_value)\n",
    "        if p_value < alpha:\n",
    "            print(\"The association between\", feature, \"and\", target, \"is significant.\")\n",
    "        else:\n",
    "            print(\"The association between\", feature, \"and\", target, \"is not significant.\")\n",
    "        \n",
    "        fisher_p_value = None\n",
    "        if contingency_table.shape[0] == 2:\n",
    "            # Fisher's exact test\n",
    "            odds_ratio, fisher_p_value = fisher_exact(contingency_table)\n",
    "            print(\"\\nFisher's exact test for\", feature)\n",
    "            print(\"Odds ratio:\", odds_ratio)\n",
    "            print(\"P-value:\", fisher_p_value)\n",
    "            if fisher_p_value < alpha:\n",
    "                print(\"The association between\", feature, \"and\", target, \"is significant.\")\n",
    "            else:\n",
    "                print(\"The association between\", feature, \"and\", target, \"is not significant.\")\n",
    "        print(\"\\n\")\n",
    "        \n",
    "        if fisher_p_value is not None:\n",
    "            if p_value < alpha and fisher_p_value < alpha:\n",
    "                keep.append(feature)\n",
    "        else:\n",
    "            if p_value < alpha:\n",
    "                keep.append(feature)\n",
    "        \n",
    "    return keep\n",
    "  \n",
    "      \n",
    "feats_to_remove = ['RECPGVG', 'RECSWEEP', 'CLUSTER', 'AGEFLAG', 'GEOCODE', 'MSA', 'ADI', 'DMA', 'CLUSTER2', 'GEOCODE2']\n",
    "target='TARGET_B'\n",
    "alpha = 0.05\n",
    "sig_tests(df, feats_to_remove, target, alpha)"
   ],
   "metadata": {
    "collapsed": false,
    "ExecuteTime": {
     "end_time": "2024-06-02T19:50:48.866600Z",
     "start_time": "2024-06-02T19:50:48.803997Z"
    }
   },
   "id": "a26fd269723fbe28",
   "execution_count": 365
  },
  {
   "cell_type": "markdown",
   "source": [
    "Retained features = ['CLUSTER', 'CLUSTER2']"
   ],
   "metadata": {
    "collapsed": false
   },
   "id": "5bc64dce91d89dd4"
  },
  {
   "cell_type": "code",
   "outputs": [],
   "source": [
    "retained_features = ['CLUSTER', 'CLUSTER2']\n",
    "feats_to_remove = list(set(feats_to_remove).difference(retained_features))\n",
    "for feat in feats_to_remove:\n",
    "    try:\n",
    "        x = df[feat]\n",
    "    except:\n",
    "        feats_to_remove.remove(feat)\n",
    "df.drop(columns=feats_to_remove, inplace=True)\n",
    "num_feats = [value for value in num_feats if value not in feats_to_remove]\n",
    "cat_feats = [value for value in cat_feats if value not in feats_to_remove]\n",
    "ordinal_feats = [value for value in ordinal_feats if value not in feats_to_remove]"
   ],
   "metadata": {
    "collapsed": false,
    "ExecuteTime": {
     "end_time": "2024-06-02T19:50:48.897372Z",
     "start_time": "2024-06-02T19:50:48.867658Z"
    }
   },
   "id": "646bb3693e0ed06",
   "execution_count": 366
  },
  {
   "cell_type": "markdown",
   "source": [
    "*Step 2: Feature-Target analysis*\n",
    "Here we test the correlation between features and the target variable, and remove variables that are completely uncorrelated with the target variable."
   ],
   "metadata": {
    "collapsed": false
   },
   "id": "7a7c5b5403b58f1b"
  },
  {
   "cell_type": "markdown",
   "source": [
    "*Mutual Information analysis*"
   ],
   "metadata": {
    "collapsed": false
   },
   "id": "fd5241799c1fcc9d"
  },
  {
   "cell_type": "code",
   "outputs": [],
   "source": [
    "def get_low_mi_features(df, target_column, threshold, num_feats, cat_feats):\n",
    "\n",
    "    df_num = df[num_feats]\n",
    "    df_cat = df[cat_feats]\n",
    "    df_num_imputed = df_num.fillna(df_num.median())\n",
    "    df_cat_imputed = df_cat.apply(lambda x: x.fillna(x.mode()[0]))\n",
    "    df_temp = pd.concat([df_num_imputed, df_cat_imputed, df[target_column]], axis=1)\n",
    "\n",
    "    for feature in cat_feats:\n",
    "        if df_temp[feature].dtype == 'object':\n",
    "            le = LabelEncoder()\n",
    "            df_temp[feature] = le.fit_transform(df_temp[feature])\n",
    "\n",
    "    low_mi = []\n",
    "    \n",
    "    y = df[target_column].values.ravel()\n",
    "    \n",
    "    # For numerical features, compute mutual information\n",
    "    for feature in (num_feats+cat_feats):\n",
    "        mi = mutual_info_classif(df_temp[[feature]], y)\n",
    "        if max(mi) < threshold:\n",
    "            low_mi.append(feature)\n",
    "\n",
    "    return low_mi"
   ],
   "metadata": {
    "collapsed": false,
    "ExecuteTime": {
     "end_time": "2024-06-02T19:50:48.903095Z",
     "start_time": "2024-06-02T19:50:48.898496Z"
    }
   },
   "id": "d42f074280764b5e",
   "execution_count": 367
  },
  {
   "cell_type": "code",
   "outputs": [
    {
     "data": {
      "text/plain": "397"
     },
     "execution_count": 368,
     "metadata": {},
     "output_type": "execute_result"
    }
   ],
   "source": [
    "low_mi = get_low_mi_features(df, 'TARGET_B', 0.1, num_feats, cat_feats)\n",
    "len(low_mi)"
   ],
   "metadata": {
    "collapsed": false,
    "ExecuteTime": {
     "end_time": "2024-06-02T19:51:00.687463Z",
     "start_time": "2024-06-02T19:50:48.904159Z"
    }
   },
   "id": "cabef3924da5858e",
   "execution_count": 368
  },
  {
   "cell_type": "markdown",
   "source": [
    "*Correlation*\n",
    "(only numerical features)"
   ],
   "metadata": {
    "collapsed": false
   },
   "id": "b9a0b31116dbe030"
  },
  {
   "cell_type": "code",
   "outputs": [
    {
     "name": "stderr",
     "output_type": "stream",
     "text": [
      "C:\\Users\\darry\\Documents\\MDS\\Y1_S2\\Machine_Learning\\mlproject\\.venv\\Lib\\site-packages\\scipy\\stats\\_stats_py.py:5445: ConstantInputWarning: An input array is constant; the correlation coefficient is not defined.\n",
      "  warnings.warn(stats.ConstantInputWarning(warn_msg))\n"
     ]
    },
    {
     "data": {
      "text/plain": "361"
     },
     "execution_count": 369,
     "metadata": {},
     "output_type": "execute_result"
    }
   ],
   "source": [
    "def get_low_corr_features(df, target_column, threshold, num_feats, ordinal_feats):\n",
    "\n",
    "    df_num = df[num_feats]\n",
    "    df_cat = df[cat_feats]\n",
    "    df_num_imputed = df_num.fillna(df_num.median())\n",
    "    df_cat_imputed = df_cat.apply(lambda x: x.fillna(x.mode()[0]))\n",
    "    df_temp = pd.concat([df_num_imputed, df_cat_imputed, df[target_column]], axis=1)\n",
    "\n",
    "    low_corr = []\n",
    "    \n",
    "    for feature in num_feats+ordinal_feats:\n",
    "        corr, p_value = spearmanr(df_temp[feature], df_temp[target_column])\n",
    "        if abs(corr) < threshold:\n",
    "            low_corr.append(feature)\n",
    "\n",
    "    return low_corr\n",
    "\n",
    "low_corr = get_low_corr_features(df, 'TARGET_D', 0.1, num_feats, ordinal_feats)\n",
    "len(low_corr)"
   ],
   "metadata": {
    "collapsed": false,
    "ExecuteTime": {
     "end_time": "2024-06-02T19:51:01.277733Z",
     "start_time": "2024-06-02T19:51:00.688478Z"
    }
   },
   "id": "87915318a4edeaa4",
   "execution_count": 369
  },
  {
   "cell_type": "markdown",
   "source": [
    "*PCA Feature Selection*\n",
    "Numerical features"
   ],
   "metadata": {
    "collapsed": false
   },
   "id": "4e37c828eca7b82d"
  },
  {
   "cell_type": "code",
   "outputs": [
    {
     "data": {
      "text/plain": "30"
     },
     "execution_count": 370,
     "metadata": {},
     "output_type": "execute_result"
    }
   ],
   "source": [
    "significant_num_feats = ['INCOME', 'MAGMALE', 'POP90C1', 'POP90C2', 'POP90C3', 'ETH16', 'MC1', 'MC2', 'OCC4', 'OCC6', 'OCC7', 'OCC9', 'OCC10', 'OCC11', 'OCC12', 'EC1', 'VOC2', 'VOC3', 'HC2', 'MHUC2', 'CARDPROM', 'CARDPM12', 'RAMNT_8', 'RAMNT_9', 'RAMNT_14', 'RAMNT_16', 'RAMNT_19', 'RAMNT_21', 'RAMNT_22', 'RAMNT_23', 'RAMNTALL', 'NGIFTALL', 'CARDGIFT', 'MINRDATE', 'LASTGIFT', 'LASTDATE', 'AVGGIFT', 'ADATE_5', 'ADATE_12', 'ADATE_15', 'ADATE_20']\n",
    "drop_nums = ['MAGMALE', 'RAMNT_8', 'RAMNT_9', 'RAMNT_14', 'RAMNT_16', 'RAMNT_19', 'RAMNT_21', 'RAMNT_22', 'RAMNT_23', 'ADATE_15', 'ADATE_20']\n",
    "significant_num_feats = [value for value in significant_num_feats if value not in drop_nums]\n",
    "len(significant_num_feats)"
   ],
   "metadata": {
    "collapsed": false,
    "ExecuteTime": {
     "end_time": "2024-06-02T19:51:01.282961Z",
     "start_time": "2024-06-02T19:51:01.277733Z"
    }
   },
   "id": "287ea7daa3e1c3ee",
   "execution_count": 370
  },
  {
   "cell_type": "code",
   "outputs": [],
   "source": [
    "def perform_pca(data, numerical_vars, n_components=10):\n",
    "    # Numerical variable preprocessing: Standardization\n",
    "    scaler = StandardScaler()\n",
    "    scaled_numerical_data = scaler.fit_transform(data[numerical_vars])\n",
    "\n",
    "    # Perform PCA for numerical variables\n",
    "    pca = PCA(n_components=n_components)\n",
    "    pca_result = pca.fit_transform(scaled_numerical_data)\n",
    "\n",
    "    # Create DataFrame to store PCA results\n",
    "    pca.df = pd.DataFrame(pca_result, columns=[f'PC{i}' for i in range(1, n_components+1)], index=df[num_feats].index)\n",
    "\n",
    "    return pca"
   ],
   "metadata": {
    "collapsed": false,
    "ExecuteTime": {
     "end_time": "2024-06-02T19:51:01.289352Z",
     "start_time": "2024-06-02T19:51:01.282961Z"
    }
   },
   "id": "9d23943580f28251",
   "execution_count": 371
  },
  {
   "cell_type": "code",
   "outputs": [
    {
     "data": {
      "text/plain": "         PC1       PC2       PC3       PC4       PC5       PC6       PC7  \\\n20  0.044218  2.377409 -0.271537 -1.529187  0.303006  0.284679 -0.301776   \n30  3.161805  1.310343  1.279679 -2.048017  1.351119  0.447595 -3.088057   \n45  0.333437  2.647345  0.711447 -1.711354  0.706289 -0.008161  0.781540   \n78  2.224684  2.395861  1.500868 -0.667843 -0.734307 -0.918348 -0.578596   \n93 -1.022459 -0.206790  0.073615 -0.383050 -0.997313  1.162059 -0.353378   \n\n         PC8       PC9      PC10  ...      PC21      PC22      PC23      PC24  \\\n20  0.136280 -0.553442 -0.275752  ... -0.337720  0.217188 -0.255547  0.040836   \n30 -0.097251  0.494815 -0.598420  ... -0.457738  0.255436  0.376065  0.518084   \n45 -0.363345 -0.465843  0.000913  ... -0.399821  0.441702 -0.954823 -0.304066   \n78  0.670639 -0.623169  0.288209  ...  0.147579 -0.354134  0.299273 -0.203035   \n93 -1.048774  0.443379  0.804063  ... -0.180557 -0.262788 -0.099802  0.106116   \n\n        PC25      PC26      PC27      PC28      PC29          PC30  \n20 -0.105579  0.162008 -0.136897 -0.174918 -0.002541  2.056693e-16  \n30 -0.047756  0.318612  0.135759  0.147383 -0.004423 -1.142060e-16  \n45 -0.019324 -0.638113 -0.236924  0.095463  0.010150  9.445107e-18  \n78 -0.221623  0.229212  0.168095  0.282655 -0.001020 -1.307175e-17  \n93 -0.022386  0.286631 -0.434704 -0.164196 -0.002431 -4.059177e-17  \n\n[5 rows x 30 columns]",
      "text/html": "<div>\n<style scoped>\n    .dataframe tbody tr th:only-of-type {\n        vertical-align: middle;\n    }\n\n    .dataframe tbody tr th {\n        vertical-align: top;\n    }\n\n    .dataframe thead th {\n        text-align: right;\n    }\n</style>\n<table border=\"1\" class=\"dataframe\">\n  <thead>\n    <tr style=\"text-align: right;\">\n      <th></th>\n      <th>PC1</th>\n      <th>PC2</th>\n      <th>PC3</th>\n      <th>PC4</th>\n      <th>PC5</th>\n      <th>PC6</th>\n      <th>PC7</th>\n      <th>PC8</th>\n      <th>PC9</th>\n      <th>PC10</th>\n      <th>...</th>\n      <th>PC21</th>\n      <th>PC22</th>\n      <th>PC23</th>\n      <th>PC24</th>\n      <th>PC25</th>\n      <th>PC26</th>\n      <th>PC27</th>\n      <th>PC28</th>\n      <th>PC29</th>\n      <th>PC30</th>\n    </tr>\n  </thead>\n  <tbody>\n    <tr>\n      <th>20</th>\n      <td>0.044218</td>\n      <td>2.377409</td>\n      <td>-0.271537</td>\n      <td>-1.529187</td>\n      <td>0.303006</td>\n      <td>0.284679</td>\n      <td>-0.301776</td>\n      <td>0.136280</td>\n      <td>-0.553442</td>\n      <td>-0.275752</td>\n      <td>...</td>\n      <td>-0.337720</td>\n      <td>0.217188</td>\n      <td>-0.255547</td>\n      <td>0.040836</td>\n      <td>-0.105579</td>\n      <td>0.162008</td>\n      <td>-0.136897</td>\n      <td>-0.174918</td>\n      <td>-0.002541</td>\n      <td>2.056693e-16</td>\n    </tr>\n    <tr>\n      <th>30</th>\n      <td>3.161805</td>\n      <td>1.310343</td>\n      <td>1.279679</td>\n      <td>-2.048017</td>\n      <td>1.351119</td>\n      <td>0.447595</td>\n      <td>-3.088057</td>\n      <td>-0.097251</td>\n      <td>0.494815</td>\n      <td>-0.598420</td>\n      <td>...</td>\n      <td>-0.457738</td>\n      <td>0.255436</td>\n      <td>0.376065</td>\n      <td>0.518084</td>\n      <td>-0.047756</td>\n      <td>0.318612</td>\n      <td>0.135759</td>\n      <td>0.147383</td>\n      <td>-0.004423</td>\n      <td>-1.142060e-16</td>\n    </tr>\n    <tr>\n      <th>45</th>\n      <td>0.333437</td>\n      <td>2.647345</td>\n      <td>0.711447</td>\n      <td>-1.711354</td>\n      <td>0.706289</td>\n      <td>-0.008161</td>\n      <td>0.781540</td>\n      <td>-0.363345</td>\n      <td>-0.465843</td>\n      <td>0.000913</td>\n      <td>...</td>\n      <td>-0.399821</td>\n      <td>0.441702</td>\n      <td>-0.954823</td>\n      <td>-0.304066</td>\n      <td>-0.019324</td>\n      <td>-0.638113</td>\n      <td>-0.236924</td>\n      <td>0.095463</td>\n      <td>0.010150</td>\n      <td>9.445107e-18</td>\n    </tr>\n    <tr>\n      <th>78</th>\n      <td>2.224684</td>\n      <td>2.395861</td>\n      <td>1.500868</td>\n      <td>-0.667843</td>\n      <td>-0.734307</td>\n      <td>-0.918348</td>\n      <td>-0.578596</td>\n      <td>0.670639</td>\n      <td>-0.623169</td>\n      <td>0.288209</td>\n      <td>...</td>\n      <td>0.147579</td>\n      <td>-0.354134</td>\n      <td>0.299273</td>\n      <td>-0.203035</td>\n      <td>-0.221623</td>\n      <td>0.229212</td>\n      <td>0.168095</td>\n      <td>0.282655</td>\n      <td>-0.001020</td>\n      <td>-1.307175e-17</td>\n    </tr>\n    <tr>\n      <th>93</th>\n      <td>-1.022459</td>\n      <td>-0.206790</td>\n      <td>0.073615</td>\n      <td>-0.383050</td>\n      <td>-0.997313</td>\n      <td>1.162059</td>\n      <td>-0.353378</td>\n      <td>-1.048774</td>\n      <td>0.443379</td>\n      <td>0.804063</td>\n      <td>...</td>\n      <td>-0.180557</td>\n      <td>-0.262788</td>\n      <td>-0.099802</td>\n      <td>0.106116</td>\n      <td>-0.022386</td>\n      <td>0.286631</td>\n      <td>-0.434704</td>\n      <td>-0.164196</td>\n      <td>-0.002431</td>\n      <td>-4.059177e-17</td>\n    </tr>\n  </tbody>\n</table>\n<p>5 rows × 30 columns</p>\n</div>"
     },
     "execution_count": 372,
     "metadata": {},
     "output_type": "execute_result"
    }
   ],
   "source": [
    "pca = perform_pca(df, significant_num_feats, n_components=30)\n",
    "pca.df.head()"
   ],
   "metadata": {
    "collapsed": false,
    "ExecuteTime": {
     "end_time": "2024-06-02T19:51:01.376446Z",
     "start_time": "2024-06-02T19:51:01.290419Z"
    }
   },
   "id": "f0ecbe125a19b4aa",
   "execution_count": 372
  },
  {
   "cell_type": "code",
   "outputs": [
    {
     "data": {
      "text/plain": "array([0.14362477, 0.26288998, 0.35602957, 0.42649006, 0.4911276 ,\n       0.53650476, 0.57811749, 0.61683906, 0.65485319, 0.68902039,\n       0.72095724, 0.75088175, 0.78018107, 0.80687935, 0.83263892,\n       0.85726127, 0.8805127 , 0.90224248, 0.92354253, 0.94329792,\n       0.95866979, 0.97074279, 0.98117894, 0.98663868, 0.99164723,\n       0.99596261, 0.99824203, 0.99999897, 1.        , 1.        ])"
     },
     "execution_count": 373,
     "metadata": {},
     "output_type": "execute_result"
    }
   ],
   "source": [
    "# cumulative explained variance\n",
    "cumulative_explained_var_pca = np.cumsum(pca.explained_variance_ratio_)\n",
    "cumulative_explained_var_pca"
   ],
   "metadata": {
    "collapsed": false,
    "ExecuteTime": {
     "end_time": "2024-06-02T19:51:01.381787Z",
     "start_time": "2024-06-02T19:51:01.377538Z"
    }
   },
   "id": "3049669bdd095b6e",
   "execution_count": 373
  },
  {
   "cell_type": "code",
   "outputs": [
    {
     "data": {
      "text/plain": "PC1     NGIFTALL\nPC2     CARDPROM\nPC3         VOC2\nPC4     LASTGIFT\nPC5          HC2\nPC6      POP90C2\nPC7     LASTDATE\nPC8         OCC6\nPC9      POP90C2\nPC10        OCC7\nPC11    ADATE_12\nPC12      INCOME\nPC13        OCC6\nPC14    CARDPM12\nPC15        OCC4\nPC16       OCC12\nPC17       OCC12\nPC18    MINRDATE\nPC19        OCC4\nPC20       OCC10\nPC21        OCC9\nPC22         HC2\nPC23    RAMNTALL\nPC24        VOC2\nPC25    LASTGIFT\nPC26    CARDPROM\nPC27    NGIFTALL\nPC28         MC2\nPC29     POP90C1\nPC30     ADATE_5\ndtype: object"
     },
     "execution_count": 374,
     "metadata": {},
     "output_type": "execute_result"
    }
   ],
   "source": [
    "loadings = pd.DataFrame(pca.components_.T, columns=[f'PC{i}' for i in range(1, 31)], index=significant_num_feats)\n",
    "max_loadings = loadings.abs().idxmax()\n",
    "max_loadings"
   ],
   "metadata": {
    "collapsed": false,
    "ExecuteTime": {
     "end_time": "2024-06-02T19:51:01.388445Z",
     "start_time": "2024-06-02T19:51:01.382948Z"
    }
   },
   "id": "1c2c28aad91c9692",
   "execution_count": 374
  },
  {
   "cell_type": "code",
   "outputs": [
    {
     "data": {
      "text/plain": "               PC1       PC2       PC3       PC4       PC5       PC6  \\\nINCOME    0.169044  0.081213  0.250812 -0.003818  0.032794 -0.006305   \nPOP90C1   0.275849  0.231060 -0.072755 -0.027260 -0.324292  0.362023   \nPOP90C2  -0.089273 -0.052342 -0.102285  0.019068  0.135616 -0.633104   \nPOP90C3  -0.253261 -0.226347  0.209205 -0.002327  0.269030  0.078182   \nETH16     0.076468  0.063318 -0.113056  0.034746 -0.045971  0.405643   \nMC1       0.212000  0.173217 -0.172724 -0.082856  0.445422  0.108442   \nMC2      -0.199211 -0.153770  0.276998  0.033450 -0.474276 -0.076164   \nOCC4      0.212086  0.199590  0.133508 -0.067450 -0.003082 -0.245464   \nOCC6     -0.006450 -0.003712 -0.076911  0.058546 -0.129235  0.114496   \nOCC7      0.014107  0.014842 -0.081101  0.008148  0.049391  0.193195   \nOCC9     -0.190483 -0.168279  0.095127  0.024144  0.114506  0.013547   \nOCC10    -0.205982 -0.174455 -0.001820 -0.011318  0.134610  0.256461   \nOCC11    -0.225761 -0.205085 -0.086540  0.044082 -0.050875  0.073675   \nOCC12    -0.217348 -0.189684 -0.036797  0.012704  0.054539  0.169426   \nEC1       0.224190  0.201154  0.278313 -0.102382 -0.059004 -0.069117   \nVOC2      0.010415 -0.005052  0.519186 -0.106790  0.133270  0.121805   \nVOC3     -0.061246 -0.071735  0.495100 -0.064652  0.071045  0.170237   \nHC2      -0.113543 -0.073463 -0.067494  0.062915 -0.527253 -0.069119   \nMHUC2     0.125496  0.123416  0.301851 -0.055224 -0.086563 -0.105942   \nCARDPROM -0.309632  0.358473  0.032436  0.026840  0.006423  0.002536   \nCARDPM12 -0.111382  0.160395  0.029399  0.081519  0.009045  0.001565   \nRAMNTALL -0.179398  0.301608  0.045703  0.371633  0.054526  0.015189   \nNGIFTALL -0.313070  0.356573 -0.015435 -0.045306  0.008861  0.018531   \nCARDGIFT -0.310385  0.346680 -0.007695 -0.078054  0.008450  0.010596   \nMINRDATE  0.220857 -0.247174 -0.036697 -0.051498 -0.001371  0.008277   \nLASTGIFT  0.092670  0.007113  0.086700  0.638373  0.059267  0.004223   \nLASTDATE -0.039490  0.068287 -0.031948 -0.046036 -0.004032 -0.027149   \nAVGGIFT   0.142855 -0.038588  0.087850  0.615895  0.055114  0.001382   \nADATE_5  -0.000000  0.000000 -0.000000 -0.000000 -0.000000 -0.000000   \nADATE_12  0.117023 -0.159481  0.017444  0.022581 -0.000600 -0.054470   \n\n               PC7       PC8       PC9      PC10  ...      PC21      PC22  \\\nINCOME   -0.034240 -0.012331  0.083910  0.117073  ...  0.106684 -0.028049   \nPOP90C1   0.016447 -0.176562 -0.068730 -0.046971  ...  0.275237  0.116033   \nPOP90C2   0.031214  0.104661  0.509152 -0.034411  ...  0.097468  0.090513   \nPOP90C3  -0.045101  0.151996 -0.245128  0.048158  ... -0.393656 -0.112977   \nETH16     0.004008  0.364833  0.282460 -0.156967  ... -0.115821  0.065303   \nMC1      -0.024128  0.102644  0.112700 -0.160398  ...  0.039855 -0.133156   \nMC2       0.020915 -0.040765  0.066490  0.072865  ... -0.014732  0.371379   \nOCC4     -0.008581 -0.009228 -0.049089 -0.031480  ...  0.368962 -0.211010   \nOCC6     -0.030606  0.630416  0.218868  0.007685  ...  0.043958 -0.009162   \nOCC7      0.030938 -0.005524  0.350340  0.776499  ...  0.069810 -0.035566   \nOCC9     -0.103341  0.459508 -0.368159  0.073777  ...  0.571154  0.220823   \nOCC10     0.073065 -0.267068  0.342294 -0.157491  ...  0.127971  0.095875   \nOCC11     0.053254 -0.180096  0.184903 -0.259287  ...  0.315763  0.062441   \nOCC12     0.001098 -0.039284  0.125018 -0.079792  ...  0.000618  0.025251   \nEC1      -0.022686  0.144816  0.119327 -0.109444  ... -0.339006  0.476390   \nVOC2      0.051628 -0.042061  0.166028 -0.058256  ...  0.065735 -0.047363   \nVOC3      0.054885  0.002541  0.132948 -0.030284  ...  0.081750 -0.335288   \nHC2      -0.033620  0.143910  0.074665 -0.077466  ... -0.111675 -0.576714   \nMHUC2    -0.018349  0.095569  0.121973 -0.070715  ...  0.096489 -0.139424   \nCARDPROM -0.036303 -0.024484 -0.008755  0.099055  ...  0.006209  0.011241   \nCARDPM12  0.537534  0.048745 -0.056995  0.172823  ... -0.007575  0.012466   \nRAMNTALL  0.059792 -0.004640 -0.003395 -0.042643  ...  0.005221 -0.007805   \nNGIFTALL  0.032523  0.002496  0.008045 -0.052609  ... -0.001908  0.009695   \nCARDGIFT -0.038710 -0.008503  0.005201 -0.052511  ...  0.005438  0.011190   \nMINRDATE  0.339673  0.062614  0.003224 -0.147937  ...  0.000988  0.032704   \nLASTGIFT -0.040530 -0.041740  0.004836 -0.025415  ... -0.000381 -0.006310   \nLASTDATE  0.702332  0.108675 -0.089568 -0.144033  ...  0.004544 -0.027593   \nAVGGIFT   0.016461 -0.019587  0.018678 -0.066799  ... -0.003452  0.020252   \nADATE_5   0.000000  0.000000 -0.000000  0.000000  ...  0.000000  0.000000   \nADATE_12  0.243058 -0.042464 -0.068301  0.308240  ... -0.006221  0.004613   \n\n              PC23      PC24      PC25      PC26      PC27      PC28  \\\nINCOME   -0.008032 -0.007213  0.011333  0.013239  0.013920 -0.023935   \nPOP90C1  -0.002152 -0.016345  0.001286  0.000327  0.009358 -0.186646   \nPOP90C2   0.002854 -0.022837  0.005591  0.000620  0.004854 -0.114233   \nPOP90C3   0.004058  0.024041 -0.004488 -0.008042  0.012470 -0.181480   \nETH16    -0.001359  0.026581 -0.001872 -0.008035 -0.006114  0.017665   \nMC1      -0.003413 -0.012363  0.001358 -0.015281  0.036812 -0.610466   \nMC2       0.013436 -0.022382  0.003214 -0.002939  0.032254 -0.619058   \nOCC4     -0.006784 -0.020273  0.000294 -0.009791  0.000043  0.074973   \nOCC6     -0.011754  0.033431  0.007707  0.002843 -0.002224  0.011404   \nOCC7      0.000726  0.001463 -0.007479  0.000409 -0.008058  0.051416   \nOCC9     -0.001277 -0.019386  0.003219  0.006365  0.000915  0.078650   \nOCC10     0.001104 -0.069308  0.013152 -0.002332 -0.008041  0.139034   \nOCC11     0.038967  0.001264  0.005620 -0.000135 -0.004853  0.099988   \nOCC12    -0.017753 -0.016177  0.001034  0.001450 -0.010294  0.077400   \nEC1       0.024281 -0.186864  0.035853 -0.002901 -0.018709  0.323210   \nVOC2     -0.003309  0.736996 -0.047703  0.022839  0.002702  0.030186   \nVOC3      0.003128 -0.626094  0.035928 -0.016781 -0.000523 -0.037247   \nHC2      -0.005351  0.118857 -0.010143 -0.005355 -0.002466  0.047052   \nMHUC2    -0.003212 -0.020804  0.006601  0.005680 -0.001193  0.009296   \nCARDPROM -0.163705  0.013593 -0.115404 -0.812508  0.073268  0.014402   \nCARDPM12 -0.012323 -0.003342  0.031292  0.237518 -0.049707 -0.006352   \nRAMNTALL  0.764869  0.005753 -0.018413 -0.028606 -0.190711 -0.013746   \nNGIFTALL -0.155444 -0.015807  0.033916  0.279689  0.728795  0.038616   \nCARDGIFT -0.452651 -0.010084  0.029367  0.223701 -0.645696 -0.037531   \nMINRDATE -0.127749  0.004331  0.066036 -0.375973 -0.014268  0.005723   \nLASTGIFT -0.245472  0.050924  0.697892 -0.047297  0.046226 -0.004639   \nLASTDATE -0.012640  0.008299 -0.001774 -0.045981 -0.001718 -0.003357   \nAVGGIFT  -0.275979 -0.048324 -0.697423  0.083868  0.042982  0.004887   \nADATE_5   0.000000  0.000000 -0.000000  0.000000  0.000000  0.000000   \nADATE_12 -0.055769 -0.004054 -0.002904  0.004207  0.003162 -0.002031   \n\n              PC29  PC30  \nINCOME   -0.000163   0.0  \nPOP90C1   0.650168   0.0  \nPOP90C2   0.427951   0.0  \nPOP90C3   0.546178   0.0  \nETH16     0.000142   0.0  \nMC1      -0.218712   0.0  \nMC2      -0.219072   0.0  \nOCC4      0.000050   0.0  \nOCC6      0.000115   0.0  \nOCC7     -0.000098   0.0  \nOCC9      0.000368   0.0  \nOCC10     0.000154   0.0  \nOCC11    -0.000105   0.0  \nOCC12    -0.000298   0.0  \nEC1       0.000498   0.0  \nVOC2     -0.000510   0.0  \nVOC3      0.000017   0.0  \nHC2       0.001054   0.0  \nMHUC2    -0.000287   0.0  \nCARDPROM  0.000023   0.0  \nCARDPM12 -0.000025   0.0  \nRAMNTALL  0.000041   0.0  \nNGIFTALL  0.000066   0.0  \nCARDGIFT -0.000185   0.0  \nMINRDATE -0.000061   0.0  \nLASTGIFT  0.000083   0.0  \nLASTDATE  0.000048   0.0  \nAVGGIFT  -0.000208   0.0  \nADATE_5   0.000000   1.0  \nADATE_12 -0.000068   0.0  \n\n[30 rows x 30 columns]",
      "text/html": "<div>\n<style scoped>\n    .dataframe tbody tr th:only-of-type {\n        vertical-align: middle;\n    }\n\n    .dataframe tbody tr th {\n        vertical-align: top;\n    }\n\n    .dataframe thead th {\n        text-align: right;\n    }\n</style>\n<table border=\"1\" class=\"dataframe\">\n  <thead>\n    <tr style=\"text-align: right;\">\n      <th></th>\n      <th>PC1</th>\n      <th>PC2</th>\n      <th>PC3</th>\n      <th>PC4</th>\n      <th>PC5</th>\n      <th>PC6</th>\n      <th>PC7</th>\n      <th>PC8</th>\n      <th>PC9</th>\n      <th>PC10</th>\n      <th>...</th>\n      <th>PC21</th>\n      <th>PC22</th>\n      <th>PC23</th>\n      <th>PC24</th>\n      <th>PC25</th>\n      <th>PC26</th>\n      <th>PC27</th>\n      <th>PC28</th>\n      <th>PC29</th>\n      <th>PC30</th>\n    </tr>\n  </thead>\n  <tbody>\n    <tr>\n      <th>INCOME</th>\n      <td>0.169044</td>\n      <td>0.081213</td>\n      <td>0.250812</td>\n      <td>-0.003818</td>\n      <td>0.032794</td>\n      <td>-0.006305</td>\n      <td>-0.034240</td>\n      <td>-0.012331</td>\n      <td>0.083910</td>\n      <td>0.117073</td>\n      <td>...</td>\n      <td>0.106684</td>\n      <td>-0.028049</td>\n      <td>-0.008032</td>\n      <td>-0.007213</td>\n      <td>0.011333</td>\n      <td>0.013239</td>\n      <td>0.013920</td>\n      <td>-0.023935</td>\n      <td>-0.000163</td>\n      <td>0.0</td>\n    </tr>\n    <tr>\n      <th>POP90C1</th>\n      <td>0.275849</td>\n      <td>0.231060</td>\n      <td>-0.072755</td>\n      <td>-0.027260</td>\n      <td>-0.324292</td>\n      <td>0.362023</td>\n      <td>0.016447</td>\n      <td>-0.176562</td>\n      <td>-0.068730</td>\n      <td>-0.046971</td>\n      <td>...</td>\n      <td>0.275237</td>\n      <td>0.116033</td>\n      <td>-0.002152</td>\n      <td>-0.016345</td>\n      <td>0.001286</td>\n      <td>0.000327</td>\n      <td>0.009358</td>\n      <td>-0.186646</td>\n      <td>0.650168</td>\n      <td>0.0</td>\n    </tr>\n    <tr>\n      <th>POP90C2</th>\n      <td>-0.089273</td>\n      <td>-0.052342</td>\n      <td>-0.102285</td>\n      <td>0.019068</td>\n      <td>0.135616</td>\n      <td>-0.633104</td>\n      <td>0.031214</td>\n      <td>0.104661</td>\n      <td>0.509152</td>\n      <td>-0.034411</td>\n      <td>...</td>\n      <td>0.097468</td>\n      <td>0.090513</td>\n      <td>0.002854</td>\n      <td>-0.022837</td>\n      <td>0.005591</td>\n      <td>0.000620</td>\n      <td>0.004854</td>\n      <td>-0.114233</td>\n      <td>0.427951</td>\n      <td>0.0</td>\n    </tr>\n    <tr>\n      <th>POP90C3</th>\n      <td>-0.253261</td>\n      <td>-0.226347</td>\n      <td>0.209205</td>\n      <td>-0.002327</td>\n      <td>0.269030</td>\n      <td>0.078182</td>\n      <td>-0.045101</td>\n      <td>0.151996</td>\n      <td>-0.245128</td>\n      <td>0.048158</td>\n      <td>...</td>\n      <td>-0.393656</td>\n      <td>-0.112977</td>\n      <td>0.004058</td>\n      <td>0.024041</td>\n      <td>-0.004488</td>\n      <td>-0.008042</td>\n      <td>0.012470</td>\n      <td>-0.181480</td>\n      <td>0.546178</td>\n      <td>0.0</td>\n    </tr>\n    <tr>\n      <th>ETH16</th>\n      <td>0.076468</td>\n      <td>0.063318</td>\n      <td>-0.113056</td>\n      <td>0.034746</td>\n      <td>-0.045971</td>\n      <td>0.405643</td>\n      <td>0.004008</td>\n      <td>0.364833</td>\n      <td>0.282460</td>\n      <td>-0.156967</td>\n      <td>...</td>\n      <td>-0.115821</td>\n      <td>0.065303</td>\n      <td>-0.001359</td>\n      <td>0.026581</td>\n      <td>-0.001872</td>\n      <td>-0.008035</td>\n      <td>-0.006114</td>\n      <td>0.017665</td>\n      <td>0.000142</td>\n      <td>0.0</td>\n    </tr>\n    <tr>\n      <th>MC1</th>\n      <td>0.212000</td>\n      <td>0.173217</td>\n      <td>-0.172724</td>\n      <td>-0.082856</td>\n      <td>0.445422</td>\n      <td>0.108442</td>\n      <td>-0.024128</td>\n      <td>0.102644</td>\n      <td>0.112700</td>\n      <td>-0.160398</td>\n      <td>...</td>\n      <td>0.039855</td>\n      <td>-0.133156</td>\n      <td>-0.003413</td>\n      <td>-0.012363</td>\n      <td>0.001358</td>\n      <td>-0.015281</td>\n      <td>0.036812</td>\n      <td>-0.610466</td>\n      <td>-0.218712</td>\n      <td>0.0</td>\n    </tr>\n    <tr>\n      <th>MC2</th>\n      <td>-0.199211</td>\n      <td>-0.153770</td>\n      <td>0.276998</td>\n      <td>0.033450</td>\n      <td>-0.474276</td>\n      <td>-0.076164</td>\n      <td>0.020915</td>\n      <td>-0.040765</td>\n      <td>0.066490</td>\n      <td>0.072865</td>\n      <td>...</td>\n      <td>-0.014732</td>\n      <td>0.371379</td>\n      <td>0.013436</td>\n      <td>-0.022382</td>\n      <td>0.003214</td>\n      <td>-0.002939</td>\n      <td>0.032254</td>\n      <td>-0.619058</td>\n      <td>-0.219072</td>\n      <td>0.0</td>\n    </tr>\n    <tr>\n      <th>OCC4</th>\n      <td>0.212086</td>\n      <td>0.199590</td>\n      <td>0.133508</td>\n      <td>-0.067450</td>\n      <td>-0.003082</td>\n      <td>-0.245464</td>\n      <td>-0.008581</td>\n      <td>-0.009228</td>\n      <td>-0.049089</td>\n      <td>-0.031480</td>\n      <td>...</td>\n      <td>0.368962</td>\n      <td>-0.211010</td>\n      <td>-0.006784</td>\n      <td>-0.020273</td>\n      <td>0.000294</td>\n      <td>-0.009791</td>\n      <td>0.000043</td>\n      <td>0.074973</td>\n      <td>0.000050</td>\n      <td>0.0</td>\n    </tr>\n    <tr>\n      <th>OCC6</th>\n      <td>-0.006450</td>\n      <td>-0.003712</td>\n      <td>-0.076911</td>\n      <td>0.058546</td>\n      <td>-0.129235</td>\n      <td>0.114496</td>\n      <td>-0.030606</td>\n      <td>0.630416</td>\n      <td>0.218868</td>\n      <td>0.007685</td>\n      <td>...</td>\n      <td>0.043958</td>\n      <td>-0.009162</td>\n      <td>-0.011754</td>\n      <td>0.033431</td>\n      <td>0.007707</td>\n      <td>0.002843</td>\n      <td>-0.002224</td>\n      <td>0.011404</td>\n      <td>0.000115</td>\n      <td>0.0</td>\n    </tr>\n    <tr>\n      <th>OCC7</th>\n      <td>0.014107</td>\n      <td>0.014842</td>\n      <td>-0.081101</td>\n      <td>0.008148</td>\n      <td>0.049391</td>\n      <td>0.193195</td>\n      <td>0.030938</td>\n      <td>-0.005524</td>\n      <td>0.350340</td>\n      <td>0.776499</td>\n      <td>...</td>\n      <td>0.069810</td>\n      <td>-0.035566</td>\n      <td>0.000726</td>\n      <td>0.001463</td>\n      <td>-0.007479</td>\n      <td>0.000409</td>\n      <td>-0.008058</td>\n      <td>0.051416</td>\n      <td>-0.000098</td>\n      <td>0.0</td>\n    </tr>\n    <tr>\n      <th>OCC9</th>\n      <td>-0.190483</td>\n      <td>-0.168279</td>\n      <td>0.095127</td>\n      <td>0.024144</td>\n      <td>0.114506</td>\n      <td>0.013547</td>\n      <td>-0.103341</td>\n      <td>0.459508</td>\n      <td>-0.368159</td>\n      <td>0.073777</td>\n      <td>...</td>\n      <td>0.571154</td>\n      <td>0.220823</td>\n      <td>-0.001277</td>\n      <td>-0.019386</td>\n      <td>0.003219</td>\n      <td>0.006365</td>\n      <td>0.000915</td>\n      <td>0.078650</td>\n      <td>0.000368</td>\n      <td>0.0</td>\n    </tr>\n    <tr>\n      <th>OCC10</th>\n      <td>-0.205982</td>\n      <td>-0.174455</td>\n      <td>-0.001820</td>\n      <td>-0.011318</td>\n      <td>0.134610</td>\n      <td>0.256461</td>\n      <td>0.073065</td>\n      <td>-0.267068</td>\n      <td>0.342294</td>\n      <td>-0.157491</td>\n      <td>...</td>\n      <td>0.127971</td>\n      <td>0.095875</td>\n      <td>0.001104</td>\n      <td>-0.069308</td>\n      <td>0.013152</td>\n      <td>-0.002332</td>\n      <td>-0.008041</td>\n      <td>0.139034</td>\n      <td>0.000154</td>\n      <td>0.0</td>\n    </tr>\n    <tr>\n      <th>OCC11</th>\n      <td>-0.225761</td>\n      <td>-0.205085</td>\n      <td>-0.086540</td>\n      <td>0.044082</td>\n      <td>-0.050875</td>\n      <td>0.073675</td>\n      <td>0.053254</td>\n      <td>-0.180096</td>\n      <td>0.184903</td>\n      <td>-0.259287</td>\n      <td>...</td>\n      <td>0.315763</td>\n      <td>0.062441</td>\n      <td>0.038967</td>\n      <td>0.001264</td>\n      <td>0.005620</td>\n      <td>-0.000135</td>\n      <td>-0.004853</td>\n      <td>0.099988</td>\n      <td>-0.000105</td>\n      <td>0.0</td>\n    </tr>\n    <tr>\n      <th>OCC12</th>\n      <td>-0.217348</td>\n      <td>-0.189684</td>\n      <td>-0.036797</td>\n      <td>0.012704</td>\n      <td>0.054539</td>\n      <td>0.169426</td>\n      <td>0.001098</td>\n      <td>-0.039284</td>\n      <td>0.125018</td>\n      <td>-0.079792</td>\n      <td>...</td>\n      <td>0.000618</td>\n      <td>0.025251</td>\n      <td>-0.017753</td>\n      <td>-0.016177</td>\n      <td>0.001034</td>\n      <td>0.001450</td>\n      <td>-0.010294</td>\n      <td>0.077400</td>\n      <td>-0.000298</td>\n      <td>0.0</td>\n    </tr>\n    <tr>\n      <th>EC1</th>\n      <td>0.224190</td>\n      <td>0.201154</td>\n      <td>0.278313</td>\n      <td>-0.102382</td>\n      <td>-0.059004</td>\n      <td>-0.069117</td>\n      <td>-0.022686</td>\n      <td>0.144816</td>\n      <td>0.119327</td>\n      <td>-0.109444</td>\n      <td>...</td>\n      <td>-0.339006</td>\n      <td>0.476390</td>\n      <td>0.024281</td>\n      <td>-0.186864</td>\n      <td>0.035853</td>\n      <td>-0.002901</td>\n      <td>-0.018709</td>\n      <td>0.323210</td>\n      <td>0.000498</td>\n      <td>0.0</td>\n    </tr>\n    <tr>\n      <th>VOC2</th>\n      <td>0.010415</td>\n      <td>-0.005052</td>\n      <td>0.519186</td>\n      <td>-0.106790</td>\n      <td>0.133270</td>\n      <td>0.121805</td>\n      <td>0.051628</td>\n      <td>-0.042061</td>\n      <td>0.166028</td>\n      <td>-0.058256</td>\n      <td>...</td>\n      <td>0.065735</td>\n      <td>-0.047363</td>\n      <td>-0.003309</td>\n      <td>0.736996</td>\n      <td>-0.047703</td>\n      <td>0.022839</td>\n      <td>0.002702</td>\n      <td>0.030186</td>\n      <td>-0.000510</td>\n      <td>0.0</td>\n    </tr>\n    <tr>\n      <th>VOC3</th>\n      <td>-0.061246</td>\n      <td>-0.071735</td>\n      <td>0.495100</td>\n      <td>-0.064652</td>\n      <td>0.071045</td>\n      <td>0.170237</td>\n      <td>0.054885</td>\n      <td>0.002541</td>\n      <td>0.132948</td>\n      <td>-0.030284</td>\n      <td>...</td>\n      <td>0.081750</td>\n      <td>-0.335288</td>\n      <td>0.003128</td>\n      <td>-0.626094</td>\n      <td>0.035928</td>\n      <td>-0.016781</td>\n      <td>-0.000523</td>\n      <td>-0.037247</td>\n      <td>0.000017</td>\n      <td>0.0</td>\n    </tr>\n    <tr>\n      <th>HC2</th>\n      <td>-0.113543</td>\n      <td>-0.073463</td>\n      <td>-0.067494</td>\n      <td>0.062915</td>\n      <td>-0.527253</td>\n      <td>-0.069119</td>\n      <td>-0.033620</td>\n      <td>0.143910</td>\n      <td>0.074665</td>\n      <td>-0.077466</td>\n      <td>...</td>\n      <td>-0.111675</td>\n      <td>-0.576714</td>\n      <td>-0.005351</td>\n      <td>0.118857</td>\n      <td>-0.010143</td>\n      <td>-0.005355</td>\n      <td>-0.002466</td>\n      <td>0.047052</td>\n      <td>0.001054</td>\n      <td>0.0</td>\n    </tr>\n    <tr>\n      <th>MHUC2</th>\n      <td>0.125496</td>\n      <td>0.123416</td>\n      <td>0.301851</td>\n      <td>-0.055224</td>\n      <td>-0.086563</td>\n      <td>-0.105942</td>\n      <td>-0.018349</td>\n      <td>0.095569</td>\n      <td>0.121973</td>\n      <td>-0.070715</td>\n      <td>...</td>\n      <td>0.096489</td>\n      <td>-0.139424</td>\n      <td>-0.003212</td>\n      <td>-0.020804</td>\n      <td>0.006601</td>\n      <td>0.005680</td>\n      <td>-0.001193</td>\n      <td>0.009296</td>\n      <td>-0.000287</td>\n      <td>0.0</td>\n    </tr>\n    <tr>\n      <th>CARDPROM</th>\n      <td>-0.309632</td>\n      <td>0.358473</td>\n      <td>0.032436</td>\n      <td>0.026840</td>\n      <td>0.006423</td>\n      <td>0.002536</td>\n      <td>-0.036303</td>\n      <td>-0.024484</td>\n      <td>-0.008755</td>\n      <td>0.099055</td>\n      <td>...</td>\n      <td>0.006209</td>\n      <td>0.011241</td>\n      <td>-0.163705</td>\n      <td>0.013593</td>\n      <td>-0.115404</td>\n      <td>-0.812508</td>\n      <td>0.073268</td>\n      <td>0.014402</td>\n      <td>0.000023</td>\n      <td>0.0</td>\n    </tr>\n    <tr>\n      <th>CARDPM12</th>\n      <td>-0.111382</td>\n      <td>0.160395</td>\n      <td>0.029399</td>\n      <td>0.081519</td>\n      <td>0.009045</td>\n      <td>0.001565</td>\n      <td>0.537534</td>\n      <td>0.048745</td>\n      <td>-0.056995</td>\n      <td>0.172823</td>\n      <td>...</td>\n      <td>-0.007575</td>\n      <td>0.012466</td>\n      <td>-0.012323</td>\n      <td>-0.003342</td>\n      <td>0.031292</td>\n      <td>0.237518</td>\n      <td>-0.049707</td>\n      <td>-0.006352</td>\n      <td>-0.000025</td>\n      <td>0.0</td>\n    </tr>\n    <tr>\n      <th>RAMNTALL</th>\n      <td>-0.179398</td>\n      <td>0.301608</td>\n      <td>0.045703</td>\n      <td>0.371633</td>\n      <td>0.054526</td>\n      <td>0.015189</td>\n      <td>0.059792</td>\n      <td>-0.004640</td>\n      <td>-0.003395</td>\n      <td>-0.042643</td>\n      <td>...</td>\n      <td>0.005221</td>\n      <td>-0.007805</td>\n      <td>0.764869</td>\n      <td>0.005753</td>\n      <td>-0.018413</td>\n      <td>-0.028606</td>\n      <td>-0.190711</td>\n      <td>-0.013746</td>\n      <td>0.000041</td>\n      <td>0.0</td>\n    </tr>\n    <tr>\n      <th>NGIFTALL</th>\n      <td>-0.313070</td>\n      <td>0.356573</td>\n      <td>-0.015435</td>\n      <td>-0.045306</td>\n      <td>0.008861</td>\n      <td>0.018531</td>\n      <td>0.032523</td>\n      <td>0.002496</td>\n      <td>0.008045</td>\n      <td>-0.052609</td>\n      <td>...</td>\n      <td>-0.001908</td>\n      <td>0.009695</td>\n      <td>-0.155444</td>\n      <td>-0.015807</td>\n      <td>0.033916</td>\n      <td>0.279689</td>\n      <td>0.728795</td>\n      <td>0.038616</td>\n      <td>0.000066</td>\n      <td>0.0</td>\n    </tr>\n    <tr>\n      <th>CARDGIFT</th>\n      <td>-0.310385</td>\n      <td>0.346680</td>\n      <td>-0.007695</td>\n      <td>-0.078054</td>\n      <td>0.008450</td>\n      <td>0.010596</td>\n      <td>-0.038710</td>\n      <td>-0.008503</td>\n      <td>0.005201</td>\n      <td>-0.052511</td>\n      <td>...</td>\n      <td>0.005438</td>\n      <td>0.011190</td>\n      <td>-0.452651</td>\n      <td>-0.010084</td>\n      <td>0.029367</td>\n      <td>0.223701</td>\n      <td>-0.645696</td>\n      <td>-0.037531</td>\n      <td>-0.000185</td>\n      <td>0.0</td>\n    </tr>\n    <tr>\n      <th>MINRDATE</th>\n      <td>0.220857</td>\n      <td>-0.247174</td>\n      <td>-0.036697</td>\n      <td>-0.051498</td>\n      <td>-0.001371</td>\n      <td>0.008277</td>\n      <td>0.339673</td>\n      <td>0.062614</td>\n      <td>0.003224</td>\n      <td>-0.147937</td>\n      <td>...</td>\n      <td>0.000988</td>\n      <td>0.032704</td>\n      <td>-0.127749</td>\n      <td>0.004331</td>\n      <td>0.066036</td>\n      <td>-0.375973</td>\n      <td>-0.014268</td>\n      <td>0.005723</td>\n      <td>-0.000061</td>\n      <td>0.0</td>\n    </tr>\n    <tr>\n      <th>LASTGIFT</th>\n      <td>0.092670</td>\n      <td>0.007113</td>\n      <td>0.086700</td>\n      <td>0.638373</td>\n      <td>0.059267</td>\n      <td>0.004223</td>\n      <td>-0.040530</td>\n      <td>-0.041740</td>\n      <td>0.004836</td>\n      <td>-0.025415</td>\n      <td>...</td>\n      <td>-0.000381</td>\n      <td>-0.006310</td>\n      <td>-0.245472</td>\n      <td>0.050924</td>\n      <td>0.697892</td>\n      <td>-0.047297</td>\n      <td>0.046226</td>\n      <td>-0.004639</td>\n      <td>0.000083</td>\n      <td>0.0</td>\n    </tr>\n    <tr>\n      <th>LASTDATE</th>\n      <td>-0.039490</td>\n      <td>0.068287</td>\n      <td>-0.031948</td>\n      <td>-0.046036</td>\n      <td>-0.004032</td>\n      <td>-0.027149</td>\n      <td>0.702332</td>\n      <td>0.108675</td>\n      <td>-0.089568</td>\n      <td>-0.144033</td>\n      <td>...</td>\n      <td>0.004544</td>\n      <td>-0.027593</td>\n      <td>-0.012640</td>\n      <td>0.008299</td>\n      <td>-0.001774</td>\n      <td>-0.045981</td>\n      <td>-0.001718</td>\n      <td>-0.003357</td>\n      <td>0.000048</td>\n      <td>0.0</td>\n    </tr>\n    <tr>\n      <th>AVGGIFT</th>\n      <td>0.142855</td>\n      <td>-0.038588</td>\n      <td>0.087850</td>\n      <td>0.615895</td>\n      <td>0.055114</td>\n      <td>0.001382</td>\n      <td>0.016461</td>\n      <td>-0.019587</td>\n      <td>0.018678</td>\n      <td>-0.066799</td>\n      <td>...</td>\n      <td>-0.003452</td>\n      <td>0.020252</td>\n      <td>-0.275979</td>\n      <td>-0.048324</td>\n      <td>-0.697423</td>\n      <td>0.083868</td>\n      <td>0.042982</td>\n      <td>0.004887</td>\n      <td>-0.000208</td>\n      <td>0.0</td>\n    </tr>\n    <tr>\n      <th>ADATE_5</th>\n      <td>-0.000000</td>\n      <td>0.000000</td>\n      <td>-0.000000</td>\n      <td>-0.000000</td>\n      <td>-0.000000</td>\n      <td>-0.000000</td>\n      <td>0.000000</td>\n      <td>0.000000</td>\n      <td>-0.000000</td>\n      <td>0.000000</td>\n      <td>...</td>\n      <td>0.000000</td>\n      <td>0.000000</td>\n      <td>0.000000</td>\n      <td>0.000000</td>\n      <td>-0.000000</td>\n      <td>0.000000</td>\n      <td>0.000000</td>\n      <td>0.000000</td>\n      <td>0.000000</td>\n      <td>1.0</td>\n    </tr>\n    <tr>\n      <th>ADATE_12</th>\n      <td>0.117023</td>\n      <td>-0.159481</td>\n      <td>0.017444</td>\n      <td>0.022581</td>\n      <td>-0.000600</td>\n      <td>-0.054470</td>\n      <td>0.243058</td>\n      <td>-0.042464</td>\n      <td>-0.068301</td>\n      <td>0.308240</td>\n      <td>...</td>\n      <td>-0.006221</td>\n      <td>0.004613</td>\n      <td>-0.055769</td>\n      <td>-0.004054</td>\n      <td>-0.002904</td>\n      <td>0.004207</td>\n      <td>0.003162</td>\n      <td>-0.002031</td>\n      <td>-0.000068</td>\n      <td>0.0</td>\n    </tr>\n  </tbody>\n</table>\n<p>30 rows × 30 columns</p>\n</div>"
     },
     "execution_count": 375,
     "metadata": {},
     "output_type": "execute_result"
    }
   ],
   "source": [
    "loadings"
   ],
   "metadata": {
    "collapsed": false,
    "ExecuteTime": {
     "end_time": "2024-06-02T19:51:01.412130Z",
     "start_time": "2024-06-02T19:51:01.388497Z"
    }
   },
   "id": "f9316f9f7dce551d",
   "execution_count": 375
  },
  {
   "cell_type": "code",
   "outputs": [
    {
     "data": {
      "text/plain": "<Figure size 1200x800 with 2 Axes>",
      "image/png": "[encoded data removed]"
     },
     "metadata": {},
     "output_type": "display_data"
    }
   ],
   "source": [
    "from matplotlib import pyplot as plt\n",
    "import seaborn as sns\n",
    "\n",
    "plt.figure(figsize=(12, 8))\n",
    "sns.heatmap(loadings, cmap='coolwarm', annot=False, fmt=\".2f\")\n",
    "plt.title('Loadings of Variables on Principal Components')\n",
    "plt.xlabel('Principal Components')\n",
    "plt.ylabel('Variables')\n",
    "#plt.savefig('loadings.png')\n",
    "plt.show()"
   ],
   "metadata": {
    "collapsed": false,
    "ExecuteTime": {
     "end_time": "2024-06-02T19:51:01.804060Z",
     "start_time": "2024-06-02T19:51:01.413220Z"
    }
   },
   "id": "dd37f64687e04e19",
   "execution_count": 376
  },
  {
   "cell_type": "markdown",
   "source": [
    "*FA Feature Selection*\n",
    "Categorical features"
   ],
   "metadata": {
    "collapsed": false
   },
   "id": "1c99bb288930cc99"
  },
  {
   "cell_type": "code",
   "outputs": [],
   "source": [
    "def perform_mca(data, cat_feats, components=10):\n",
    "    # Perform Factor Analysis for categorical variables\n",
    "    \n",
    "    data[cat_feats] = data[cat_feats].astype(float)\n",
    "    mca = prince.MCA(n_components=components, n_iter=5, copy=True, check_input=True, engine='sklearn', random_state=42)\n",
    "    mca = mca.fit(data[cat_feats])\n",
    "    \n",
    "    # Get the factor loadings and explained variance\n",
    "    mca_df = mca.transform(data[cat_feats])\n",
    "    explained_variance = mca.eigenvalues_summary\n",
    "\n",
    "    return mca_df, explained_variance\n",
    "\n",
    "mca_df, explained_var_mca = perform_mca(df, cat_feats, components=100)"
   ],
   "metadata": {
    "collapsed": false,
    "ExecuteTime": {
     "end_time": "2024-06-02T19:51:09.173237Z",
     "start_time": "2024-06-02T19:51:01.805066Z"
    }
   },
   "id": "3513beef8bd54648",
   "execution_count": 377
  },
  {
   "cell_type": "code",
   "outputs": [
    {
     "data": {
      "text/plain": "          0         1         2         3         4         5         6   \\\n20  1.172144  0.289519 -0.052707  0.322560 -0.213430 -0.204372 -0.097644   \n30  0.834191 -0.742814  1.438410  0.043295  0.697089 -0.246191  0.279367   \n45  1.296410  0.516901 -0.225488  0.530265 -0.327200 -0.152030 -0.037668   \n78 -0.337108 -0.151345 -0.247848 -0.009354  0.191834 -0.393893  0.109883   \n93  0.315783  0.062306 -0.548084 -0.900627  0.189588  0.504659 -0.322902   \n\n          7         8         9   ...        90        91        92        93  \\\n20 -0.187487 -0.524349  1.085734  ... -0.252509  0.183871  0.035919 -0.252089   \n30  1.317615 -0.088724  0.019514  ...  0.400466 -0.425308  0.522600 -0.289706   \n45 -0.292317 -0.213096  0.362916  ...  0.131262 -0.016436 -0.180122 -0.136795   \n78 -0.233215 -0.005864 -0.067733  ...  0.081980  0.072214  0.002144 -0.082452   \n93  0.260962  0.083413  0.231420  ... -0.247299  0.032817 -0.061823  0.064989   \n\n          94        95        96        97        98        99  \n20 -0.246482 -0.057739  0.383442 -0.114183  0.453842  0.202588  \n30  0.398759 -0.022922 -0.357546 -0.200030  0.418594  0.061111  \n45 -0.080222 -0.146881  0.237301 -0.006802  0.046271 -0.061338  \n78 -0.144896  0.078924  0.084443  0.147590 -0.228288 -0.038375  \n93  0.033095  0.065377  0.238229  0.119037  0.133019 -0.137967  \n\n[5 rows x 100 columns]",
      "text/html": "<div>\n<style scoped>\n    .dataframe tbody tr th:only-of-type {\n        vertical-align: middle;\n    }\n\n    .dataframe tbody tr th {\n        vertical-align: top;\n    }\n\n    .dataframe thead th {\n        text-align: right;\n    }\n</style>\n<table border=\"1\" class=\"dataframe\">\n  <thead>\n    <tr style=\"text-align: right;\">\n      <th></th>\n      <th>0</th>\n      <th>1</th>\n      <th>2</th>\n      <th>3</th>\n      <th>4</th>\n      <th>5</th>\n      <th>6</th>\n      <th>7</th>\n      <th>8</th>\n      <th>9</th>\n      <th>...</th>\n      <th>90</th>\n      <th>91</th>\n      <th>92</th>\n      <th>93</th>\n      <th>94</th>\n      <th>95</th>\n      <th>96</th>\n      <th>97</th>\n      <th>98</th>\n      <th>99</th>\n    </tr>\n  </thead>\n  <tbody>\n    <tr>\n      <th>20</th>\n      <td>1.172144</td>\n      <td>0.289519</td>\n      <td>-0.052707</td>\n      <td>0.322560</td>\n      <td>-0.213430</td>\n      <td>-0.204372</td>\n      <td>-0.097644</td>\n      <td>-0.187487</td>\n      <td>-0.524349</td>\n      <td>1.085734</td>\n      <td>...</td>\n      <td>-0.252509</td>\n      <td>0.183871</td>\n      <td>0.035919</td>\n      <td>-0.252089</td>\n      <td>-0.246482</td>\n      <td>-0.057739</td>\n      <td>0.383442</td>\n      <td>-0.114183</td>\n      <td>0.453842</td>\n      <td>0.202588</td>\n    </tr>\n    <tr>\n      <th>30</th>\n      <td>0.834191</td>\n      <td>-0.742814</td>\n      <td>1.438410</td>\n      <td>0.043295</td>\n      <td>0.697089</td>\n      <td>-0.246191</td>\n      <td>0.279367</td>\n      <td>1.317615</td>\n      <td>-0.088724</td>\n      <td>0.019514</td>\n      <td>...</td>\n      <td>0.400466</td>\n      <td>-0.425308</td>\n      <td>0.522600</td>\n      <td>-0.289706</td>\n      <td>0.398759</td>\n      <td>-0.022922</td>\n      <td>-0.357546</td>\n      <td>-0.200030</td>\n      <td>0.418594</td>\n      <td>0.061111</td>\n    </tr>\n    <tr>\n      <th>45</th>\n      <td>1.296410</td>\n      <td>0.516901</td>\n      <td>-0.225488</td>\n      <td>0.530265</td>\n      <td>-0.327200</td>\n      <td>-0.152030</td>\n      <td>-0.037668</td>\n      <td>-0.292317</td>\n      <td>-0.213096</td>\n      <td>0.362916</td>\n      <td>...</td>\n      <td>0.131262</td>\n      <td>-0.016436</td>\n      <td>-0.180122</td>\n      <td>-0.136795</td>\n      <td>-0.080222</td>\n      <td>-0.146881</td>\n      <td>0.237301</td>\n      <td>-0.006802</td>\n      <td>0.046271</td>\n      <td>-0.061338</td>\n    </tr>\n    <tr>\n      <th>78</th>\n      <td>-0.337108</td>\n      <td>-0.151345</td>\n      <td>-0.247848</td>\n      <td>-0.009354</td>\n      <td>0.191834</td>\n      <td>-0.393893</td>\n      <td>0.109883</td>\n      <td>-0.233215</td>\n      <td>-0.005864</td>\n      <td>-0.067733</td>\n      <td>...</td>\n      <td>0.081980</td>\n      <td>0.072214</td>\n      <td>0.002144</td>\n      <td>-0.082452</td>\n      <td>-0.144896</td>\n      <td>0.078924</td>\n      <td>0.084443</td>\n      <td>0.147590</td>\n      <td>-0.228288</td>\n      <td>-0.038375</td>\n    </tr>\n    <tr>\n      <th>93</th>\n      <td>0.315783</td>\n      <td>0.062306</td>\n      <td>-0.548084</td>\n      <td>-0.900627</td>\n      <td>0.189588</td>\n      <td>0.504659</td>\n      <td>-0.322902</td>\n      <td>0.260962</td>\n      <td>0.083413</td>\n      <td>0.231420</td>\n      <td>...</td>\n      <td>-0.247299</td>\n      <td>0.032817</td>\n      <td>-0.061823</td>\n      <td>0.064989</td>\n      <td>0.033095</td>\n      <td>0.065377</td>\n      <td>0.238229</td>\n      <td>0.119037</td>\n      <td>0.133019</td>\n      <td>-0.137967</td>\n    </tr>\n  </tbody>\n</table>\n<p>5 rows × 100 columns</p>\n</div>"
     },
     "execution_count": 378,
     "metadata": {},
     "output_type": "execute_result"
    }
   ],
   "source": [
    "mca_df.head()"
   ],
   "metadata": {
    "collapsed": false,
    "ExecuteTime": {
     "end_time": "2024-06-02T19:51:09.185291Z",
     "start_time": "2024-06-02T19:51:09.174466Z"
    }
   },
   "id": "715c696d878db3b8",
   "execution_count": 378
  },
  {
   "cell_type": "code",
   "outputs": [
    {
     "data": {
      "text/plain": "          eigenvalue % of variance % of variance (cumulative)\ncomponent                                                    \n0              0.276         0.24%                      0.24%\n1              0.222         0.19%                      0.43%\n2              0.205         0.18%                      0.61%\n3              0.199         0.17%                      0.79%\n4              0.175         0.15%                      0.94%\n...              ...           ...                        ...\n95             0.049         0.04%                      7.13%\n96             0.049         0.04%                      7.17%\n97             0.048         0.04%                      7.22%\n98             0.048         0.04%                      7.26%\n99             0.048         0.04%                      7.30%\n\n[100 rows x 3 columns]",
      "text/html": "<div>\n<style scoped>\n    .dataframe tbody tr th:only-of-type {\n        vertical-align: middle;\n    }\n\n    .dataframe tbody tr th {\n        vertical-align: top;\n    }\n\n    .dataframe thead th {\n        text-align: right;\n    }\n</style>\n<table border=\"1\" class=\"dataframe\">\n  <thead>\n    <tr style=\"text-align: right;\">\n      <th></th>\n      <th>eigenvalue</th>\n      <th>% of variance</th>\n      <th>% of variance (cumulative)</th>\n    </tr>\n    <tr>\n      <th>component</th>\n      <th></th>\n      <th></th>\n      <th></th>\n    </tr>\n  </thead>\n  <tbody>\n    <tr>\n      <th>0</th>\n      <td>0.276</td>\n      <td>0.24%</td>\n      <td>0.24%</td>\n    </tr>\n    <tr>\n      <th>1</th>\n      <td>0.222</td>\n      <td>0.19%</td>\n      <td>0.43%</td>\n    </tr>\n    <tr>\n      <th>2</th>\n      <td>0.205</td>\n      <td>0.18%</td>\n      <td>0.61%</td>\n    </tr>\n    <tr>\n      <th>3</th>\n      <td>0.199</td>\n      <td>0.17%</td>\n      <td>0.79%</td>\n    </tr>\n    <tr>\n      <th>4</th>\n      <td>0.175</td>\n      <td>0.15%</td>\n      <td>0.94%</td>\n    </tr>\n    <tr>\n      <th>...</th>\n      <td>...</td>\n      <td>...</td>\n      <td>...</td>\n    </tr>\n    <tr>\n      <th>95</th>\n      <td>0.049</td>\n      <td>0.04%</td>\n      <td>7.13%</td>\n    </tr>\n    <tr>\n      <th>96</th>\n      <td>0.049</td>\n      <td>0.04%</td>\n      <td>7.17%</td>\n    </tr>\n    <tr>\n      <th>97</th>\n      <td>0.048</td>\n      <td>0.04%</td>\n      <td>7.22%</td>\n    </tr>\n    <tr>\n      <th>98</th>\n      <td>0.048</td>\n      <td>0.04%</td>\n      <td>7.26%</td>\n    </tr>\n    <tr>\n      <th>99</th>\n      <td>0.048</td>\n      <td>0.04%</td>\n      <td>7.30%</td>\n    </tr>\n  </tbody>\n</table>\n<p>100 rows × 3 columns</p>\n</div>"
     },
     "execution_count": 379,
     "metadata": {},
     "output_type": "execute_result"
    }
   ],
   "source": [
    "# cumulative explained variance\n",
    "explained_var_mca"
   ],
   "metadata": {
    "collapsed": false,
    "ExecuteTime": {
     "end_time": "2024-06-02T19:51:09.192989Z",
     "start_time": "2024-06-02T19:51:09.186540Z"
    }
   },
   "id": "a57518b37cdc5ef9",
   "execution_count": 379
  },
  {
   "cell_type": "markdown",
   "source": [
    "*Significance test feature selection*\n",
    "Categorical features."
   ],
   "metadata": {
    "collapsed": false
   },
   "id": "8ad5c095de297003"
  },
  {
   "cell_type": "code",
   "outputs": [
    {
     "name": "stdout",
     "output_type": "stream",
     "text": [
      "Chi-squared test for OSOURCE\n",
      "Chi2 statistic: 584.4030782781556\n",
      "P-value: 0.008217943329440631\n",
      "The association between OSOURCE and TARGET_B is significant.\n",
      "\n",
      "\n",
      "Chi-squared test for TCODE\n",
      "Chi2 statistic: 49.46793206420607\n",
      "P-value: 0.014076518271343106\n",
      "The association between TCODE and TARGET_B is significant.\n",
      "\n",
      "\n",
      "Chi-squared test for STATE\n",
      "Chi2 statistic: 79.28310697304653\n",
      "P-value: 0.00398074295887081\n",
      "The association between STATE and TARGET_B is significant.\n",
      "\n",
      "\n",
      "Chi-squared test for ZIP\n",
      "Chi2 statistic: 5955.88253968254\n",
      "P-value: 0.15261320591878813\n",
      "The association between ZIP and TARGET_B is not significant.\n",
      "\n",
      "\n",
      "Chi-squared test for MAILCODE\n",
      "Chi2 statistic: 4.525386238261983\n",
      "P-value: 0.03339553659169869\n",
      "The association between MAILCODE and TARGET_B is significant.\n",
      "\n",
      "Fisher's exact test for MAILCODE\n",
      "Odds ratio: 0.6718007519510337\n",
      "P-value: 0.0330017582973016\n",
      "The association between MAILCODE and TARGET_B is significant.\n",
      "\n",
      "\n",
      "Chi-squared test for RECINHSE\n",
      "Chi2 statistic: 20.75494473650318\n",
      "P-value: 5.219662802919128e-06\n",
      "The association between RECINHSE and TARGET_B is significant.\n",
      "\n",
      "Fisher's exact test for RECINHSE\n",
      "Odds ratio: 1.4171233157168697\n",
      "P-value: 5.015350002188142e-06\n",
      "The association between RECINHSE and TARGET_B is significant.\n",
      "\n",
      "\n",
      "Chi-squared test for RECP3\n",
      "Chi2 statistic: 20.46359235463771\n",
      "P-value: 6.077639440293915e-06\n",
      "The association between RECP3 and TARGET_B is significant.\n",
      "\n",
      "Fisher's exact test for RECP3\n",
      "Odds ratio: 1.7480466908586134\n",
      "P-value: 5.415826382667256e-06\n",
      "The association between RECP3 and TARGET_B is significant.\n",
      "\n",
      "\n",
      "Chi-squared test for MDMAUD\n",
      "Chi2 statistic: 3.294475846199984\n",
      "P-value: 0.9145422591836221\n",
      "The association between MDMAUD and TARGET_B is not significant.\n",
      "\n",
      "\n",
      "Chi-squared test for DOMAIN\n",
      "Chi2 statistic: 18.846338507554304\n",
      "P-value: 0.06390816805759984\n",
      "The association between DOMAIN and TARGET_B is not significant.\n",
      "\n",
      "\n",
      "Chi-squared test for CLUSTER\n",
      "Chi2 statistic: 79.23031984447691\n",
      "P-value: 0.01128118954446939\n",
      "The association between CLUSTER and TARGET_B is significant.\n",
      "\n",
      "\n",
      "Chi-squared test for GENDER\n",
      "Chi2 statistic: 0.021004969170607013\n",
      "P-value: 0.8847654200783678\n",
      "The association between GENDER and TARGET_B is not significant.\n",
      "\n",
      "Fisher's exact test for GENDER\n",
      "Odds ratio: 0.9931646947947309\n",
      "P-value: 0.8847665313935635\n",
      "The association between GENDER and TARGET_B is not significant.\n",
      "\n",
      "\n",
      "Chi-squared test for WEALTH1\n",
      "Chi2 statistic: 16.49923324089777\n",
      "P-value: 0.0571603586446782\n",
      "The association between WEALTH1 and TARGET_B is not significant.\n",
      "\n",
      "\n",
      "Chi-squared test for DATASRCE\n",
      "Chi2 statistic: 2.780028876856989\n",
      "P-value: 0.24907170840165452\n",
      "The association between DATASRCE and TARGET_B is not significant.\n",
      "\n",
      "\n",
      "Chi-squared test for SOLP3\n",
      "Chi2 statistic: 6.000413907284768\n",
      "P-value: 0.19911736475832578\n",
      "The association between SOLP3 and TARGET_B is not significant.\n",
      "\n",
      "\n",
      "Chi-squared test for SOLIH\n",
      "Chi2 statistic: 17.51087694435569\n",
      "P-value: 0.01438293395768027\n",
      "The association between SOLIH and TARGET_B is significant.\n",
      "\n",
      "\n",
      "Chi-squared test for MAJOR\n",
      "Chi2 statistic: 0.0\n",
      "P-value: 1.0\n",
      "The association between MAJOR and TARGET_B is not significant.\n",
      "\n",
      "Fisher's exact test for MAJOR\n",
      "Odds ratio: 1.0716504911823885\n",
      "P-value: 1.0\n",
      "The association between MAJOR and TARGET_B is not significant.\n",
      "\n",
      "\n",
      "Chi-squared test for WEALTH2\n",
      "Chi2 statistic: 31.712518767385944\n",
      "P-value: 0.00022324070543826814\n",
      "The association between WEALTH2 and TARGET_B is significant.\n",
      "\n",
      "\n",
      "Chi-squared test for COLLECT1\n",
      "Chi2 statistic: 1.1688978463895898\n",
      "P-value: 0.27962781915875723\n",
      "The association between COLLECT1 and TARGET_B is not significant.\n",
      "\n",
      "Fisher's exact test for COLLECT1\n",
      "Odds ratio: 1.102208989533802\n",
      "P-value: 0.2796174071613448\n",
      "The association between COLLECT1 and TARGET_B is not significant.\n",
      "\n",
      "\n",
      "Chi-squared test for VETERANS\n",
      "Chi2 statistic: 4.633147029062783\n",
      "P-value: 0.03135999141028283\n",
      "The association between VETERANS and TARGET_B is significant.\n",
      "\n",
      "Fisher's exact test for VETERANS\n",
      "Odds ratio: 1.1508822278911566\n",
      "P-value: 0.031322930875656456\n",
      "The association between VETERANS and TARGET_B is significant.\n",
      "\n",
      "\n",
      "Chi-squared test for BIBLE\n",
      "Chi2 statistic: 1.0633811725151574\n",
      "P-value: 0.3024452828291054\n",
      "The association between BIBLE and TARGET_B is not significant.\n",
      "\n",
      "Fisher's exact test for BIBLE\n",
      "Odds ratio: 1.0760310681460348\n",
      "P-value: 0.3024431132784048\n",
      "The association between BIBLE and TARGET_B is not significant.\n",
      "\n",
      "\n",
      "Chi-squared test for CATLG\n",
      "Chi2 statistic: 0.1020798333760094\n",
      "P-value: 0.7493478857184073\n",
      "The association between CATLG and TARGET_B is not significant.\n",
      "\n",
      "Fisher's exact test for CATLG\n",
      "Odds ratio: 0.9751091128503381\n",
      "P-value: 0.7493651509977104\n",
      "The association between CATLG and TARGET_B is not significant.\n",
      "\n",
      "\n",
      "Chi-squared test for HOMEE\n",
      "Chi2 statistic: 3.1109956853342773\n",
      "P-value: 0.0777654070848765\n",
      "The association between HOMEE and TARGET_B is not significant.\n",
      "\n",
      "Fisher's exact test for HOMEE\n",
      "Odds ratio: 1.5205255138491107\n",
      "P-value: 0.07714406152758028\n",
      "The association between HOMEE and TARGET_B is not significant.\n",
      "\n",
      "\n",
      "Chi-squared test for PETS\n",
      "Chi2 statistic: 2.80477007820548\n",
      "P-value: 0.09398431737106414\n",
      "The association between PETS and TARGET_B is not significant.\n",
      "\n",
      "Fisher's exact test for PETS\n",
      "Odds ratio: 1.0997618935859177\n",
      "P-value: 0.09396111367124256\n",
      "The association between PETS and TARGET_B is not significant.\n",
      "\n",
      "\n",
      "Chi-squared test for CDPLAY\n",
      "Chi2 statistic: 0.3991107587982294\n",
      "P-value: 0.5275488556719452\n",
      "The association between CDPLAY and TARGET_B is not significant.\n",
      "\n",
      "Fisher's exact test for CDPLAY\n",
      "Odds ratio: 1.040627645376549\n",
      "P-value: 0.5275611915662043\n",
      "The association between CDPLAY and TARGET_B is not significant.\n",
      "\n",
      "\n",
      "Chi-squared test for STEREO\n",
      "Chi2 statistic: 0.3843553954296943\n",
      "P-value: 0.5352814703231803\n",
      "The association between STEREO and TARGET_B is not significant.\n",
      "\n",
      "Fisher's exact test for STEREO\n",
      "Odds ratio: 0.9623746894162084\n",
      "P-value: 0.5352932612945309\n",
      "The association between STEREO and TARGET_B is not significant.\n",
      "\n",
      "\n",
      "Chi-squared test for PCOWNERS\n",
      "Chi2 statistic: 0.1269200347230645\n",
      "P-value: 0.7216470736711715\n",
      "The association between PCOWNERS and TARGET_B is not significant.\n",
      "\n",
      "Fisher's exact test for PCOWNERS\n",
      "Odds ratio: 0.9751390929165494\n",
      "P-value: 0.7216614474245836\n",
      "The association between PCOWNERS and TARGET_B is not significant.\n",
      "\n",
      "\n",
      "Chi-squared test for PHOTO\n",
      "Chi2 statistic: 1.181253275150776\n",
      "P-value: 0.2771010012841201\n",
      "The association between PHOTO and TARGET_B is not significant.\n",
      "\n",
      "Fisher's exact test for PHOTO\n",
      "Odds ratio: 1.1080655310451317\n",
      "P-value: 0.27708854840508423\n",
      "The association between PHOTO and TARGET_B is not significant.\n",
      "\n",
      "\n",
      "Chi-squared test for CRAFTS\n",
      "Chi2 statistic: 5.826410946891773\n",
      "P-value: 0.015787300377139678\n",
      "The association between CRAFTS and TARGET_B is significant.\n",
      "\n",
      "Fisher's exact test for CRAFTS\n",
      "Odds ratio: 1.193474628647433\n",
      "P-value: 0.015745697696923473\n",
      "The association between CRAFTS and TARGET_B is significant.\n",
      "\n",
      "\n",
      "Chi-squared test for FISHER\n",
      "Chi2 statistic: 0.052607590697084976\n",
      "P-value: 0.8185864441745396\n",
      "The association between FISHER and TARGET_B is not significant.\n",
      "\n",
      "Fisher's exact test for FISHER\n",
      "Odds ratio: 0.9797487969109164\n",
      "P-value: 0.818602687703581\n",
      "The association between FISHER and TARGET_B is not significant.\n",
      "\n",
      "\n",
      "Chi-squared test for GARDENIN\n",
      "Chi2 statistic: 3.094947078817737\n",
      "P-value: 0.07853570569562124\n",
      "The association between GARDENIN and TARGET_B is not significant.\n",
      "\n",
      "Fisher's exact test for GARDENIN\n",
      "Odds ratio: 1.1068308823529411\n",
      "P-value: 0.07850987267688649\n",
      "The association between GARDENIN and TARGET_B is not significant.\n",
      "\n",
      "\n",
      "Chi-squared test for BOATS\n",
      "Chi2 statistic: 0.22994596962050828\n",
      "P-value: 0.631563894092801\n",
      "The association between BOATS and TARGET_B is not significant.\n",
      "\n",
      "Fisher's exact test for BOATS\n",
      "Odds ratio: 1.0780106714990436\n",
      "P-value: 0.6316606825249055\n",
      "The association between BOATS and TARGET_B is not significant.\n",
      "\n",
      "\n",
      "Chi-squared test for WALKER\n",
      "Chi2 statistic: 4.020434020773905\n",
      "P-value: 0.04495214397979894\n",
      "The association between WALKER and TARGET_B is significant.\n",
      "\n",
      "Fisher's exact test for WALKER\n",
      "Odds ratio: 1.1362352596993428\n",
      "P-value: 0.04491588915067993\n",
      "The association between WALKER and TARGET_B is significant.\n",
      "\n",
      "\n",
      "Chi-squared test for KIDSTUFF\n",
      "Chi2 statistic: 0.006129138402348891\n",
      "P-value: 0.9375983152628645\n",
      "The association between KIDSTUFF and TARGET_B is not significant.\n",
      "\n",
      "Fisher's exact test for KIDSTUFF\n",
      "Odds ratio: 0.9757803982756724\n",
      "P-value: 0.937628595151948\n",
      "The association between KIDSTUFF and TARGET_B is not significant.\n",
      "\n",
      "\n",
      "Chi-squared test for CARDS\n",
      "Chi2 statistic: 0.0\n",
      "P-value: 1.0\n",
      "The association between CARDS and TARGET_B is not significant.\n",
      "\n",
      "Fisher's exact test for CARDS\n",
      "Odds ratio: 1.0168792694827826\n",
      "P-value: 1.0\n",
      "The association between CARDS and TARGET_B is not significant.\n",
      "\n",
      "\n",
      "Chi-squared test for PLATES\n",
      "Chi2 statistic: 0.39322321242984826\n",
      "P-value: 0.5306099918063214\n",
      "The association between PLATES and TARGET_B is not significant.\n",
      "\n",
      "Fisher's exact test for PLATES\n",
      "Odds ratio: 1.2084026622296173\n",
      "P-value: 0.5309426684996061\n",
      "The association between PLATES and TARGET_B is not significant.\n",
      "\n",
      "\n",
      "Chi-squared test for PEPSTRFL\n",
      "Chi2 statistic: 147.86761089757363\n",
      "P-value: 5.070733977783077e-34\n",
      "The association between PEPSTRFL and TARGET_B is significant.\n",
      "\n",
      "Fisher's exact test for PEPSTRFL\n",
      "Odds ratio: 0.6072565181189196\n",
      "P-value: 4.181568488124757e-34\n",
      "The association between PEPSTRFL and TARGET_B is significant.\n",
      "\n",
      "Chi-squared test for RFA_2\n",
      "Chi2 statistic: 223.07286404572181\n",
      "P-value: 2.4294755519780962e-42\n",
      "The association between RFA_2 and TARGET_B is significant.\n",
      "\n",
      "\n",
      "Chi-squared test for RFA_3\n",
      "Chi2 statistic: 248.74169386994777\n",
      "P-value: 8.95862525057008e-33\n",
      "The association between RFA_3 and TARGET_B is significant.\n",
      "\n",
      "\n",
      "Chi-squared test for RFA_4\n",
      "Chi2 statistic: 252.35003660521008\n",
      "P-value: 9.921509279136728e-35\n",
      "The association between RFA_4 and TARGET_B is significant.\n",
      "\n",
      "\n",
      "Chi-squared test for RFA_5\n",
      "Chi2 statistic: 156.49045621140436\n",
      "P-value: 5.309162517342697e-21\n",
      "The association between RFA_5 and TARGET_B is significant.\n",
      "\n",
      "\n",
      "Chi-squared test for RFA_6\n",
      "Chi2 statistic: 239.5301074449459\n",
      "P-value: 5.576554325904295e-28\n",
      "The association between RFA_6 and TARGET_B is significant.\n",
      "\n",
      "\n",
      "Chi-squared test for RFA_7\n",
      "Chi2 statistic: 200.8405812374202\n",
      "P-value: 6.582926652969486e-22\n",
      "The association between RFA_7 and TARGET_B is significant.\n",
      "\n",
      "\n",
      "Chi-squared test for RFA_8\n",
      "Chi2 statistic: 204.88999191428354\n",
      "P-value: 1.3151014321059612e-22\n",
      "The association between RFA_8 and TARGET_B is significant.\n",
      "\n",
      "\n",
      "Chi-squared test for RFA_9\n",
      "Chi2 statistic: 204.58000945370546\n",
      "P-value: 3.246617300337722e-22\n",
      "The association between RFA_9 and TARGET_B is significant.\n",
      "\n",
      "\n",
      "Chi-squared test for RFA_10\n",
      "Chi2 statistic: 208.29268890543926\n",
      "P-value: 6.729633209299138e-24\n",
      "The association between RFA_10 and TARGET_B is significant.\n",
      "\n",
      "\n",
      "Chi-squared test for RFA_11\n",
      "Chi2 statistic: 191.29696541845593\n",
      "P-value: 5.981624175179765e-20\n",
      "The association between RFA_11 and TARGET_B is significant.\n",
      "\n",
      "\n",
      "Chi-squared test for RFA_12\n",
      "Chi2 statistic: 192.3541119370086\n",
      "P-value: 3.9632525726087466e-20\n",
      "The association between RFA_12 and TARGET_B is significant.\n",
      "\n",
      "\n",
      "Chi-squared test for RFA_13\n",
      "Chi2 statistic: 175.47284101883812\n",
      "P-value: 6.63204024962423e-20\n",
      "The association between RFA_13 and TARGET_B is significant.\n",
      "\n",
      "\n",
      "Chi-squared test for RFA_14\n",
      "Chi2 statistic: 165.6853552632052\n",
      "P-value: 5.26694042119292e-16\n",
      "The association between RFA_14 and TARGET_B is significant.\n",
      "\n",
      "\n",
      "Chi-squared test for RFA_16\n",
      "Chi2 statistic: 190.64156854675255\n",
      "P-value: 3.3137196697378355e-19\n",
      "The association between RFA_16 and TARGET_B is significant.\n",
      "\n",
      "\n",
      "Chi-squared test for RFA_17\n",
      "Chi2 statistic: 110.04638426493179\n",
      "P-value: 3.6204304404646437e-07\n",
      "The association between RFA_17 and TARGET_B is significant.\n",
      "\n",
      "\n",
      "Chi-squared test for RFA_18\n",
      "Chi2 statistic: 119.34188332208538\n",
      "P-value: 1.971593781322481e-08\n",
      "The association between RFA_18 and TARGET_B is significant.\n",
      "\n",
      "\n",
      "Chi-squared test for RFA_19\n",
      "Chi2 statistic: 129.97936286138065\n",
      "P-value: 3.501512360667768e-10\n",
      "The association between RFA_19 and TARGET_B is significant.\n",
      "\n",
      "\n",
      "Chi-squared test for RFA_21\n",
      "Chi2 statistic: 150.2102757829477\n",
      "P-value: 2.9884305441329595e-13\n",
      "The association between RFA_21 and TARGET_B is significant.\n",
      "\n",
      "\n",
      "Chi-squared test for RFA_22\n",
      "Chi2 statistic: 137.33784497496367\n",
      "P-value: 8.778367864142368e-11\n",
      "The association between RFA_22 and TARGET_B is significant.\n",
      "\n",
      "\n",
      "Chi-squared test for RFA_24\n",
      "Chi2 statistic: 150.92857407571577\n",
      "P-value: 6.45930688781311e-14\n",
      "The association between RFA_24 and TARGET_B is significant.\n",
      "\n",
      "\n",
      "Chi-squared test for MAXADATE\n",
      "Chi2 statistic: 4.4149377593361\n",
      "P-value: 0.22000430048662625\n",
      "The association between MAXADATE and TARGET_B is not significant.\n",
      "\n",
      "\n",
      "Chi-squared test for HPHONE_D\n",
      "Chi2 statistic: 0.049971944222727056\n",
      "P-value: 0.823112100077569\n",
      "The association between HPHONE_D and TARGET_B is not significant.\n",
      "\n",
      "Fisher's exact test for HPHONE_D\n",
      "Odds ratio: 0.9901371492227125\n",
      "P-value: 0.8231135234379973\n",
      "The association between HPHONE_D and TARGET_B is not significant.\n",
      "\n",
      "\n",
      "Chi-squared test for RFA_2R\n",
      "Chi2 statistic: 0.0\n",
      "P-value: 1.0\n",
      "The association between RFA_2R and TARGET_B is not significant.\n",
      "\n",
      "\n",
      "Chi-squared test for RFA_2F\n",
      "Chi2 statistic: 202.21347708087217\n",
      "P-value: 1.4024212146011902e-43\n",
      "The association between RFA_2F and TARGET_B is significant.\n",
      "\n",
      "\n",
      "Chi-squared test for RFA_2A\n",
      "Chi2 statistic: 184.11490510620644\n",
      "P-value: 1.1396743491896844e-39\n",
      "The association between RFA_2A and TARGET_B is significant.\n",
      "\n",
      "\n",
      "Chi-squared test for MDMAUD_R\n",
      "Chi2 statistic: 0.8858178375419754\n",
      "P-value: 0.926586606717768\n",
      "The association between MDMAUD_R and TARGET_B is not significant.\n",
      "\n",
      "\n",
      "Chi-squared test for MDMAUD_F\n",
      "Chi2 statistic: 1.620424407442663\n",
      "P-value: 0.6547676406473226\n",
      "The association between MDMAUD_F and TARGET_B is not significant.\n",
      "\n",
      "\n",
      "Chi-squared test for MDMAUD_A\n",
      "Chi2 statistic: 2.5001035518276895\n",
      "P-value: 0.47527236949963725\n",
      "The association between MDMAUD_A and TARGET_B is not significant.\n",
      "\n",
      "\n",
      "Chi-squared test for CLUSTER2\n",
      "Chi2 statistic: 104.71746138040425\n",
      "P-value: 0.00042392481674269225\n",
      "The association between CLUSTER2 and TARGET_B is significant.\n",
      "\n"
     ]
    }
   ],
   "source": [
    "alpha = 0.05\n",
    "significant = sig_tests(df, cat_feats, 'TARGET_B', alpha)"
   ],
   "metadata": {
    "collapsed": false,
    "ExecuteTime": {
     "end_time": "2024-06-02T19:51:09.519147Z",
     "start_time": "2024-06-02T19:51:09.194420Z"
    }
   },
   "id": "a8495930037e9f59",
   "execution_count": 380
  },
  {
   "cell_type": "code",
   "outputs": [
    {
     "data": {
      "text/plain": "(['OSOURCE',\n  'TCODE',\n  'STATE',\n  'MAILCODE',\n  'RECINHSE',\n  'RECP3',\n  'CLUSTER',\n  'SOLIH',\n  'WEALTH2',\n  'VETERANS',\n  'CRAFTS',\n  'WALKER',\n  'PEPSTRFL',\n  'RFA_2',\n  'RFA_3',\n  'RFA_4',\n  'RFA_5',\n  'RFA_6',\n  'RFA_7',\n  'RFA_8',\n  'RFA_9',\n  'RFA_10',\n  'RFA_11',\n  'RFA_12',\n  'RFA_13',\n  'RFA_14',\n  'RFA_16',\n  'RFA_17',\n  'RFA_18',\n  'RFA_19',\n  'RFA_21',\n  'RFA_22',\n  'RFA_24',\n  'RFA_2F',\n  'RFA_2A',\n  'CLUSTER2'],\n 36)"
     },
     "execution_count": 381,
     "metadata": {},
     "output_type": "execute_result"
    }
   ],
   "source": [
    "significant, len(significant)"
   ],
   "metadata": {
    "collapsed": false,
    "ExecuteTime": {
     "end_time": "2024-06-02T19:51:09.524418Z",
     "start_time": "2024-06-02T19:51:09.520280Z"
    }
   },
   "id": "7962813af4036fed",
   "execution_count": 381
  },
  {
   "cell_type": "markdown",
   "source": [
    "*VIF*\n",
    "Does not work (takes too long)"
   ],
   "metadata": {
    "collapsed": false
   },
   "id": "b818f3c38ee2b0ad"
  },
  {
   "cell_type": "markdown",
   "source": [
    "import pandas as pd\n",
    "import numpy as np\n",
    "from statsmodels.stats.outliers_influence import variance_inflation_factor\n",
    "from statsmodels.tools.tools import add_constant\n",
    "\n",
    "df_ = pd.get_dummies(df[significant])\n",
    "\n",
    "df_ = add_constant(df)\n",
    "\n",
    "vif_data = pd.DataFrame()\n",
    "vif_data[\"feature\"] = df_.columns\n",
    "vif_data[\"VIF\"] = [variance_inflation_factor(df_.values, i) for i in range(df_.shape[1])]\n",
    "\n",
    "print(vif_data)"
   ],
   "metadata": {
    "collapsed": false
   },
   "id": "2002acb76d59f363"
  },
  {
   "cell_type": "markdown",
   "source": [
    "Correlation analysis"
   ],
   "metadata": {
    "collapsed": false
   },
   "id": "630e979c2aa56cb3"
  },
  {
   "cell_type": "code",
   "outputs": [
    {
     "data": {
      "text/plain": "<Figure size 1200x800 with 2 Axes>",
      "image/png": "[encoded data removed]"
     },
     "metadata": {},
     "output_type": "display_data"
    }
   ],
   "source": [
    "# get correlation of significant features\n",
    "correlation = df[significant].corr()\n",
    "# plot correlation matrix\n",
    "plt.figure(figsize=(12, 8))\n",
    "sns.heatmap(correlation, annot=False, cmap='coolwarm', fmt=\".2f\")\n",
    "plt.title('Correlation Matrix of Significant Features')\n",
    "plt.xlabel('Features')\n",
    "plt.ylabel('Features')\n",
    "plt.show()"
   ],
   "metadata": {
    "collapsed": false,
    "ExecuteTime": {
     "end_time": "2024-06-02T19:54:10.327179Z",
     "start_time": "2024-06-02T19:54:09.508127Z"
    }
   },
   "id": "e55d30749d3e5c82",
   "execution_count": 389
  },
  {
   "cell_type": "code",
   "outputs": [],
   "source": [
    "# remove highly correlated features\n",
    "correlated_features = set()\n",
    "for i in range(len(correlation.columns)):\n",
    "    for j in range(i):\n",
    "        if abs(correlation.iloc[i, j]) > 0.5:\n",
    "            colname = correlation.columns[i]\n",
    "            correlated_features.add(colname)"
   ],
   "metadata": {
    "collapsed": false,
    "ExecuteTime": {
     "end_time": "2024-06-02T19:57:09.770100Z",
     "start_time": "2024-06-02T19:57:09.759974Z"
    }
   },
   "id": "e6fa067f7e855e67",
   "execution_count": 392
  },
  {
   "cell_type": "code",
   "outputs": [
    {
     "data": {
      "text/plain": "{'CLUSTER2',\n 'RFA_10',\n 'RFA_11',\n 'RFA_12',\n 'RFA_13',\n 'RFA_14',\n 'RFA_16',\n 'RFA_17',\n 'RFA_18',\n 'RFA_19',\n 'RFA_21',\n 'RFA_22',\n 'RFA_24',\n 'RFA_2A',\n 'RFA_2F',\n 'RFA_3',\n 'RFA_4',\n 'RFA_5',\n 'RFA_6',\n 'RFA_7',\n 'RFA_8',\n 'RFA_9',\n 'SOLIH'}"
     },
     "execution_count": 393,
     "metadata": {},
     "output_type": "execute_result"
    }
   ],
   "source": [
    "correlated_features"
   ],
   "metadata": {
    "collapsed": false,
    "ExecuteTime": {
     "end_time": "2024-06-02T19:57:14.271201Z",
     "start_time": "2024-06-02T19:57:14.265644Z"
    }
   },
   "id": "9e6b9f7384b4fa61",
   "execution_count": 393
  },
  {
   "cell_type": "markdown",
   "source": [
    "Checking some correlations between suspected informative features and the target."
   ],
   "metadata": {
    "collapsed": false
   },
   "id": "5b90f5eb98ae1f27"
  },
  {
   "cell_type": "code",
   "outputs": [
    {
     "name": "stdout",
     "output_type": "stream",
     "text": [
      "Cramer's V: 0.0\n"
     ]
    }
   ],
   "source": [
    "def cramers_v(x, y):\n",
    "    confusion_matrix = pd.crosstab(x, y)\n",
    "    chi2, _, _, _ = chi2_contingency(confusion_matrix)\n",
    "    n = confusion_matrix.sum().sum()\n",
    "    phi2 = chi2 / n\n",
    "    r, k = confusion_matrix.shape\n",
    "    phi2corr = max(0, phi2 - ((k - 1) * (r - 1)) / (n - 1))\n",
    "    rcorr = r - ((r - 1) ** 2) / (n - 1)\n",
    "    kcorr = k - ((k - 1) ** 2) / (n - 1)\n",
    "    return np.sqrt(phi2corr / min((kcorr - 1), (rcorr - 1)))\n",
    "\n",
    "# Calculate Cramer's V for columns A and B\n",
    "cramers_v_score = cramers_v(df['MAJOR'], df['TARGET_B'])\n",
    "\n",
    "print(\"Cramer's V:\", cramers_v_score)"
   ],
   "metadata": {
    "collapsed": false,
    "ExecuteTime": {
     "end_time": "2024-06-02T19:51:09.535858Z",
     "start_time": "2024-06-02T19:51:09.524980Z"
    }
   },
   "id": "e94287a5c225be76",
   "execution_count": 382
  },
  {
   "cell_type": "markdown",
   "source": [
    "### Define the final feature set"
   ],
   "metadata": {
    "collapsed": false
   },
   "id": "2e667bbd8a643bad"
  },
  {
   "cell_type": "code",
   "outputs": [
    {
     "data": {
      "text/plain": "(9686, 36)"
     },
     "execution_count": 383,
     "metadata": {},
     "output_type": "execute_result"
    }
   ],
   "source": [
    "df[significant].shape"
   ],
   "metadata": {
    "collapsed": false,
    "ExecuteTime": {
     "end_time": "2024-06-02T19:51:09.542476Z",
     "start_time": "2024-06-02T19:51:09.536991Z"
    }
   },
   "id": "17f660d0c1c29127",
   "execution_count": 383
  },
  {
   "cell_type": "code",
   "outputs": [
    {
     "data": {
      "text/plain": "(9686, 13)"
     },
     "execution_count": 384,
     "metadata": {},
     "output_type": "execute_result"
    }
   ],
   "source": [
    "pca.df.iloc[:, :13].shape"
   ],
   "metadata": {
    "collapsed": false,
    "ExecuteTime": {
     "end_time": "2024-06-02T19:51:09.547150Z",
     "start_time": "2024-06-02T19:51:09.543591Z"
    }
   },
   "id": "769ac6243cb6de6d",
   "execution_count": 384
  },
  {
   "cell_type": "code",
   "outputs": [
    {
     "data": {
      "text/plain": "(9686, 49)"
     },
     "execution_count": 385,
     "metadata": {},
     "output_type": "execute_result"
    }
   ],
   "source": [
    "df_final = pd.concat([df[significant], pca.df.iloc[:, :13]], axis=1)\n",
    "df_final.shape"
   ],
   "metadata": {
    "collapsed": false,
    "ExecuteTime": {
     "end_time": "2024-06-02T19:51:09.558788Z",
     "start_time": "2024-06-02T19:51:09.548289Z"
    }
   },
   "id": "4facf5d0688aae10",
   "execution_count": 385
  },
  {
   "cell_type": "code",
   "outputs": [
    {
     "data": {
      "text/plain": "    OSOURCE  TCODE  STATE  MAILCODE  RECINHSE  RECP3  CLUSTER  SOLIH  WEALTH2  \\\n20     20.0    2.0   10.0       0.0       0.0    0.0     12.0   99.0      9.0   \n30     22.0    0.0   14.0       0.0       0.0    0.0     35.0   99.0      8.0   \n45      6.0    0.0    7.0       0.0       0.0    0.0     24.0   99.0      9.0   \n78     54.0    0.0    1.0       0.0       0.0    0.0     13.0   99.0      9.0   \n93     23.0    1.0   18.0       0.0       0.0    0.0     18.0   99.0      7.0   \n\n    VETERANS  ...       PC4       PC5       PC6       PC7       PC8       PC9  \\\n20       0.0  ... -1.529187  0.303006  0.284679 -0.301776  0.136280 -0.553442   \n30       0.0  ... -2.048017  1.351119  0.447595 -3.088057 -0.097251  0.494815   \n45       1.0  ... -1.711354  0.706289 -0.008161  0.781540 -0.363345 -0.465843   \n78       0.0  ... -0.667843 -0.734307 -0.918348 -0.578596  0.670639 -0.623169   \n93       0.0  ... -0.383050 -0.997313  1.162059 -0.353378 -1.048774  0.443379   \n\n        PC10      PC11      PC12      PC13  \n20 -0.275752  0.334823  0.044273  0.743960  \n30 -0.598420  0.962866 -0.492462 -0.031913  \n45  0.000913 -0.474297 -0.413045  0.230967  \n78  0.288209 -1.745124 -0.502956  0.315310  \n93  0.804063  0.946337 -0.651410 -0.802442  \n\n[5 rows x 49 columns]",
      "text/html": "<div>\n<style scoped>\n    .dataframe tbody tr th:only-of-type {\n        vertical-align: middle;\n    }\n\n    .dataframe tbody tr th {\n        vertical-align: top;\n    }\n\n    .dataframe thead th {\n        text-align: right;\n    }\n</style>\n<table border=\"1\" class=\"dataframe\">\n  <thead>\n    <tr style=\"text-align: right;\">\n      <th></th>\n      <th>OSOURCE</th>\n      <th>TCODE</th>\n      <th>STATE</th>\n      <th>MAILCODE</th>\n      <th>RECINHSE</th>\n      <th>RECP3</th>\n      <th>CLUSTER</th>\n      <th>SOLIH</th>\n      <th>WEALTH2</th>\n      <th>VETERANS</th>\n      <th>...</th>\n      <th>PC4</th>\n      <th>PC5</th>\n      <th>PC6</th>\n      <th>PC7</th>\n      <th>PC8</th>\n      <th>PC9</th>\n      <th>PC10</th>\n      <th>PC11</th>\n      <th>PC12</th>\n      <th>PC13</th>\n    </tr>\n  </thead>\n  <tbody>\n    <tr>\n      <th>20</th>\n      <td>20.0</td>\n      <td>2.0</td>\n      <td>10.0</td>\n      <td>0.0</td>\n      <td>0.0</td>\n      <td>0.0</td>\n      <td>12.0</td>\n      <td>99.0</td>\n      <td>9.0</td>\n      <td>0.0</td>\n      <td>...</td>\n      <td>-1.529187</td>\n      <td>0.303006</td>\n      <td>0.284679</td>\n      <td>-0.301776</td>\n      <td>0.136280</td>\n      <td>-0.553442</td>\n      <td>-0.275752</td>\n      <td>0.334823</td>\n      <td>0.044273</td>\n      <td>0.743960</td>\n    </tr>\n    <tr>\n      <th>30</th>\n      <td>22.0</td>\n      <td>0.0</td>\n      <td>14.0</td>\n      <td>0.0</td>\n      <td>0.0</td>\n      <td>0.0</td>\n      <td>35.0</td>\n      <td>99.0</td>\n      <td>8.0</td>\n      <td>0.0</td>\n      <td>...</td>\n      <td>-2.048017</td>\n      <td>1.351119</td>\n      <td>0.447595</td>\n      <td>-3.088057</td>\n      <td>-0.097251</td>\n      <td>0.494815</td>\n      <td>-0.598420</td>\n      <td>0.962866</td>\n      <td>-0.492462</td>\n      <td>-0.031913</td>\n    </tr>\n    <tr>\n      <th>45</th>\n      <td>6.0</td>\n      <td>0.0</td>\n      <td>7.0</td>\n      <td>0.0</td>\n      <td>0.0</td>\n      <td>0.0</td>\n      <td>24.0</td>\n      <td>99.0</td>\n      <td>9.0</td>\n      <td>1.0</td>\n      <td>...</td>\n      <td>-1.711354</td>\n      <td>0.706289</td>\n      <td>-0.008161</td>\n      <td>0.781540</td>\n      <td>-0.363345</td>\n      <td>-0.465843</td>\n      <td>0.000913</td>\n      <td>-0.474297</td>\n      <td>-0.413045</td>\n      <td>0.230967</td>\n    </tr>\n    <tr>\n      <th>78</th>\n      <td>54.0</td>\n      <td>0.0</td>\n      <td>1.0</td>\n      <td>0.0</td>\n      <td>0.0</td>\n      <td>0.0</td>\n      <td>13.0</td>\n      <td>99.0</td>\n      <td>9.0</td>\n      <td>0.0</td>\n      <td>...</td>\n      <td>-0.667843</td>\n      <td>-0.734307</td>\n      <td>-0.918348</td>\n      <td>-0.578596</td>\n      <td>0.670639</td>\n      <td>-0.623169</td>\n      <td>0.288209</td>\n      <td>-1.745124</td>\n      <td>-0.502956</td>\n      <td>0.315310</td>\n    </tr>\n    <tr>\n      <th>93</th>\n      <td>23.0</td>\n      <td>1.0</td>\n      <td>18.0</td>\n      <td>0.0</td>\n      <td>0.0</td>\n      <td>0.0</td>\n      <td>18.0</td>\n      <td>99.0</td>\n      <td>7.0</td>\n      <td>0.0</td>\n      <td>...</td>\n      <td>-0.383050</td>\n      <td>-0.997313</td>\n      <td>1.162059</td>\n      <td>-0.353378</td>\n      <td>-1.048774</td>\n      <td>0.443379</td>\n      <td>0.804063</td>\n      <td>0.946337</td>\n      <td>-0.651410</td>\n      <td>-0.802442</td>\n    </tr>\n  </tbody>\n</table>\n<p>5 rows × 49 columns</p>\n</div>"
     },
     "execution_count": 386,
     "metadata": {},
     "output_type": "execute_result"
    }
   ],
   "source": [
    "df_final.head()"
   ],
   "metadata": {
    "collapsed": false,
    "ExecuteTime": {
     "end_time": "2024-06-02T19:51:09.572572Z",
     "start_time": "2024-06-02T19:51:09.559794Z"
    }
   },
   "id": "7067f11d9f252b47",
   "execution_count": 386
  },
  {
   "cell_type": "code",
   "outputs": [],
   "source": [
    "# save dataframe as csv\n",
    "#df_final.to_csv('data/preprocessed_data.csv', index=True)"
   ],
   "metadata": {
    "collapsed": false,
    "ExecuteTime": {
     "end_time": "2024-06-03T01:45:31.230838Z",
     "start_time": "2024-06-03T01:45:31.219670Z"
    }
   },
   "id": "1ce4cefed3d18fb",
   "execution_count": 395
  }
 ],
 "metadata": {
  "kernelspec": {
   "display_name": "Python 3",
   "language": "python",
   "name": "python3"
  },
  "language_info": {
   "codemirror_mode": {
    "name": "ipython",
    "version": 2
   },
   "file_extension": ".py",
   "mimetype": "text/x-python",
   "name": "python",
   "nbconvert_exporter": "python",
   "pygments_lexer": "ipython2",
   "version": "2.7.6"
  }
 },
 "nbformat": 4,
 "nbformat_minor": 5
}
