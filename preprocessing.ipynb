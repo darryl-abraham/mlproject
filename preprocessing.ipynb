{
 "cells": [
  {
   "cell_type": "markdown",
   "source": [
    "##### Machine Learning Course Project\n",
    "# Preprocessing\n",
    "##### Darryl Abraham, Riccardo Paciello"
   ],
   "metadata": {
    "collapsed": false
   },
   "id": "ccd86203ea65cedb"
  },
  {
   "cell_type": "markdown",
   "source": [
    "### Importing Libraries"
   ],
   "metadata": {
    "collapsed": false
   },
   "id": "ee2784118c73d39c"
  },
  {
   "cell_type": "code",
   "outputs": [],
   "source": [
    "import pandas as pd\n",
    "import numpy as np\n",
    "from functools import reduce\n",
    "import operator\n",
    "from sklearn.feature_selection import mutual_info_regression, mutual_info_classif\n",
    "from scipy.stats import chi2_contingency, fisher_exact\n",
    "from sklearn.preprocessing import LabelEncoder\n",
    "from scipy.stats import spearmanr\n",
    "from sklearn.decomposition import PCA\n",
    "from factor_analyzer import FactorAnalyzer\n",
    "from sklearn.preprocessing import StandardScaler\n",
    "from sklearn.impute import KNNImputer\n",
    "from sklearn.feature_selection import mutual_info_classif\n",
    "import prince\n",
    "from sklearn.preprocessing import OneHotEncoder\n",
    "from sklearn.compose import ColumnTransformer"
   ],
   "metadata": {
    "collapsed": false,
    "ExecuteTime": {
     "end_time": "2024-05-17T16:05:04.675478Z",
     "start_time": "2024-05-17T16:05:03.054765Z"
    }
   },
   "id": "83e664145726d297",
   "execution_count": 1
  },
  {
   "cell_type": "markdown",
   "source": [
    "### Loading the Data"
   ],
   "metadata": {
    "collapsed": false
   },
   "id": "52c35746933d93a3"
  },
  {
   "cell_type": "code",
   "execution_count": 2,
   "id": "initial_id",
   "metadata": {
    "collapsed": true,
    "ExecuteTime": {
     "end_time": "2024-05-17T16:05:07.531129Z",
     "start_time": "2024-05-17T16:05:04.676607Z"
    }
   },
   "outputs": [
    {
     "data": {
      "text/plain": "   ODATEDW OSOURCE  TCODE STATE    ZIP MAILCODE PVASTATE   DOB NOEXCH  \\\n0     8901     GRI      0    IL  61081                    3712      0   \n1     9401     BOA      1    CA  91326                    5202      0   \n2     9001     AMH      1    NC  27017                       0      0   \n3     8701     BRY      0    CA  95953                    2801      0   \n4     8601              0    FL  33176                    2001      0   \n\n  RECINHSE  ... TARGET_D HPHONE_D RFA_2R RFA_2F RFA_2A MDMAUD_R  MDMAUD_F  \\\n0           ...      0.0        0      L      4      E        X         X   \n1           ...      0.0        0      L      2      G        X         X   \n2           ...      0.0        1      L      4      E        X         X   \n3           ...      0.0        1      L      4      E        X         X   \n4        X  ...      0.0        1      L      2      F        X         X   \n\n  MDMAUD_A CLUSTER2 GEOCODE2  \n0        X     39.0        C  \n1        X      1.0        A  \n2        X     60.0        C  \n3        X     41.0        C  \n4        X     26.0        A  \n\n[5 rows x 481 columns]",
      "text/html": "<div>\n<style scoped>\n    .dataframe tbody tr th:only-of-type {\n        vertical-align: middle;\n    }\n\n    .dataframe tbody tr th {\n        vertical-align: top;\n    }\n\n    .dataframe thead th {\n        text-align: right;\n    }\n</style>\n<table border=\"1\" class=\"dataframe\">\n  <thead>\n    <tr style=\"text-align: right;\">\n      <th></th>\n      <th>ODATEDW</th>\n      <th>OSOURCE</th>\n      <th>TCODE</th>\n      <th>STATE</th>\n      <th>ZIP</th>\n      <th>MAILCODE</th>\n      <th>PVASTATE</th>\n      <th>DOB</th>\n      <th>NOEXCH</th>\n      <th>RECINHSE</th>\n      <th>...</th>\n      <th>TARGET_D</th>\n      <th>HPHONE_D</th>\n      <th>RFA_2R</th>\n      <th>RFA_2F</th>\n      <th>RFA_2A</th>\n      <th>MDMAUD_R</th>\n      <th>MDMAUD_F</th>\n      <th>MDMAUD_A</th>\n      <th>CLUSTER2</th>\n      <th>GEOCODE2</th>\n    </tr>\n  </thead>\n  <tbody>\n    <tr>\n      <th>0</th>\n      <td>8901</td>\n      <td>GRI</td>\n      <td>0</td>\n      <td>IL</td>\n      <td>61081</td>\n      <td></td>\n      <td></td>\n      <td>3712</td>\n      <td>0</td>\n      <td></td>\n      <td>...</td>\n      <td>0.0</td>\n      <td>0</td>\n      <td>L</td>\n      <td>4</td>\n      <td>E</td>\n      <td>X</td>\n      <td>X</td>\n      <td>X</td>\n      <td>39.0</td>\n      <td>C</td>\n    </tr>\n    <tr>\n      <th>1</th>\n      <td>9401</td>\n      <td>BOA</td>\n      <td>1</td>\n      <td>CA</td>\n      <td>91326</td>\n      <td></td>\n      <td></td>\n      <td>5202</td>\n      <td>0</td>\n      <td></td>\n      <td>...</td>\n      <td>0.0</td>\n      <td>0</td>\n      <td>L</td>\n      <td>2</td>\n      <td>G</td>\n      <td>X</td>\n      <td>X</td>\n      <td>X</td>\n      <td>1.0</td>\n      <td>A</td>\n    </tr>\n    <tr>\n      <th>2</th>\n      <td>9001</td>\n      <td>AMH</td>\n      <td>1</td>\n      <td>NC</td>\n      <td>27017</td>\n      <td></td>\n      <td></td>\n      <td>0</td>\n      <td>0</td>\n      <td></td>\n      <td>...</td>\n      <td>0.0</td>\n      <td>1</td>\n      <td>L</td>\n      <td>4</td>\n      <td>E</td>\n      <td>X</td>\n      <td>X</td>\n      <td>X</td>\n      <td>60.0</td>\n      <td>C</td>\n    </tr>\n    <tr>\n      <th>3</th>\n      <td>8701</td>\n      <td>BRY</td>\n      <td>0</td>\n      <td>CA</td>\n      <td>95953</td>\n      <td></td>\n      <td></td>\n      <td>2801</td>\n      <td>0</td>\n      <td></td>\n      <td>...</td>\n      <td>0.0</td>\n      <td>1</td>\n      <td>L</td>\n      <td>4</td>\n      <td>E</td>\n      <td>X</td>\n      <td>X</td>\n      <td>X</td>\n      <td>41.0</td>\n      <td>C</td>\n    </tr>\n    <tr>\n      <th>4</th>\n      <td>8601</td>\n      <td></td>\n      <td>0</td>\n      <td>FL</td>\n      <td>33176</td>\n      <td></td>\n      <td></td>\n      <td>2001</td>\n      <td>0</td>\n      <td>X</td>\n      <td>...</td>\n      <td>0.0</td>\n      <td>1</td>\n      <td>L</td>\n      <td>2</td>\n      <td>F</td>\n      <td>X</td>\n      <td>X</td>\n      <td>X</td>\n      <td>26.0</td>\n      <td>A</td>\n    </tr>\n  </tbody>\n</table>\n<p>5 rows × 481 columns</p>\n</div>"
     },
     "execution_count": 2,
     "metadata": {},
     "output_type": "execute_result"
    }
   ],
   "source": [
    "df = pd.read_csv('./data/cup98LRN.txt', sep = ',', chunksize=10000, low_memory=False)\n",
    "df = pd.concat(df, axis='rows')\n",
    "df.head()"
   ]
  },
  {
   "cell_type": "code",
   "outputs": [],
   "source": [
    "def get_feature_types(df):\n",
    "    feature_types = {}\n",
    "    for col in df.columns:\n",
    "        feature_types[col] = df[col].dtype\n",
    "    return feature_types\n",
    "feature_types = get_feature_types(df)"
   ],
   "metadata": {
    "collapsed": false,
    "ExecuteTime": {
     "end_time": "2024-05-17T16:05:07.540452Z",
     "start_time": "2024-05-17T16:05:07.532349Z"
    }
   },
   "id": "a0952b01f94282ec",
   "execution_count": 3
  },
  {
   "cell_type": "code",
   "outputs": [
    {
     "data": {
      "text/plain": "   ODATEDW OSOURCE  TCODE STATE    ZIP MAILCODE PVASTATE   DOB NOEXCH  \\\n0     8901     GRI      0    IL  61081                    3712      0   \n1     9401     BOA      1    CA  91326                    5202      0   \n2     9001     AMH      1    NC  27017                       0      0   \n3     8701     BRY      0    CA  95953                    2801      0   \n4     8601              0    FL  33176                    2001      0   \n\n  RECINHSE  ... TARGET_D HPHONE_D RFA_2R RFA_2F RFA_2A MDMAUD_R  MDMAUD_F  \\\n0           ...      0.0        0      L      4      E        X         X   \n1           ...      0.0        0      L      2      G        X         X   \n2           ...      0.0        1      L      4      E        X         X   \n3           ...      0.0        1      L      4      E        X         X   \n4        X  ...      0.0        1      L      2      F        X         X   \n\n  MDMAUD_A CLUSTER2 GEOCODE2  \n0        X     39.0        C  \n1        X      1.0        A  \n2        X     60.0        C  \n3        X     41.0        C  \n4        X     26.0        A  \n\n[5 rows x 481 columns]",
      "text/html": "<div>\n<style scoped>\n    .dataframe tbody tr th:only-of-type {\n        vertical-align: middle;\n    }\n\n    .dataframe tbody tr th {\n        vertical-align: top;\n    }\n\n    .dataframe thead th {\n        text-align: right;\n    }\n</style>\n<table border=\"1\" class=\"dataframe\">\n  <thead>\n    <tr style=\"text-align: right;\">\n      <th></th>\n      <th>ODATEDW</th>\n      <th>OSOURCE</th>\n      <th>TCODE</th>\n      <th>STATE</th>\n      <th>ZIP</th>\n      <th>MAILCODE</th>\n      <th>PVASTATE</th>\n      <th>DOB</th>\n      <th>NOEXCH</th>\n      <th>RECINHSE</th>\n      <th>...</th>\n      <th>TARGET_D</th>\n      <th>HPHONE_D</th>\n      <th>RFA_2R</th>\n      <th>RFA_2F</th>\n      <th>RFA_2A</th>\n      <th>MDMAUD_R</th>\n      <th>MDMAUD_F</th>\n      <th>MDMAUD_A</th>\n      <th>CLUSTER2</th>\n      <th>GEOCODE2</th>\n    </tr>\n  </thead>\n  <tbody>\n    <tr>\n      <th>0</th>\n      <td>8901</td>\n      <td>GRI</td>\n      <td>0</td>\n      <td>IL</td>\n      <td>61081</td>\n      <td></td>\n      <td></td>\n      <td>3712</td>\n      <td>0</td>\n      <td></td>\n      <td>...</td>\n      <td>0.0</td>\n      <td>0</td>\n      <td>L</td>\n      <td>4</td>\n      <td>E</td>\n      <td>X</td>\n      <td>X</td>\n      <td>X</td>\n      <td>39.0</td>\n      <td>C</td>\n    </tr>\n    <tr>\n      <th>1</th>\n      <td>9401</td>\n      <td>BOA</td>\n      <td>1</td>\n      <td>CA</td>\n      <td>91326</td>\n      <td></td>\n      <td></td>\n      <td>5202</td>\n      <td>0</td>\n      <td></td>\n      <td>...</td>\n      <td>0.0</td>\n      <td>0</td>\n      <td>L</td>\n      <td>2</td>\n      <td>G</td>\n      <td>X</td>\n      <td>X</td>\n      <td>X</td>\n      <td>1.0</td>\n      <td>A</td>\n    </tr>\n    <tr>\n      <th>2</th>\n      <td>9001</td>\n      <td>AMH</td>\n      <td>1</td>\n      <td>NC</td>\n      <td>27017</td>\n      <td></td>\n      <td></td>\n      <td>0</td>\n      <td>0</td>\n      <td></td>\n      <td>...</td>\n      <td>0.0</td>\n      <td>1</td>\n      <td>L</td>\n      <td>4</td>\n      <td>E</td>\n      <td>X</td>\n      <td>X</td>\n      <td>X</td>\n      <td>60.0</td>\n      <td>C</td>\n    </tr>\n    <tr>\n      <th>3</th>\n      <td>8701</td>\n      <td>BRY</td>\n      <td>0</td>\n      <td>CA</td>\n      <td>95953</td>\n      <td></td>\n      <td></td>\n      <td>2801</td>\n      <td>0</td>\n      <td></td>\n      <td>...</td>\n      <td>0.0</td>\n      <td>1</td>\n      <td>L</td>\n      <td>4</td>\n      <td>E</td>\n      <td>X</td>\n      <td>X</td>\n      <td>X</td>\n      <td>41.0</td>\n      <td>C</td>\n    </tr>\n    <tr>\n      <th>4</th>\n      <td>8601</td>\n      <td></td>\n      <td>0</td>\n      <td>FL</td>\n      <td>33176</td>\n      <td></td>\n      <td></td>\n      <td>2001</td>\n      <td>0</td>\n      <td>X</td>\n      <td>...</td>\n      <td>0.0</td>\n      <td>1</td>\n      <td>L</td>\n      <td>2</td>\n      <td>F</td>\n      <td>X</td>\n      <td>X</td>\n      <td>X</td>\n      <td>26.0</td>\n      <td>A</td>\n    </tr>\n  </tbody>\n</table>\n<p>5 rows × 481 columns</p>\n</div>"
     },
     "execution_count": 4,
     "metadata": {},
     "output_type": "execute_result"
    }
   ],
   "source": [
    "df.head()"
   ],
   "metadata": {
    "collapsed": false,
    "ExecuteTime": {
     "end_time": "2024-05-17T16:05:07.560718Z",
     "start_time": "2024-05-17T16:05:07.541680Z"
    }
   },
   "id": "84a6b1732ea52800",
   "execution_count": 4
  },
  {
   "cell_type": "code",
   "outputs": [],
   "source": [
    "id = ['CONTROLN']\n",
    "num_feats = ['ODATEDW', 'DOB', 'AGE', 'NUMCHLD', 'INCOME', 'HIT', 'MBCRAFT', \"MBGARDEN\", \"MBBOOKS\", \"MBCOLECT\", \"MAGFAML\", \"MAGFEM\", \"MAGMALE\", \"PUBGARDN\", \"PUBCULIN\", \"PUBHLTH\", \"PUBDOITY\", \"PUBNEWFN\", \"PUBPHOTO\", \"PUBOPP\", 'MALEMILI', 'MALEVET', 'VIETVETS', 'WWIIVETS', 'LOCALGOV', 'STATEGOV', 'FEDGOV', 'POP901', 'POP902', 'POP903', 'POP90C1', 'POP90C2', 'POP90C3', 'POP90C4', 'POP90C5', 'ETH1', 'ETH2', 'ETH3', 'ETH4', 'ETH5', 'ETH6', 'ETH7', 'ETH8', 'ETH9', 'ETH10', 'ETH11', 'ETH12', 'ETH13', 'ETH14', 'ETH15', 'ETH16', 'AGE901', 'AGE902', 'AGE903', 'AGE904', 'AGE905', 'AGE906', 'AGE907', 'CHIL1', 'CHIL2', 'CHIL3', 'AGEC1', 'AGEC2', 'AGEC3', 'AGEC4', 'AGEC5', 'AGEC6', 'AGEC7', 'CHILC1', 'CHILC2', 'CHILC3', 'CHILC4', 'CHILC5', \"HHAGE1\", \"HHAGE2\", \"HHAGE3\", \"HHN1\", \"HHN2\", \"HHN3\", \"HHN4\", \"HHN5\", \"HHN6\", \"MARR1\", \"MARR2\", \"MARR3\", \"MARR4\", \"HHP1\", \"HHP2\", \"DW1\", \"DW2\", \"DW3\", \"DW4\", \"DW5\", \"DW6\", \"DW7\", \"DW8\", \"DW9\", \"HV1\", \"HV2\", \"HV3\", \"HV4\", \"HU1\", \"HU2\", \"HU3\", \"HU4\", \"HU5\", \"HHD1\", \"HHD2\", \"HHD3\", \"HHD4\", \"HHD5\", \"HHD6\", \"HHD7\", \"HHD8\", \"HHD9\", \"HHD10\", \"HHD11\", \"HHD12\", \"ETHC1\", \"ETHC2\", \"ETHC3\", \"ETHC4\",\"ETHC5\", \"ETHC6\", \"HVP1\", \"HVP2\", \"HVP3\", \"HVP4\", \"HVP5\", \"HVP6\", \"HUR1\", \"HUR2\", \"RHP1\", \"RHP2\", \"RHP3\", \"RHP4\", \"HUPA1\", \"HUPA2\", \"HUPA3\", \"HUPA4\", \"HUPA5\", \"HUPA6\", \"HUPA7\", \"RP1\", \"RP2\", \"RP3\", \"RP4\", \"IC1\", \"IC2\", \"IC3\", \"IC4\", \"IC5\", \"IC6\", \"IC7\", \"IC8\", \"IC9\", \"IC10\", \"IC11\", \"IC12\", \"IC13\", \"IC14\", \"IC15\", \"IC16\", \"IC17\", \"IC18\", \"IC19\", \"IC20\", \"IC21\", \"IC22\", \"IC23\", \"HHAS1\", \"HHAS2\", \"HHAS3\", \"HHAS4\", \"MC1\", \"MC2\", \"MC3\", \"TPE1\", \"TPE2\", \"TPE3\", \"TPE4\", \"TPE5\", \"TPE6\", \"TPE7\", \"TPE8\", \"TPE9\", \"PEC1\", \"PEC2\", \"TPE10\", \"TPE11\", \"TPE12\", \"TPE13\", \"LFC1\", \"LFC2\", \"LFC3\", \"LFC4\", \"LFC5\", \"LFC6\", \"LFC7\", \"LFC8\", \"LFC9\", \"LFC10\", \"OCC1\", \"OCC2\", \"OCC3\", \"OCC4\", \"OCC5\", \"OCC6\", \"OCC7\", \"OCC8\", \"OCC9\", \"OCC10\", \"OCC11\", \"OCC12\", \"OCC13\", \"EIC1\", \"EIC2\", \"EIC3\", \"EIC4\", \"EIC5\", \"EIC6\", \"EIC7\", \"EIC8\", \"EIC9\", \"EIC10\", \"EIC11\", \"EIC12\", \"EIC13\", \"EIC14\", \"EIC15\", \"EIC16\", \"OEDC1\", \"OEDC2\", \"OEDC3\", \"OEDC4\", \"OEDC5\", \"OEDC6\", \"OEDC7\", \"EC1\", \"EC2\", \"EC3\", \"EC4\", \"EC5\", \"EC6\", \"EC7\", \"EC8\", \"SEC1\", \"SEC2\", \"SEC3\", \"SEC4\", \"SEC5\", \"AFC1\", \"AFC2\", \"AFC3\", \"AFC4\", \"AFC5\", \"AFC6\", \"VC1\", \"VC2\", \"VC3\", \"VC4\", \"ANC1\", \"ANC2\", \"ANC3\", \"ANC4\", \"ANC5\", \"ANC6\", \"ANC7\", \"ANC8\", \"ANC9\", \"ANC10\", \"ANC11\", \"ANC12\", \"ANC13\", \"ANC14\", \"ANC15\", \"POBC1\", \"POBC2\", \"LSC1\", \"LSC2\", \"LSC3\", \"LSC4\", \"VOC1\", \"VOC2\", \"VOC3\", \"HC1\", \"HC2\", \"HC3\", \"HC4\", \"HC5\", \"HC6\", \"HC7\", \"HC8\", \"HC9\", \"HC10\", \"HC11\", \"HC12\", \"HC13\", \"HC14\", \"HC15\", \"HC16\", \"HC17\", \"HC18\", \"HC19\", \"HC20\", \"HC21\", \"MHUC1\", \"MHUC2\", \"AC1\", \"AC2\", 'CARDPROM', 'NUMPROM', 'CARDPM12', 'NUMPRM12', \"RAMNT_3\", \"RAMNT_4\", \"RAMNT_5\", \"RAMNT_6\", \"RAMNT_7\", \"RAMNT_8\", \"RAMNT_9\", \"RAMNT_10\", \"RAMNT_11\", \"RAMNT_12\", \"RAMNT_13\", \"RAMNT_14\", \"RAMNT_15\", \"RAMNT_16\", \"RAMNT_17\", \"RAMNT_18\", \"RAMNT_19\", \"RAMNT_20\", \"RAMNT_21\", \"RAMNT_22\", \"RAMNT_23\", \"RAMNT_24\", \"RAMNTALL\", \"NGIFTALL\", \"CARDGIFT\", \"MINRAMNT\", \"MINRDATE\", \"MAXRAMNT\", \"MAXRDATE\", \"LASTGIFT\", \"LASTDATE\", \"FISTDATE\", \"NEXTDATE\", \"TIMELAG\", \"AVGGIFT\", \"ADATE_2\", \"ADATE_3\", \"ADATE_4\", \"ADATE_5\", \"ADATE_6\", \"ADATE_7\", \"ADATE_8\", \"ADATE_9\", \"ADATE_10\", \"ADATE_11\", \"ADATE_12\", \"ADATE_13\", \"ADATE_14\", \"ADATE_15\", \"ADATE_16\", \"ADATE_17\", \"ADATE_18\", \"ADATE_19\", \"ADATE_20\", \"ADATE_21\", \"ADATE_22\", \"ADATE_23\", \"ADATE_24\"]\n",
    "cat_feats = ['OSOURCE', 'TCODE', 'STATE', 'ZIP', 'MAILCODE', 'PVASTATE', 'NOEXCH', 'RECINHSE', 'RECP3', 'RECPGVG', 'RECSWEEP', 'MDMAUD', 'DOMAIN', 'CLUSTER', 'AGEFLAG', 'HOMEOWNR', 'CHILD03', 'CHILD07', 'CHILD12', 'CHILD18', 'GENDER', 'WEALTH1', 'DATASRCE', 'SOLP3', 'SOLIH', 'MAJOR', 'WEALTH2', 'GEOCODE', 'COLLECT1', 'VETERANS', 'BIBLE', 'CATLG', 'HOMEE', 'PETS', 'CDPLAY', 'STEREO', 'PCOWNERS', 'PHOTO', 'CRAFTS', 'FISHER', 'GARDENIN', 'BOATS', 'WALKER', 'KIDSTUFF', 'CARDS', 'PLATES', 'LIFESRC', 'PEPSTRFL', \"MSA\", \"ADI\", \"DMA\", \"RFA_2\", \"RFA_3\", \"RFA_4\", \"RFA_5\", \"RFA_6\", \"RFA_7\", \"RFA_8\", \"RFA_9\", \"RFA_10\", \"RFA_11\", \"RFA_12\", \"RFA_13\", \"RFA_14\", \"RFA_15\", \"RFA_16\", \"RFA_17\", \"RFA_18\", \"RFA_19\", \"RFA_20\", \"RFA_21\", \"RFA_22\", \"RFA_23\", \"RFA_24\", 'MAXADATE', 'HPHONE_D', \"RFA_2R\", \"RFA_2F\", \"RFA_2A\", \"MDMAUD_R\", \"MDMAUD_F\", \"MDMAUD_A\", 'CLUSTER2', 'GEOCODE2']\n",
    "ordinal_feats = ['DOMAIN', 'WEALTH1', 'SOLP3', 'SOLIH', 'WEALTH2', \"RFA_2\", \"RFA_3\", \"RFA_4\", \"RFA_5\", \"RFA_6\", \"RFA_7\", \"RFA_8\", \"RFA_9\", \"RFA_10\", \"RFA_11\", \"RFA_12\", \"RFA_13\", \"RFA_14\", \"RFA_15\", \"RFA_16\", \"RFA_17\", \"RFA_18\", \"RFA_19\", \"RFA_20\", \"RFA_21\", \"RFA_22\", \"RFA_23\", \"RFA_24\", \"RFA_2R\", \"RFA_2F\", \"RFA_2A\", \"MDMAUD_R\", \"MDMAUD_F\", \"MDMAUD_A\"]\n",
    "targets = ['TARGET_B', 'TARGET_D']"
   ],
   "metadata": {
    "collapsed": false,
    "ExecuteTime": {
     "end_time": "2024-05-17T16:05:07.577179Z",
     "start_time": "2024-05-17T16:05:07.561969Z"
    }
   },
   "id": "b9735cba0bdade57",
   "execution_count": 5
  },
  {
   "cell_type": "markdown",
   "source": [
    "### Drop unaligned features\n",
    "This is to drop all features that are not aligned with the variable definitions in the KDD Cup 1998 documention. If they are not aligned (for example where a variable should be binary according to the document, but does not have 2 unique values). No information can be inferred as to what the extra values are, so we drop them."
   ],
   "metadata": {
    "collapsed": false
   },
   "id": "8aeafb1a4af42cb6"
  },
  {
   "cell_type": "code",
   "outputs": [],
   "source": [
    "# Find binary features in dataset\n",
    "def get_binary_features(df):\n",
    "    binary_features = []\n",
    "    for col in df.columns:\n",
    "        if df[col].nunique() == 2:\n",
    "            binary_features.append(col)\n",
    "    return binary_features\n",
    "found_binary = get_binary_features(df)"
   ],
   "metadata": {
    "collapsed": false,
    "ExecuteTime": {
     "end_time": "2024-05-17T16:05:08.191703Z",
     "start_time": "2024-05-17T16:05:07.578342Z"
    }
   },
   "id": "71ef874c33a8d3c4",
   "execution_count": 6
  },
  {
   "cell_type": "code",
   "outputs": [],
   "source": [
    "# True binary features indicated in KDD CUP 1998 docs\n",
    "true_binary = [\n",
    "    'MAILCODE', 'PVASTATE', 'NOEXCH', 'RECINHSE', 'RECP3', 'RECPGVG', 'RECSWEEP', 'AGEFLAG', 'HOMEOWNR', 'CHILD07', 'CHILD12', 'CHILD18', 'MAJOR', 'COLLECT1', 'VETERANS', 'BIBLE', 'CATLG', 'HOMEE', 'PETS', 'CDPLAY', 'STEREO', 'PCOWNERS', 'PHOTO', 'CRAFTS', 'FISHER', 'GARDENIN', 'BOATS', 'WALKER', 'KIDSTUFF', 'CARDS', 'PLATES', 'PEPSTRFL', 'TARGET_B', 'HPHONE_D'\n",
    "]"
   ],
   "metadata": {
    "collapsed": false,
    "ExecuteTime": {
     "end_time": "2024-05-17T16:05:08.199931Z",
     "start_time": "2024-05-17T16:05:08.195959Z"
    }
   },
   "id": "cfb6eebd72cb19d0",
   "execution_count": 7
  },
  {
   "cell_type": "code",
   "outputs": [],
   "source": [
    "# intersection (features that are true and found binary)\n",
    "binary_features = list(set(found_binary).intersection(true_binary))\n",
    "\n",
    "# difference between binary_features and true_binary (features that are true binary but not found)\n",
    "true_not_found_features = list(set(true_binary).difference(binary_features))\n",
    "\n",
    "# difference between found_binary and binary_features (features that are found binary but not true)\n",
    "found_not_true_features = list(set(found_binary).difference(binary_features))"
   ],
   "metadata": {
    "collapsed": false,
    "ExecuteTime": {
     "end_time": "2024-05-17T16:05:08.207616Z",
     "start_time": "2024-05-17T16:05:08.200938Z"
    }
   },
   "id": "b29d0e119736292d",
   "execution_count": 8
  },
  {
   "cell_type": "code",
   "outputs": [],
   "source": [
    "# Drop features that are true binary but not found to be\n",
    "df.drop(columns=true_not_found_features, inplace=True)\n",
    "num_feats = [value for value in num_feats if value not in true_not_found_features]\n",
    "cat_feats = [value for value in cat_feats if value not in true_not_found_features]"
   ],
   "metadata": {
    "collapsed": false,
    "ExecuteTime": {
     "end_time": "2024-05-17T16:05:08.324062Z",
     "start_time": "2024-05-17T16:05:08.208637Z"
    }
   },
   "id": "ecb0376377151eb5",
   "execution_count": 9
  },
  {
   "cell_type": "markdown",
   "source": [
    "### Set proper dtype\n",
    "Setting dtype to integer for character dtype columns with integers as strings.\n",
    "ZIP, and CLUSTER codes are maintained (no one-hot encoding due to high cardinality)\n",
    "\n",
    "*N.B. Only to be run after binary encoding*"
   ],
   "metadata": {
    "collapsed": false
   },
   "id": "842097c7e0272d1b"
  },
  {
   "cell_type": "code",
   "outputs": [],
   "source": [
    "# replace blanks with 99 and convert to numeric\n",
    "df['SOLP3'] = df['SOLP3'].replace(' ', 99).astype(int)\n",
    "df['SOLIH'] = df['SOLIH'].replace(' ', 99).astype(int)\n",
    "df['CLUSTER'] = df['CLUSTER'].replace(' ', -1).astype(int)\n",
    "df['ZIP'] = df['ZIP'].astype(str).str.replace('-', '').astype(int)"
   ],
   "metadata": {
    "collapsed": false,
    "ExecuteTime": {
     "end_time": "2024-05-17T16:05:08.367600Z",
     "start_time": "2024-05-17T16:05:08.325089Z"
    }
   },
   "id": "1bc3f7ae40c19178",
   "execution_count": 10
  },
  {
   "cell_type": "markdown",
   "source": [
    "### Encoding binary features"
   ],
   "metadata": {
    "collapsed": false
   },
   "id": "b770eccd8de8e430"
  },
  {
   "cell_type": "code",
   "outputs": [
    {
     "data": {
      "text/plain": "{'CDPLAY': {' ': 0, 'Y': 1},\n 'HOMEE': {' ': 0, 'Y': 1},\n 'CARDS': {' ': 0, 'Y': 1},\n 'MAILCODE': {' ': 0, 'B': 1},\n 'PETS': {' ': 0, 'Y': 1},\n 'STEREO': {' ': 0, 'Y': 1},\n 'BOATS': {' ': 0, 'Y': 1},\n 'WALKER': {' ': 0, 'Y': 1},\n 'PCOWNERS': {' ': 0, 'Y': 1},\n 'HPHONE_D': {0: 0, 1: 1},\n 'RECSWEEP': {' ': 0, 'X': 1},\n 'BIBLE': {' ': 0, 'Y': 1},\n 'CATLG': {' ': 0, 'Y': 1},\n 'CRAFTS': {' ': 0, 'Y': 1},\n 'FISHER': {' ': 0, 'Y': 1},\n 'TARGET_B': {0: 0, 1: 1},\n 'COLLECT1': {' ': 0, 'Y': 1},\n 'RECINHSE': {' ': 0, 'X': 1},\n 'PEPSTRFL': {'X': 0, ' ': 1},\n 'PLATES': {' ': 0, 'Y': 1},\n 'RECP3': {' ': 0, 'X': 1},\n 'PHOTO': {' ': 0, 'Y': 1},\n 'MAJOR': {' ': 0, 'X': 1},\n 'KIDSTUFF': {' ': 0, 'Y': 1},\n 'VETERANS': {' ': 0, 'Y': 1},\n 'GARDENIN': {' ': 0, 'Y': 1},\n 'RECPGVG': {' ': 0, 'X': 1}}"
     },
     "execution_count": 11,
     "metadata": {},
     "output_type": "execute_result"
    }
   ],
   "source": [
    "# get dictionary of binary features and their encoding\n",
    "def get_binary_encoding(df, cols):\n",
    "    binary_encoding = {}\n",
    "    for col in cols:\n",
    "        binary_encoding[col] = {df[col].unique()[0]: 0, df[col].unique()[1]: 1}\n",
    "    return binary_encoding\n",
    "binary_encoding = get_binary_encoding(df, binary_features)\n",
    "binary_encoding"
   ],
   "metadata": {
    "collapsed": false,
    "ExecuteTime": {
     "end_time": "2024-05-17T16:05:08.497991Z",
     "start_time": "2024-05-17T16:05:08.368677Z"
    }
   },
   "id": "8f13d16ef6c8a8fc",
   "execution_count": 11
  },
  {
   "cell_type": "code",
   "outputs": [],
   "source": [
    "# Binary encoding function\n",
    "def encode_binary(df, cols, from_to):\n",
    "    for col in cols:\n",
    "        encoding = from_to[col]\n",
    "        df[col] = df[col].replace(encoding)\n",
    "    return df"
   ],
   "metadata": {
    "collapsed": false,
    "ExecuteTime": {
     "end_time": "2024-05-17T16:05:08.501559Z",
     "start_time": "2024-05-17T16:05:08.497991Z"
    }
   },
   "id": "20450000d3a760b4",
   "execution_count": 12
  },
  {
   "cell_type": "code",
   "outputs": [
    {
     "name": "stderr",
     "output_type": "stream",
     "text": [
      "C:\\Users\\darry\\AppData\\Local\\Temp\\ipykernel_12556\\1813438623.py:5: FutureWarning: Downcasting behavior in `replace` is deprecated and will be removed in a future version. To retain the old behavior, explicitly call `result.infer_objects(copy=False)`. To opt-in to the future behavior, set `pd.set_option('future.no_silent_downcasting', True)`\n",
      "  df[col] = df[col].replace(encoding)\n"
     ]
    }
   ],
   "source": [
    "# Encode binary features\n",
    "df = encode_binary(df, binary_features, binary_encoding)"
   ],
   "metadata": {
    "collapsed": false,
    "ExecuteTime": {
     "end_time": "2024-05-17T16:05:08.925443Z",
     "start_time": "2024-05-17T16:05:08.502662Z"
    }
   },
   "id": "fd3f695395b05b02",
   "execution_count": 13
  },
  {
   "cell_type": "markdown",
   "source": [
    "### Multiclass categorical feature encoding"
   ],
   "metadata": {
    "collapsed": false
   },
   "id": "cb138620790da437"
  },
  {
   "cell_type": "markdown",
   "source": [
    "First we find the features that are categorical (have dtype object, not all true categorical features). Then we shall handle these features one by one."
   ],
   "metadata": {
    "collapsed": false
   },
   "id": "5093dcf55f16a064"
  },
  {
   "cell_type": "code",
   "outputs": [
    {
     "data": {
      "text/plain": "{'OSOURCE': 896,\n 'STATE': 57,\n 'MDMAUD': 28,\n 'DOMAIN': 17,\n 'CHILD03': 4,\n 'GENDER': 7,\n 'DATASRCE': 4,\n 'GEOCODE': 8,\n 'LIFESRC': 4,\n 'RFA_2': 14,\n 'RFA_3': 71,\n 'RFA_4': 64,\n 'RFA_5': 41,\n 'RFA_6': 109,\n 'RFA_7': 106,\n 'RFA_8': 109,\n 'RFA_9': 107,\n 'RFA_10': 94,\n 'RFA_11': 101,\n 'RFA_12': 107,\n 'RFA_13': 87,\n 'RFA_14': 95,\n 'RFA_15': 34,\n 'RFA_16': 123,\n 'RFA_17': 118,\n 'RFA_18': 122,\n 'RFA_19': 108,\n 'RFA_20': 80,\n 'RFA_21': 102,\n 'RFA_22': 117,\n 'RFA_23': 87,\n 'RFA_24': 97,\n 'RFA_2R': 1,\n 'RFA_2A': 4,\n 'MDMAUD_R': 5,\n 'MDMAUD_F': 4,\n 'MDMAUD_A': 5,\n 'GEOCODE2': 5}"
     },
     "execution_count": 14,
     "metadata": {},
     "output_type": "execute_result"
    }
   ],
   "source": [
    "# Number of modalities for each feature\n",
    "def get_categorical_modalities(df):\n",
    "    categorical_features = []\n",
    "    for col in df.columns:\n",
    "        if df[col].dtype == 'object':\n",
    "            categorical_features.append(col)\n",
    "    categorical_modalities = {}\n",
    "    for col in categorical_features:\n",
    "        categorical_modalities[col] = df[col].nunique()\n",
    "    return categorical_features, categorical_modalities\n",
    "categorical_features, categorical_modalities = get_categorical_modalities(df)\n",
    "categorical_modalities"
   ],
   "metadata": {
    "collapsed": false,
    "ExecuteTime": {
     "end_time": "2024-05-17T16:05:09.051903Z",
     "start_time": "2024-05-17T16:05:08.926469Z"
    }
   },
   "id": "6baa4682154e600f",
   "execution_count": 14
  },
  {
   "cell_type": "markdown",
   "source": [
    "*Custom function to bitwise encode RFA, MDMAUD, DOMAIN*"
   ],
   "metadata": {
    "collapsed": false
   },
   "id": "c2af44a4ef301639"
  },
  {
   "cell_type": "code",
   "outputs": [],
   "source": [
    "def byte_encoder(code, byte_mapping, true_len, byte_pos):\n",
    "    if pd.isna(code) or (isinstance(code, str) and len(code) != true_len):\n",
    "        return np.nan\n",
    "    elif code == 0 or 'X' in code:\n",
    "        return 0\n",
    "    else:\n",
    "        byte = byte_mapping.get(code[byte_pos])\n",
    "        return f\"{code[:byte_pos]}{byte}{code[byte_pos+1:]}\""
   ],
   "metadata": {
    "collapsed": false,
    "ExecuteTime": {
     "end_time": "2024-05-17T16:05:09.056228Z",
     "start_time": "2024-05-17T16:05:09.052910Z"
    }
   },
   "id": "90b417bec77056e4",
   "execution_count": 15
  },
  {
   "cell_type": "markdown",
   "source": [
    "*DOMAIN encoding*\n",
    "1st byte encoding (level of urbanicity):\n",
    "- R -> 1\n",
    "- T -> 2\n",
    "- S -> 3\n",
    "- C -> 4\n",
    "- U -> 5"
   ],
   "metadata": {
    "collapsed": false
   },
   "id": "edfb31b799b65e67"
  },
  {
   "cell_type": "code",
   "outputs": [],
   "source": [
    "# Code mapping\n",
    "dom_byte_mapping = {'R': 1, 'T': 2, 'S': 3, 'C': 4, 'U': 5}\n",
    "\n",
    "df['DOMAIN'] = df['DOMAIN'].apply(byte_encoder, args=(dom_byte_mapping, 2, 0))\n",
    "df['DOMAIN'] = pd.to_numeric(df['DOMAIN'], errors='coerce').astype('Int64')"
   ],
   "metadata": {
    "collapsed": false,
    "ExecuteTime": {
     "end_time": "2024-05-17T16:05:09.176590Z",
     "start_time": "2024-05-17T16:05:09.057266Z"
    }
   },
   "id": "cf0b988c5337f750",
   "execution_count": 16
  },
  {
   "cell_type": "markdown",
   "source": [
    "*RFA encoding*\n",
    "\n",
    "Encoding of 1st byte: \n",
    "- F -> 1\n",
    "- N -> 2\n",
    "- I -> 3\n",
    "- L -> 5 \n",
    "- A -> 6\n",
    "- S -> 7\n",
    "\n",
    "Encoding of 3rd byte:\n",
    "- A -> 1\n",
    "- B -> 3\n",
    "- C -> 4\n",
    "- D -> 8\n",
    "- E -> 13\n",
    "- F -> 20\n",
    "- G -> 25"
   ],
   "metadata": {
    "collapsed": false
   },
   "id": "dc6fbe5fdadc3fa4"
  },
  {
   "cell_type": "markdown",
   "source": [],
   "metadata": {
    "collapsed": false
   },
   "id": "489d30323040c6f4"
  },
  {
   "cell_type": "code",
   "outputs": [],
   "source": [
    "# Code mapping\n",
    "first_byte_mapping = {'F': 1, 'N': 2, 'I': 3, 'L': 5, 'A': 6, 'S': 7}\n",
    "third_byte_mapping = {'A': 1, 'B': 3, 'C': 4, 'D': 8, 'E': 13, 'F': 20, 'G': 25}\n",
    "\n",
    "for col in categorical_features:\n",
    "    if col.startswith('RFA'):\n",
    "        if col.endswith('R'):\n",
    "            df[col] = df[col].apply(byte_encoder, args=(first_byte_mapping, 1, 0))\n",
    "        elif  col.endswith('A'):\n",
    "            df[col] = df[col].apply(byte_encoder, args=(third_byte_mapping, 1, 0))\n",
    "        elif col.endswith('F'):\n",
    "            df[col] = df[col].replace('X', 0)\n",
    "        else:\n",
    "            df[col] = df[col].apply(byte_encoder, args=(first_byte_mapping, 3, 0))\n",
    "            df[col] = df[col].apply(byte_encoder, args=(third_byte_mapping, 3, 2))\n",
    "        df[col] = pd.to_numeric(df[col], errors='coerce').astype('Int64')"
   ],
   "metadata": {
    "collapsed": false,
    "ExecuteTime": {
     "end_time": "2024-05-17T16:05:13.862169Z",
     "start_time": "2024-05-17T16:05:09.177648Z"
    }
   },
   "id": "a89d4e13f717f9b",
   "execution_count": 17
  },
  {
   "cell_type": "markdown",
   "source": [
    "*MDMAUD encoding*\n",
    "\n",
    "If not major donor then 0.\n",
    "\n",
    "Encoding of 1st byte: \n",
    "- D -> 1\n",
    "- I -> 2\n",
    "- L -> 3\n",
    "- C -> 4 \n",
    "\n",
    "Encoding of 3rd byte:\n",
    "- L -> 1\n",
    "- C -> 2\n",
    "- M -> 3\n",
    "- T -> 4"
   ],
   "metadata": {
    "collapsed": false
   },
   "id": "9213c4a3e5c9e05a"
  },
  {
   "cell_type": "code",
   "outputs": [],
   "source": [
    "# Code mapping\n",
    "first_byte_mapping = {'D': 1, 'I': 2, 'L': 3, 'C': 4}\n",
    "third_byte_mapping = {'L': 1, 'C': 2, 'M': 3, 'T': 4}\n",
    "\n",
    "for col in categorical_features:\n",
    "    if col.startswith('MDMAUD'):\n",
    "        if col.endswith('R'):\n",
    "            df[col] = df[col].apply(byte_encoder, args=(first_byte_mapping, 1, 0))\n",
    "        elif  col.endswith('A'):\n",
    "            df[col] = df[col].apply(byte_encoder, args=(third_byte_mapping, 1, 0))\n",
    "        elif col.endswith('F'):\n",
    "            df[col] = df[col].replace('X', 0)\n",
    "        else:\n",
    "            df[col] = df[col].str[:-1]\n",
    "            df[col] = df[col].apply(byte_encoder, args=(first_byte_mapping, 3, 0)).apply(byte_encoder, args=(third_byte_mapping, 3, 2))\n",
    "        df[col] = pd.to_numeric(df[col], errors='coerce').astype('Int64')"
   ],
   "metadata": {
    "collapsed": false,
    "ExecuteTime": {
     "end_time": "2024-05-17T16:05:14.143489Z",
     "start_time": "2024-05-17T16:05:13.863186Z"
    }
   },
   "id": "a4701ffb30c9be88",
   "execution_count": 18
  },
  {
   "cell_type": "markdown",
   "source": [
    "*GENDER*\n",
    "U -> np.nan\n",
    "J -> np.nan\n",
    "M -> 0\n",
    "F -> 1"
   ],
   "metadata": {
    "collapsed": false
   },
   "id": "1bc1580c6b53ff34"
  },
  {
   "cell_type": "code",
   "outputs": [],
   "source": [
    "# Label encoding\n",
    "gen_byte_mapping = {np.nan: np.nan, ' ': np.nan, 'U': np.nan, 'J': np.nan, 'M': 0, 'F': 1}\n",
    "df['GENDER'] = df['GENDER'].apply(lambda x: gen_byte_mapping.get(x))"
   ],
   "metadata": {
    "collapsed": false,
    "ExecuteTime": {
     "end_time": "2024-05-17T16:05:14.161936Z",
     "start_time": "2024-05-17T16:05:14.144850Z"
    }
   },
   "id": "a957dece52d5553c",
   "execution_count": 19
  },
  {
   "cell_type": "markdown",
   "source": [
    "*GEOCODE, GEOCODE2*\n",
    "Temporarily label encoded.\n",
    "One hot encoding (performed at the point of model training using ColumnTransformer in pipeline)\n",
    "' ' -> np.nan"
   ],
   "metadata": {
    "collapsed": false
   },
   "id": "79f0d4425ae13cb8"
  },
  {
   "cell_type": "code",
   "outputs": [],
   "source": [
    "df['GEOCODE'] = df['GEOCODE'].replace(' ', np.nan).astype('Int64')\n",
    "geo2_byte_mapping = {np.nan: np.nan, ' ': np.nan, 'A': 1, 'B': 2, 'C': 3, 'D': 4}\n",
    "df['GEOCODE2'] = df['GEOCODE2'].apply(lambda x: geo2_byte_mapping.get(x)).astype('Int64')"
   ],
   "metadata": {
    "collapsed": false,
    "ExecuteTime": {
     "end_time": "2024-05-17T16:05:14.228408Z",
     "start_time": "2024-05-17T16:05:14.162942Z"
    }
   },
   "id": "bc36170b1de9137",
   "execution_count": 20
  },
  {
   "cell_type": "markdown",
   "source": [
    "*DATASRCE*\n",
    "Temporarily label encoded.\n",
    "One hot encoding (performed at the point of model training using ColumnTransformer in pipeline)\n",
    "' ' -> np.nan"
   ],
   "metadata": {
    "collapsed": false
   },
   "id": "80daaed6bbf7751f"
  },
  {
   "cell_type": "code",
   "outputs": [],
   "source": [
    "df['DATASRCE'] = df['DATASRCE'].replace(' ', np.nan).astype('Int64')"
   ],
   "metadata": {
    "collapsed": false,
    "ExecuteTime": {
     "end_time": "2024-05-17T16:05:14.248629Z",
     "start_time": "2024-05-17T16:05:14.229424Z"
    }
   },
   "id": "eb09777024142990",
   "execution_count": 21
  },
  {
   "cell_type": "markdown",
   "source": [
    "*LIFESRC*\n",
    "Temporarily label encoded.\n",
    "One hot encoding (performed at the point of model training using ColumnTransformer in pipeline)\n",
    "' ' -> np.nan"
   ],
   "metadata": {
    "collapsed": false
   },
   "id": "d99f4594f458e8d"
  },
  {
   "cell_type": "code",
   "outputs": [],
   "source": [
    "df['LIFESRC'] = df['LIFESRC'].replace(' ', np.nan).astype('Int64')"
   ],
   "metadata": {
    "collapsed": false,
    "ExecuteTime": {
     "end_time": "2024-05-17T16:05:14.273480Z",
     "start_time": "2024-05-17T16:05:14.249778Z"
    }
   },
   "id": "8799830cdb9027a6",
   "execution_count": 22
  },
  {
   "cell_type": "markdown",
   "source": [
    "*CHILD03*\n",
    "Temporarily label encoded.\n",
    "One hot encoding, performed at the point of model training using ColumnTransformer in pipeline.\n",
    "' ' -> np.nan"
   ],
   "metadata": {
    "collapsed": false
   },
   "id": "67858d058cab917f"
  },
  {
   "cell_type": "code",
   "outputs": [],
   "source": [
    "chil03_byte_mapping = {np.nan: np.nan, ' ': np.nan, 'B': 3, 'M': 2, 'F': 1}\n",
    "df['CHILD03'] = df['CHILD03'].apply(lambda x: chil03_byte_mapping.get(x))"
   ],
   "metadata": {
    "collapsed": false,
    "ExecuteTime": {
     "end_time": "2024-05-17T16:05:14.288902Z",
     "start_time": "2024-05-17T16:05:14.274493Z"
    }
   },
   "id": "adbb90c15b9cd148",
   "execution_count": 23
  },
  {
   "cell_type": "markdown",
   "source": [
    "*OSOURCE*\n",
    "Label encoding, one hot encoding not possible due to high cardinality.\n",
    "' ' -> np.nan"
   ],
   "metadata": {
    "collapsed": false
   },
   "id": "c1626dd7394a8d77"
  },
  {
   "cell_type": "code",
   "outputs": [
    {
     "name": "stderr",
     "output_type": "stream",
     "text": [
      "C:\\Users\\darry\\AppData\\Local\\Temp\\ipykernel_12556\\4289099267.py:3: FutureWarning: Downcasting behavior in `replace` is deprecated and will be removed in a future version. To retain the old behavior, explicitly call `result.infer_objects(copy=False)`. To opt-in to the future behavior, set `pd.set_option('future.no_silent_downcasting', True)`\n",
      "  df['OSOURCE'] = df['OSOURCE'].replace(osource_encoding).astype('Int64')\n"
     ]
    }
   ],
   "source": [
    "df['OSOURCE'] = df['OSOURCE'].replace(' ', np.nan)\n",
    "osource_encoding = {val: idx for idx, val in enumerate(df['OSOURCE'].unique())}\n",
    "df['OSOURCE'] = df['OSOURCE'].replace(osource_encoding).astype('Int64')"
   ],
   "metadata": {
    "collapsed": false,
    "ExecuteTime": {
     "end_time": "2024-05-17T16:05:18.006100Z",
     "start_time": "2024-05-17T16:05:14.290105Z"
    }
   },
   "id": "338edf4d1302c868",
   "execution_count": 24
  },
  {
   "cell_type": "markdown",
   "source": [
    "*STATE*\n",
    "Label encoding, one hot encoding not possible due to high cardinality."
   ],
   "metadata": {
    "collapsed": false
   },
   "id": "1511ec9f2b29e426"
  },
  {
   "cell_type": "code",
   "outputs": [
    {
     "name": "stderr",
     "output_type": "stream",
     "text": [
      "C:\\Users\\darry\\AppData\\Local\\Temp\\ipykernel_12556\\46920350.py:3: FutureWarning: Downcasting behavior in `replace` is deprecated and will be removed in a future version. To retain the old behavior, explicitly call `result.infer_objects(copy=False)`. To opt-in to the future behavior, set `pd.set_option('future.no_silent_downcasting', True)`\n",
      "  df['STATE'] = df['STATE'].replace(osource_encoding).astype('Int64')\n"
     ]
    }
   ],
   "source": [
    "df['STATE'] = df['STATE'].replace(' ', np.nan)\n",
    "osource_encoding = {val: idx for idx, val in enumerate(df['STATE'].unique())}\n",
    "df['STATE'] = df['STATE'].replace(osource_encoding).astype('Int64')"
   ],
   "metadata": {
    "collapsed": false,
    "ExecuteTime": {
     "end_time": "2024-05-17T16:05:18.202001Z",
     "start_time": "2024-05-17T16:05:18.007132Z"
    }
   },
   "id": "f8ff8e9f99b71915",
   "execution_count": 25
  },
  {
   "cell_type": "markdown",
   "source": [
    "### Balancing the target variable"
   ],
   "metadata": {
    "collapsed": false
   },
   "id": "9fbcf9f213bf30c"
  },
  {
   "cell_type": "code",
   "outputs": [
    {
     "data": {
      "text/plain": "TARGET_B\n0    90569\n1     4843\nName: count, dtype: int64"
     },
     "execution_count": 26,
     "metadata": {},
     "output_type": "execute_result"
    }
   ],
   "source": [
    "df['TARGET_B'].value_counts()"
   ],
   "metadata": {
    "collapsed": false,
    "ExecuteTime": {
     "end_time": "2024-05-17T16:05:18.234067Z",
     "start_time": "2024-05-17T16:05:18.203193Z"
    }
   },
   "id": "a87040403274a455",
   "execution_count": 26
  },
  {
   "cell_type": "code",
   "outputs": [
    {
     "data": {
      "text/plain": "TARGET_D\n0.0     90569\n10.0      941\n15.0      591\n20.0      577\n5.0       503\nName: count, dtype: int64"
     },
     "execution_count": 27,
     "metadata": {},
     "output_type": "execute_result"
    }
   ],
   "source": [
    "df['TARGET_D'].value_counts().head()"
   ],
   "metadata": {
    "collapsed": false,
    "ExecuteTime": {
     "end_time": "2024-05-17T16:05:18.241450Z",
     "start_time": "2024-05-17T16:05:18.235071Z"
    }
   },
   "id": "970e893c98b3cbb3",
   "execution_count": 27
  },
  {
   "cell_type": "code",
   "outputs": [
    {
     "data": {
      "text/plain": "9686"
     },
     "execution_count": 28,
     "metadata": {},
     "output_type": "execute_result"
    }
   ],
   "source": [
    "df_pos = df[df['TARGET_B'] == 1]\n",
    "df_neg = df[df['TARGET_B'] == 0]\n",
    "\n",
    "df_neg_sample = df_neg.sample(n=len(df_pos), random_state=42)\n",
    "df = pd.concat([df_pos, df_neg_sample], axis=0)\n",
    "len(df)"
   ],
   "metadata": {
    "collapsed": false,
    "ExecuteTime": {
     "end_time": "2024-05-17T16:05:18.501110Z",
     "start_time": "2024-05-17T16:05:18.244558Z"
    }
   },
   "id": "be1b28dd877bb7d4",
   "execution_count": 28
  },
  {
   "cell_type": "markdown",
   "source": [
    "### Missing value handling"
   ],
   "metadata": {
    "collapsed": false
   },
   "id": "26beb5a30e409138"
  },
  {
   "cell_type": "markdown",
   "source": [
    "*Step 1: Drop columns with more than 50% missing values*"
   ],
   "metadata": {
    "collapsed": false
   },
   "id": "f72785a6a9348fe6"
  },
  {
   "cell_type": "code",
   "outputs": [
    {
     "data": {
      "text/plain": "RDATE_5    0.999794\nRAMNT_5    0.999794\nRAMNT_4    0.995870\nRDATE_4    0.995870\nRAMNT_3    0.994322\ndtype: float64"
     },
     "execution_count": 29,
     "metadata": {},
     "output_type": "execute_result"
    }
   ],
   "source": [
    "df.isnull().mean().sort_values(ascending=False).head()"
   ],
   "metadata": {
    "collapsed": false,
    "ExecuteTime": {
     "end_time": "2024-05-17T16:05:18.518389Z",
     "start_time": "2024-05-17T16:05:18.502125Z"
    }
   },
   "id": "97890dc7175c8159",
   "execution_count": 29
  },
  {
   "cell_type": "code",
   "outputs": [
    {
     "name": "stdout",
     "output_type": "stream",
     "text": [
      "Removed columns: ['PUBOPP', 'MBCOLECT', 'RAMNT_14', 'RAMNT_5', 'RDATE_16', 'RAMNT_23', 'RDATE_20', 'LIFESRC', 'RAMNT_15', 'RDATE_12', 'RDATE_10', 'RDATE_14', 'RAMNT_11', 'RAMNT_10', 'RAMNT_18', 'RDATE_17', 'RAMNT_22', 'RAMNT_20', 'RAMNT_13', 'RDATE_24', 'RDATE_22', 'RAMNT_24', 'RAMNT_19', 'PUBDOITY', 'RAMNT_3', 'PUBGARDN', 'NUMCHLD', 'RDATE_21', 'MBBOOKS', 'RDATE_6', 'PUBHLTH', 'RAMNT_17', 'MAGFAML', 'RAMNT_9', 'RDATE_4', 'RDATE_8', 'GEOCODE', 'RDATE_13', 'RAMNT_7', 'RAMNT_6', 'RFA_15', 'ADATE_23', 'RDATE_19', 'MBGARDEN', 'RAMNT_12', 'PUBNEWFN', 'MAGFEM', 'RDATE_3', 'RDATE_5', 'PUBPHOTO', 'RDATE_15', 'RAMNT_21', 'MAGMALE', 'RDATE_11', 'RDATE_23', 'RDATE_7', 'ADATE_20', 'RAMNT_16', 'MBCRAFT', 'CHILD03', 'RDATE_18', 'RAMNT_4', 'RAMNT_8', 'RDATE_9', 'RFA_23', 'RFA_20', 'PUBCULIN', 'ADATE_15']\n"
     ]
    }
   ],
   "source": [
    "# Drop columns with more than 50% missing values\n",
    "threshold = 0.5\n",
    "df_ = df.dropna(thresh=len(df) * threshold, axis=1)\n",
    "num_feats = [value for value in num_feats if value in df_.columns]\n",
    "cat_feats = [value for value in cat_feats if value in df_.columns]\n",
    "ordinal_feats = [value for value in ordinal_feats if value in df_.columns]\n",
    "print(\"Removed columns: \" + str(list(set(df.columns).difference(df_.columns))))\n",
    "df = df_"
   ],
   "metadata": {
    "collapsed": false,
    "ExecuteTime": {
     "end_time": "2024-05-17T16:05:18.561783Z",
     "start_time": "2024-05-17T16:05:18.519598Z"
    }
   },
   "id": "7067aa5b62837879",
   "execution_count": 30
  },
  {
   "cell_type": "markdown",
   "source": [
    "*Step 2: Drop rows with more than 30% missing values*"
   ],
   "metadata": {
    "collapsed": false
   },
   "id": "fda6f3a25235c3ec"
  },
  {
   "cell_type": "code",
   "outputs": [],
   "source": [
    "# recursively sample df_neg so that it does not have more that 30% missing values\n",
    "def recursive_sample(df_neg, n, threshold):\n",
    "    sample = df_neg.sample(n)\n",
    "    temp_ = sample.dropna(thresh=len(df.columns) * threshold, axis=0)\n",
    "    if n - len(temp_) == 0:\n",
    "        return sample\n",
    "    else:\n",
    "        return recursive_sample(df_neg, n, threshold)"
   ],
   "metadata": {
    "collapsed": false,
    "ExecuteTime": {
     "end_time": "2024-05-17T16:05:18.566816Z",
     "start_time": "2024-05-17T16:05:18.562931Z"
    }
   },
   "id": "98b45bf1c8ddcffb",
   "execution_count": 31
  },
  {
   "cell_type": "code",
   "outputs": [
    {
     "data": {
      "text/plain": "9686"
     },
     "execution_count": 32,
     "metadata": {},
     "output_type": "execute_result"
    }
   ],
   "source": [
    "df_pos = df[df['TARGET_B'] == 1]\n",
    "df_neg = df[df['TARGET_B'] == 0]\n",
    "df_neg_sample = recursive_sample(df_neg, len(df_pos), 0.7)\n",
    "df = pd.concat([df_pos, df_neg_sample], axis=0)\n",
    "len(df)"
   ],
   "metadata": {
    "collapsed": false,
    "ExecuteTime": {
     "end_time": "2024-05-17T16:05:18.661136Z",
     "start_time": "2024-05-17T16:05:18.567887Z"
    }
   },
   "id": "9178c9431a1473ae",
   "execution_count": 32
  },
  {
   "cell_type": "markdown",
   "source": [
    "*Step 3: Impute missing values*"
   ],
   "metadata": {
    "collapsed": false
   },
   "id": "4d15822b615a9953"
  },
  {
   "cell_type": "code",
   "outputs": [
    {
     "data": {
      "text/plain": "WEALTH1     0.471299\nWEALTH2     0.448689\nRFA_13      0.418233\nADATE_13    0.418129\nRFA_21      0.413070\ndtype: float64"
     },
     "execution_count": 33,
     "metadata": {},
     "output_type": "execute_result"
    }
   ],
   "source": [
    "df.isnull().mean().sort_values(ascending=False).head()"
   ],
   "metadata": {
    "collapsed": false,
    "ExecuteTime": {
     "end_time": "2024-05-17T16:05:18.678250Z",
     "start_time": "2024-05-17T16:05:18.662242Z"
    }
   },
   "id": "f2b01647e82f6e55",
   "execution_count": 33
  },
  {
   "cell_type": "markdown",
   "source": [
    "Impute numerical features"
   ],
   "metadata": {
    "collapsed": false
   },
   "id": "388fec0e05d2f5f7"
  },
  {
   "cell_type": "code",
   "outputs": [],
   "source": [
    "# knn impute numerical features\n",
    "nimputer = KNNImputer(n_neighbors=10)\n",
    "df[num_feats] = nimputer.fit_transform(df[num_feats])"
   ],
   "metadata": {
    "collapsed": false,
    "ExecuteTime": {
     "end_time": "2024-05-17T16:05:52.387962Z",
     "start_time": "2024-05-17T16:05:18.679767Z"
    }
   },
   "id": "afbd56161580d113",
   "execution_count": 34
  },
  {
   "cell_type": "markdown",
   "source": [
    "Impute categorical features"
   ],
   "metadata": {
    "collapsed": false
   },
   "id": "4c6d47f98b907555"
  },
  {
   "cell_type": "code",
   "outputs": [
    {
     "name": "stdout",
     "output_type": "stream",
     "text": [
      "Imputing row 1/9686 with 4 missing, elapsed time: 20.432\n",
      "Imputing row 101/9686 with 0 missing, elapsed time: 20.450\n",
      "Imputing row 201/9686 with 1 missing, elapsed time: 20.474\n",
      "Imputing row 301/9686 with 10 missing, elapsed time: 20.494\n",
      "Imputing row 401/9686 with 4 missing, elapsed time: 20.509\n",
      "Imputing row 501/9686 with 2 missing, elapsed time: 20.531\n",
      "Imputing row 601/9686 with 0 missing, elapsed time: 20.548\n",
      "Imputing row 701/9686 with 0 missing, elapsed time: 20.566\n",
      "Imputing row 801/9686 with 8 missing, elapsed time: 20.585\n",
      "Imputing row 901/9686 with 4 missing, elapsed time: 20.609\n",
      "Imputing row 1001/9686 with 11 missing, elapsed time: 20.631\n",
      "Imputing row 1101/9686 with 0 missing, elapsed time: 20.658\n",
      "Imputing row 1201/9686 with 2 missing, elapsed time: 20.678\n",
      "Imputing row 1301/9686 with 1 missing, elapsed time: 20.701\n",
      "Imputing row 1401/9686 with 2 missing, elapsed time: 20.720\n",
      "Imputing row 1501/9686 with 1 missing, elapsed time: 20.740\n",
      "Imputing row 1601/9686 with 18 missing, elapsed time: 20.759\n",
      "Imputing row 1701/9686 with 8 missing, elapsed time: 20.781\n",
      "Imputing row 1801/9686 with 9 missing, elapsed time: 20.801\n",
      "Imputing row 1901/9686 with 1 missing, elapsed time: 20.819\n",
      "Imputing row 2001/9686 with 2 missing, elapsed time: 20.844\n",
      "Imputing row 2101/9686 with 7 missing, elapsed time: 20.863\n",
      "Imputing row 2201/9686 with 9 missing, elapsed time: 20.881\n",
      "Imputing row 2301/9686 with 17 missing, elapsed time: 20.898\n",
      "Imputing row 2401/9686 with 21 missing, elapsed time: 20.919\n",
      "Imputing row 2501/9686 with 8 missing, elapsed time: 20.937\n",
      "Imputing row 2601/9686 with 3 missing, elapsed time: 20.955\n",
      "Imputing row 2701/9686 with 1 missing, elapsed time: 20.975\n",
      "Imputing row 2801/9686 with 4 missing, elapsed time: 20.998\n",
      "Imputing row 2901/9686 with 2 missing, elapsed time: 21.017\n",
      "Imputing row 3001/9686 with 1 missing, elapsed time: 21.037\n",
      "Imputing row 3101/9686 with 15 missing, elapsed time: 21.059\n",
      "Imputing row 3201/9686 with 18 missing, elapsed time: 21.087\n",
      "Imputing row 3301/9686 with 1 missing, elapsed time: 21.115\n",
      "Imputing row 3401/9686 with 4 missing, elapsed time: 21.138\n",
      "Imputing row 3501/9686 with 1 missing, elapsed time: 21.155\n",
      "Imputing row 3601/9686 with 0 missing, elapsed time: 21.176\n",
      "Imputing row 3701/9686 with 0 missing, elapsed time: 21.193\n",
      "Imputing row 3801/9686 with 1 missing, elapsed time: 21.217\n",
      "Imputing row 3901/9686 with 10 missing, elapsed time: 21.247\n",
      "Imputing row 4001/9686 with 9 missing, elapsed time: 21.274\n",
      "Imputing row 4101/9686 with 0 missing, elapsed time: 21.299\n",
      "Imputing row 4201/9686 with 3 missing, elapsed time: 21.320\n",
      "Imputing row 4301/9686 with 9 missing, elapsed time: 21.351\n",
      "Imputing row 4401/9686 with 5 missing, elapsed time: 21.370\n",
      "Imputing row 4501/9686 with 11 missing, elapsed time: 21.390\n",
      "Imputing row 4601/9686 with 5 missing, elapsed time: 21.407\n",
      "Imputing row 4701/9686 with 16 missing, elapsed time: 21.429\n",
      "Imputing row 4801/9686 with 6 missing, elapsed time: 21.450\n",
      "Imputing row 4901/9686 with 2 missing, elapsed time: 21.469\n",
      "Imputing row 5001/9686 with 5 missing, elapsed time: 21.494\n",
      "Imputing row 5101/9686 with 5 missing, elapsed time: 21.522\n",
      "Imputing row 5201/9686 with 4 missing, elapsed time: 21.546\n",
      "Imputing row 5301/9686 with 0 missing, elapsed time: 21.569\n",
      "Imputing row 5401/9686 with 10 missing, elapsed time: 21.587\n",
      "Imputing row 5501/9686 with 1 missing, elapsed time: 21.615\n",
      "Imputing row 5601/9686 with 0 missing, elapsed time: 21.638\n",
      "Imputing row 5701/9686 with 12 missing, elapsed time: 21.663\n",
      "Imputing row 5801/9686 with 2 missing, elapsed time: 21.686\n",
      "Imputing row 5901/9686 with 8 missing, elapsed time: 21.708\n",
      "Imputing row 6001/9686 with 6 missing, elapsed time: 21.731\n",
      "Imputing row 6101/9686 with 4 missing, elapsed time: 21.749\n",
      "Imputing row 6201/9686 with 10 missing, elapsed time: 21.771\n",
      "Imputing row 6301/9686 with 18 missing, elapsed time: 21.794\n",
      "Imputing row 6401/9686 with 8 missing, elapsed time: 21.822\n",
      "Imputing row 6501/9686 with 2 missing, elapsed time: 21.846\n",
      "Imputing row 6601/9686 with 3 missing, elapsed time: 21.866\n",
      "Imputing row 6701/9686 with 1 missing, elapsed time: 21.881\n",
      "Imputing row 6801/9686 with 8 missing, elapsed time: 21.901\n",
      "Imputing row 6901/9686 with 3 missing, elapsed time: 21.922\n",
      "Imputing row 7001/9686 with 4 missing, elapsed time: 21.949\n",
      "Imputing row 7101/9686 with 16 missing, elapsed time: 21.970\n",
      "Imputing row 7201/9686 with 7 missing, elapsed time: 21.994\n",
      "Imputing row 7301/9686 with 10 missing, elapsed time: 22.020\n",
      "Imputing row 7401/9686 with 0 missing, elapsed time: 22.040\n",
      "Imputing row 7501/9686 with 2 missing, elapsed time: 22.060\n",
      "Imputing row 7601/9686 with 2 missing, elapsed time: 22.083\n",
      "Imputing row 7701/9686 with 5 missing, elapsed time: 22.106\n",
      "Imputing row 7801/9686 with 10 missing, elapsed time: 22.127\n",
      "Imputing row 7901/9686 with 1 missing, elapsed time: 22.143\n",
      "Imputing row 8001/9686 with 1 missing, elapsed time: 22.161\n",
      "Imputing row 8101/9686 with 11 missing, elapsed time: 22.183\n",
      "Imputing row 8201/9686 with 3 missing, elapsed time: 22.206\n",
      "Imputing row 8301/9686 with 2 missing, elapsed time: 22.226\n",
      "Imputing row 8401/9686 with 2 missing, elapsed time: 22.247\n",
      "Imputing row 8501/9686 with 1 missing, elapsed time: 22.269\n",
      "Imputing row 8601/9686 with 2 missing, elapsed time: 22.291\n",
      "Imputing row 8701/9686 with 3 missing, elapsed time: 22.312\n",
      "Imputing row 8801/9686 with 0 missing, elapsed time: 22.331\n",
      "Imputing row 8901/9686 with 1 missing, elapsed time: 22.351\n",
      "Imputing row 9001/9686 with 4 missing, elapsed time: 22.371\n",
      "Imputing row 9101/9686 with 17 missing, elapsed time: 22.391\n",
      "Imputing row 9201/9686 with 2 missing, elapsed time: 22.414\n",
      "Imputing row 9301/9686 with 3 missing, elapsed time: 22.439\n",
      "Imputing row 9401/9686 with 1 missing, elapsed time: 22.462\n",
      "Imputing row 9501/9686 with 4 missing, elapsed time: 22.485\n",
      "Imputing row 9601/9686 with 2 missing, elapsed time: 22.506\n"
     ]
    }
   ],
   "source": [
    "from fancyimpute import KNN\n",
    "\n",
    "cimputer = KNN(k=10)\n",
    "df[ordinal_feats] = cimputer.fit_transform(df[ordinal_feats]).round()\n",
    "\n",
    "nominal_feats = [value for value in cat_feats if value not in ordinal_feats]\n",
    "df[nominal_feats] = df[nominal_feats].apply(lambda x: x.fillna(x.mode()[0]))"
   ],
   "metadata": {
    "collapsed": false,
    "ExecuteTime": {
     "end_time": "2024-05-17T16:06:16.541413Z",
     "start_time": "2024-05-17T16:05:52.388979Z"
    }
   },
   "id": "47d4ff1f6b4be5b3",
   "execution_count": 35
  },
  {
   "cell_type": "code",
   "outputs": [
    {
     "name": "stdout",
     "output_type": "stream",
     "text": [
      "(9686, 406)\n"
     ]
    },
    {
     "data": {
      "text/plain": "ODATEDW    0.0\nEC4        0.0\nAFC1       0.0\nSEC5       0.0\nSEC4       0.0\ndtype: float64"
     },
     "execution_count": 36,
     "metadata": {},
     "output_type": "execute_result"
    }
   ],
   "source": [
    "print(df.shape)\n",
    "df.isnull().mean().sort_values(ascending=False).head()"
   ],
   "metadata": {
    "collapsed": false,
    "ExecuteTime": {
     "end_time": "2024-05-17T16:06:16.569635Z",
     "start_time": "2024-05-17T16:06:16.542624Z"
    }
   },
   "id": "416a9e775cb742b5",
   "execution_count": 36
  },
  {
   "cell_type": "markdown",
   "source": [
    "### Feature engineering"
   ],
   "metadata": {
    "collapsed": false
   },
   "id": "85f0237b76d361cb"
  },
  {
   "cell_type": "markdown",
   "source": [
    "*Custom function to merge subvariables*"
   ],
   "metadata": {
    "collapsed": false
   },
   "id": "cf42626f4d318577"
  },
  {
   "cell_type": "code",
   "outputs": [],
   "source": [
    "def merge_subvars(code):\n",
    "    if pd.isna(code):\n",
    "        return np.nan\n",
    "    elif isinstance(code, str):\n",
    "        return code\n",
    "    else:\n",
    "        bytes = [int(byte) for byte in str(int(code))]\n",
    "        new = reduce(operator.mul, bytes)\n",
    "        return new"
   ],
   "metadata": {
    "collapsed": false,
    "ExecuteTime": {
     "end_time": "2024-05-17T16:06:16.574168Z",
     "start_time": "2024-05-17T16:06:16.570641Z"
    }
   },
   "id": "88df7faccce859f3",
   "execution_count": 37
  },
  {
   "cell_type": "markdown",
   "source": [
    "*DOMAIN*\n",
    "XY -> X*Y\n",
    "Both bytes are ordered categorical variables. Instead of separating them we can use combine both their information through multiplication."
   ],
   "metadata": {
    "collapsed": false
   },
   "id": "bfc2af527a0d5f16"
  },
  {
   "cell_type": "code",
   "outputs": [],
   "source": [
    "df['DOMAIN'] = df['DOMAIN'].apply(merge_subvars)"
   ],
   "metadata": {
    "collapsed": false,
    "ExecuteTime": {
     "end_time": "2024-05-17T16:06:16.586963Z",
     "start_time": "2024-05-17T16:06:16.575209Z"
    }
   },
   "id": "d04d4e38b602f4e5",
   "execution_count": 38
  },
  {
   "cell_type": "markdown",
   "source": [
    "*RFA*\n",
    "XYZ -> X*Y*Z\n",
    "All bytes are ordered categorical variables. Instead of separating them we can use combine both their information through multiplication."
   ],
   "metadata": {
    "collapsed": false
   },
   "id": "b61967b6665c7008"
  },
  {
   "cell_type": "code",
   "outputs": [],
   "source": [
    "for col in cat_feats:\n",
    "    if col.startswith('RFA'):\n",
    "        df[col] = df[col].apply(merge_subvars)"
   ],
   "metadata": {
    "collapsed": false,
    "ExecuteTime": {
     "end_time": "2024-05-17T16:06:16.838977Z",
     "start_time": "2024-05-17T16:06:16.588034Z"
    }
   },
   "id": "c3efdd59bdc08945",
   "execution_count": 39
  },
  {
   "cell_type": "markdown",
   "source": [
    "*MDMAUD*\n",
    "XYZ -> X*Y*Z\n",
    "All bytes are ordered categorical variables. Instead of separating them we can use combine both their information through multiplication."
   ],
   "metadata": {
    "collapsed": false
   },
   "id": "ef7fbcc5f9632a28"
  },
  {
   "cell_type": "code",
   "outputs": [],
   "source": [
    "for col in categorical_features:\n",
    "    if col.startswith('MDMAUD'):\n",
    "        df[col] = df[col].apply(merge_subvars)"
   ],
   "metadata": {
    "collapsed": false,
    "ExecuteTime": {
     "end_time": "2024-05-17T16:06:16.868882Z",
     "start_time": "2024-05-17T16:06:16.839137Z"
    }
   },
   "id": "762d0c08b605c79e",
   "execution_count": 40
  },
  {
   "cell_type": "markdown",
   "source": [
    "### Feature Selection"
   ],
   "metadata": {
    "collapsed": false
   },
   "id": "f71da5cffe41a56c"
  },
  {
   "cell_type": "markdown",
   "source": [
    "*Step 1: Manual feature selection*\n",
    "In this step we manually inspect all features and their meaning and drop features which are not properly described or derived from other features. Due to the large number of features, this is a reasonable first step to reduce the number of features.\n",
    "\n",
    "Features to remove = ['NOEXCH', 'RECPGVG', 'RECSWEEP', 'CLUSTER', 'AGEFLAG', 'GEOCODE', 'MSA', 'ADI', 'DMA', 'CLUSTER2', 'GEOCODE2']\n",
    "\n",
    "To confirm that these variables are irrelevant we run some tests.\n"
   ],
   "metadata": {
    "collapsed": false
   },
   "id": "e2262fde4a5a5b72"
  },
  {
   "cell_type": "code",
   "outputs": [
    {
     "name": "stdout",
     "output_type": "stream",
     "text": [
      "Chi-squared test for RECPGVG\n",
      "Chi2 statistic: 1.2324233194697374\n",
      "P-value: 0.26693627727899905\n",
      "The association between RECPGVG and TARGET_B is not significant.\n",
      "\n",
      "Fisher's exact test for RECPGVG\n",
      "Odds ratio: 2.252327265204799\n",
      "P-value: 0.2665211238365676\n",
      "The association between RECPGVG and TARGET_B is not significant.\n",
      "\n",
      "\n",
      "Chi-squared test for RECSWEEP\n",
      "Chi2 statistic: 0.3993586080583721\n",
      "P-value: 0.5274206843517127\n",
      "The association between RECSWEEP and TARGET_B is not significant.\n",
      "\n",
      "Fisher's exact test for RECSWEEP\n",
      "Odds ratio: 0.8936580819564942\n",
      "P-value: 0.5275451401703914\n",
      "The association between RECSWEEP and TARGET_B is not significant.\n",
      "\n",
      "\n",
      "Chi-squared test for CLUSTER\n",
      "Chi2 statistic: 79.23031984447691\n",
      "P-value: 0.01128118954446939\n",
      "The association between CLUSTER and TARGET_B is significant.\n",
      "\n",
      "\n",
      "Chi-squared test for MSA\n",
      "Chi2 statistic: 283.2661746138157\n",
      "P-value: 0.164251104446483\n",
      "The association between MSA and TARGET_B is not significant.\n",
      "\n",
      "\n",
      "Chi-squared test for ADI\n",
      "Chi2 statistic: 215.44259163099326\n",
      "P-value: 0.06853030175952621\n",
      "The association between ADI and TARGET_B is not significant.\n",
      "\n",
      "\n",
      "Chi-squared test for DMA\n",
      "Chi2 statistic: 217.65581310571304\n",
      "P-value: 0.06816494468039795\n",
      "The association between DMA and TARGET_B is not significant.\n",
      "\n",
      "\n",
      "Chi-squared test for CLUSTER2\n",
      "Chi2 statistic: 104.71746138040425\n",
      "P-value: 0.00042392481674269225\n",
      "The association between CLUSTER2 and TARGET_B is significant.\n",
      "\n",
      "\n",
      "Chi-squared test for GEOCODE2\n",
      "Chi2 statistic: 5.220205687242027\n",
      "P-value: 0.1563647336308486\n",
      "The association between GEOCODE2 and TARGET_B is not significant.\n"
     ]
    },
    {
     "data": {
      "text/plain": "['CLUSTER', 'CLUSTER2']"
     },
     "execution_count": 41,
     "metadata": {},
     "output_type": "execute_result"
    }
   ],
   "source": [
    "def sig_tests(df, feats, target, alpha):\n",
    "    \n",
    "    keep = []\n",
    "    \n",
    "    for feature in feats:\n",
    "        try:\n",
    "            x = df[feature]\n",
    "        except:\n",
    "            continue\n",
    "\n",
    "        contingency_table = pd.crosstab(df[feature], df[target])\n",
    "        \n",
    "        # Chi-squared test\n",
    "        chi2_stat, p_value, _, _ = chi2_contingency(contingency_table)\n",
    "        print(\"Chi-squared test for\", feature)\n",
    "        print(\"Chi2 statistic:\", chi2_stat)\n",
    "        print(\"P-value:\", p_value)\n",
    "        if p_value < alpha:\n",
    "            print(\"The association between\", feature, \"and\", target, \"is significant.\")\n",
    "        else:\n",
    "            print(\"The association between\", feature, \"and\", target, \"is not significant.\")\n",
    "        \n",
    "        fisher_p_value = None\n",
    "        if contingency_table.shape[0] == 2:\n",
    "            # Fisher's exact test\n",
    "            odds_ratio, fisher_p_value = fisher_exact(contingency_table)\n",
    "            print(\"\\nFisher's exact test for\", feature)\n",
    "            print(\"Odds ratio:\", odds_ratio)\n",
    "            print(\"P-value:\", fisher_p_value)\n",
    "            if fisher_p_value < alpha:\n",
    "                print(\"The association between\", feature, \"and\", target, \"is significant.\")\n",
    "            else:\n",
    "                print(\"The association between\", feature, \"and\", target, \"is not significant.\")\n",
    "        print(\"\\n\")\n",
    "        \n",
    "        if fisher_p_value is not None:\n",
    "            if p_value < alpha and fisher_p_value < alpha:\n",
    "                keep.append(feature)\n",
    "        else:\n",
    "            if p_value < alpha:\n",
    "                keep.append(feature)\n",
    "        \n",
    "    return keep\n",
    "  \n",
    "      \n",
    "feats_to_remove = ['RECPGVG', 'RECSWEEP', 'CLUSTER', 'AGEFLAG', 'GEOCODE', 'MSA', 'ADI', 'DMA', 'CLUSTER2', 'GEOCODE2']\n",
    "target='TARGET_B'\n",
    "alpha = 0.05\n",
    "sig_tests(df, feats_to_remove, target, alpha)"
   ],
   "metadata": {
    "collapsed": false,
    "ExecuteTime": {
     "end_time": "2024-05-17T16:06:16.921449Z",
     "start_time": "2024-05-17T16:06:16.870103Z"
    }
   },
   "id": "a26fd269723fbe28",
   "execution_count": 41
  },
  {
   "cell_type": "markdown",
   "source": [
    "Retained features = ['CLUSTER', 'CLUSTER2']"
   ],
   "metadata": {
    "collapsed": false
   },
   "id": "5bc64dce91d89dd4"
  },
  {
   "cell_type": "code",
   "outputs": [],
   "source": [
    "retained_features = ['CLUSTER', 'CLUSTER2']\n",
    "feats_to_remove = list(set(feats_to_remove).difference(retained_features))\n",
    "for feat in feats_to_remove:\n",
    "    try:\n",
    "        x = df[feat]\n",
    "    except:\n",
    "        feats_to_remove.remove(feat)\n",
    "df.drop(columns=feats_to_remove, inplace=True)\n",
    "num_feats = [value for value in num_feats if value not in feats_to_remove]\n",
    "cat_feats = [value for value in cat_feats if value not in feats_to_remove]\n",
    "ordinal_feats = [value for value in ordinal_feats if value not in feats_to_remove]"
   ],
   "metadata": {
    "collapsed": false,
    "ExecuteTime": {
     "end_time": "2024-05-17T16:06:16.955174Z",
     "start_time": "2024-05-17T16:06:16.922457Z"
    }
   },
   "id": "646bb3693e0ed06",
   "execution_count": 42
  },
  {
   "cell_type": "markdown",
   "source": [
    "*Step 2: Feature-Target analysis*\n",
    "Here we test the correlation between features and the target variable, and remove variables that are completely uncorrelated with the target variable."
   ],
   "metadata": {
    "collapsed": false
   },
   "id": "7a7c5b5403b58f1b"
  },
  {
   "cell_type": "markdown",
   "source": [
    "*Mutual Information analysis*"
   ],
   "metadata": {
    "collapsed": false
   },
   "id": "fd5241799c1fcc9d"
  },
  {
   "cell_type": "code",
   "outputs": [],
   "source": [
    "def get_low_mi_features(df, target_column, threshold, num_feats, cat_feats):\n",
    "\n",
    "    df_num = df[num_feats]\n",
    "    df_cat = df[cat_feats]\n",
    "    df_num_imputed = df_num.fillna(df_num.median())\n",
    "    df_cat_imputed = df_cat.apply(lambda x: x.fillna(x.mode()[0]))\n",
    "    df_temp = pd.concat([df_num_imputed, df_cat_imputed, df[target_column]], axis=1)\n",
    "\n",
    "    for feature in cat_feats:\n",
    "        if df_temp[feature].dtype == 'object':\n",
    "            le = LabelEncoder()\n",
    "            df_temp[feature] = le.fit_transform(df_temp[feature])\n",
    "\n",
    "    low_mi = []\n",
    "    \n",
    "    y = df[target_column].values.ravel()\n",
    "    \n",
    "    # For numerical features, compute mutual information\n",
    "    for feature in (num_feats+cat_feats):\n",
    "        mi = mutual_info_classif(df_temp[[feature]], y)\n",
    "        if max(mi) < threshold:\n",
    "            low_mi.append(feature)\n",
    "\n",
    "    return low_mi"
   ],
   "metadata": {
    "collapsed": false,
    "ExecuteTime": {
     "end_time": "2024-05-17T16:06:16.962790Z",
     "start_time": "2024-05-17T16:06:16.957278Z"
    }
   },
   "id": "d42f074280764b5e",
   "execution_count": 43
  },
  {
   "cell_type": "code",
   "outputs": [
    {
     "data": {
      "text/plain": "397"
     },
     "execution_count": 44,
     "metadata": {},
     "output_type": "execute_result"
    }
   ],
   "source": [
    "low_mi = get_low_mi_features(df, 'TARGET_B', 0.1, num_feats, cat_feats)\n",
    "len(low_mi)"
   ],
   "metadata": {
    "collapsed": false,
    "ExecuteTime": {
     "end_time": "2024-05-17T16:06:28.664273Z",
     "start_time": "2024-05-17T16:06:16.964404Z"
    }
   },
   "id": "cabef3924da5858e",
   "execution_count": 44
  },
  {
   "cell_type": "markdown",
   "source": [
    "*Correlation*\n",
    "(only numerical features)"
   ],
   "metadata": {
    "collapsed": false
   },
   "id": "b9a0b31116dbe030"
  },
  {
   "cell_type": "code",
   "outputs": [
    {
     "name": "stderr",
     "output_type": "stream",
     "text": [
      "C:\\Users\\darry\\Documents\\MDS\\Y1_S2\\Machine_Learning\\mlproject\\.venv\\Lib\\site-packages\\scipy\\stats\\_stats_py.py:5445: ConstantInputWarning: An input array is constant; the correlation coefficient is not defined.\n",
      "  warnings.warn(stats.ConstantInputWarning(warn_msg))\n"
     ]
    },
    {
     "data": {
      "text/plain": "355"
     },
     "execution_count": 45,
     "metadata": {},
     "output_type": "execute_result"
    }
   ],
   "source": [
    "def get_low_corr_features(df, target_column, threshold, num_feats, ordinal_feats):\n",
    "\n",
    "    df_num = df[num_feats]\n",
    "    df_cat = df[cat_feats]\n",
    "    df_num_imputed = df_num.fillna(df_num.median())\n",
    "    df_cat_imputed = df_cat.apply(lambda x: x.fillna(x.mode()[0]))\n",
    "    df_temp = pd.concat([df_num_imputed, df_cat_imputed, df[target_column]], axis=1)\n",
    "\n",
    "    low_corr = []\n",
    "    \n",
    "    for feature in num_feats+ordinal_feats:\n",
    "        corr, p_value = spearmanr(df_temp[feature], df_temp[target_column])\n",
    "        if abs(corr) < threshold:\n",
    "            low_corr.append(feature)\n",
    "\n",
    "    return low_corr\n",
    "\n",
    "low_corr = get_low_corr_features(df, 'TARGET_B', 0.1, num_feats, ordinal_feats)\n",
    "len(low_corr)"
   ],
   "metadata": {
    "collapsed": false,
    "ExecuteTime": {
     "end_time": "2024-05-17T16:06:29.365759Z",
     "start_time": "2024-05-17T16:06:28.665334Z"
    }
   },
   "id": "87915318a4edeaa4",
   "execution_count": 45
  },
  {
   "cell_type": "markdown",
   "source": [
    "*PCA Feature Selection*\n",
    "Numerical features"
   ],
   "metadata": {
    "collapsed": false
   },
   "id": "4e37c828eca7b82d"
  },
  {
   "cell_type": "code",
   "outputs": [],
   "source": [
    "def perform_pca(data, numerical_vars, n_components=10):\n",
    "    # Numerical variable preprocessing: Standardization\n",
    "    scaler = StandardScaler()\n",
    "    scaled_numerical_data = scaler.fit_transform(data[numerical_vars])\n",
    "\n",
    "    # Perform PCA for numerical variables\n",
    "    pca = PCA(n_components=n_components)\n",
    "    pca_result = pca.fit_transform(scaled_numerical_data)\n",
    "\n",
    "    # Create DataFrame to store PCA results\n",
    "    pca_df = pd.DataFrame(pca_result, columns=[f'PC{i}' for i in range(1, n_components+1)], index=df[num_feats].index)\n",
    "\n",
    "    # Get explained variance ratio\n",
    "    explained_variance_ratio = pca.explained_variance_ratio_\n",
    "\n",
    "    return pca_df, explained_variance_ratio"
   ],
   "metadata": {
    "collapsed": false,
    "ExecuteTime": {
     "end_time": "2024-05-17T16:06:29.374664Z",
     "start_time": "2024-05-17T16:06:29.366792Z"
    }
   },
   "id": "9d23943580f28251",
   "execution_count": 46
  },
  {
   "cell_type": "code",
   "outputs": [
    {
     "data": {
      "text/plain": "             PC1        PC2       PC3       PC4       PC5       PC6       PC7  \\\n20     -5.922842   1.022419 -0.036794  0.159332 -1.980363 -3.050329  1.678211   \n30    -13.856011  -4.163775  3.631028  1.865776 -2.329188  0.757284 -1.300080   \n45     -6.752256   2.721546 -5.195089  2.002181 -1.468373 -2.251479  2.394843   \n78     -9.322682  10.819188 -2.757573  1.759748  3.126652 -0.364349  2.125729   \n93     -3.002261  -6.128770  6.126433 -2.407620  6.058019 -2.522949 -3.313390   \n...          ...        ...       ...       ...       ...       ...       ...   \n16643  -3.180972   7.933813  8.059284  0.177890 -5.180696  5.883586  3.316556   \n14954   0.060770  12.194021  7.414852  1.070960  0.790588 -2.781871 -1.755778   \n89609   1.697693   2.904372 -3.367311 -1.474039 -1.469100 -2.389046  0.117179   \n51033 -10.903639   1.099832  2.264262  0.012856  8.177562  3.319672 -0.103205   \n38983 -15.993032   0.231972  0.781240  3.883012  2.709349  1.019945 -3.039682   \n\n            PC8       PC9      PC10  ...      PC91      PC92      PC93  \\\n20    -2.003169  1.223115 -0.754103  ...  0.300563  0.836180 -1.075284   \n30    -1.617990  1.020627 -2.175827  ... -1.373018 -0.534375  1.427067   \n45    -0.481035  1.585563 -1.779771  ... -0.186522  1.181914  0.376001   \n78     4.606894  0.518054 -1.573970  ...  0.889376 -0.968675  0.019127   \n93    -4.761455  3.739383 -5.963887  ... -0.787302  0.341326 -0.427313   \n...         ...       ...       ...  ...       ...       ...       ...   \n16643 -0.674838 -1.802726 -0.825500  ...  0.011247 -0.774469 -0.176811   \n14954  7.391692  2.143545  2.118790  ... -0.807413  0.445819  1.060798   \n89609 -0.919052 -1.227924  0.680660  ... -0.689515 -1.427347  0.396265   \n51033 -1.449756  1.749751  3.395480  ... -0.106572 -1.528317  1.404269   \n38983  2.599142  0.954831 -2.384771  ... -1.168188  0.022565  0.014403   \n\n           PC94      PC95      PC96      PC97      PC98      PC99     PC100  \n20    -0.543221  0.785543 -1.429821 -0.690517 -0.400406  0.437477 -0.183426  \n30    -0.039281 -1.004755 -0.325445 -0.595635  0.142939  0.513864  0.487036  \n45    -0.186156  0.835236  0.309851  0.849636 -0.031070  2.237815 -0.262575  \n78    -0.162733 -0.442054  0.502426 -0.486064  0.183842  0.459358  0.588359  \n93    -0.267422 -0.283365 -0.803243  0.598630  0.424904  0.997627 -0.080445  \n...         ...       ...       ...       ...       ...       ...       ...  \n16643 -0.364127  0.852660  0.315323 -0.174332 -0.588334 -0.650237 -1.118293  \n14954  0.065747  0.517097 -0.061526 -0.476994 -0.066442 -0.040459  0.092263  \n89609 -0.745791 -0.486365  0.464654 -0.420241 -1.260635 -0.584966  0.549421  \n51033 -0.679314 -2.186910  0.692113  1.226955 -0.096766  0.755463 -1.461110  \n38983 -1.706762 -1.247123 -0.200159 -0.014604 -0.209263  1.527329 -0.312429  \n\n[9686 rows x 100 columns]",
      "text/html": "<div>\n<style scoped>\n    .dataframe tbody tr th:only-of-type {\n        vertical-align: middle;\n    }\n\n    .dataframe tbody tr th {\n        vertical-align: top;\n    }\n\n    .dataframe thead th {\n        text-align: right;\n    }\n</style>\n<table border=\"1\" class=\"dataframe\">\n  <thead>\n    <tr style=\"text-align: right;\">\n      <th></th>\n      <th>PC1</th>\n      <th>PC2</th>\n      <th>PC3</th>\n      <th>PC4</th>\n      <th>PC5</th>\n      <th>PC6</th>\n      <th>PC7</th>\n      <th>PC8</th>\n      <th>PC9</th>\n      <th>PC10</th>\n      <th>...</th>\n      <th>PC91</th>\n      <th>PC92</th>\n      <th>PC93</th>\n      <th>PC94</th>\n      <th>PC95</th>\n      <th>PC96</th>\n      <th>PC97</th>\n      <th>PC98</th>\n      <th>PC99</th>\n      <th>PC100</th>\n    </tr>\n  </thead>\n  <tbody>\n    <tr>\n      <th>20</th>\n      <td>-5.922842</td>\n      <td>1.022419</td>\n      <td>-0.036794</td>\n      <td>0.159332</td>\n      <td>-1.980363</td>\n      <td>-3.050329</td>\n      <td>1.678211</td>\n      <td>-2.003169</td>\n      <td>1.223115</td>\n      <td>-0.754103</td>\n      <td>...</td>\n      <td>0.300563</td>\n      <td>0.836180</td>\n      <td>-1.075284</td>\n      <td>-0.543221</td>\n      <td>0.785543</td>\n      <td>-1.429821</td>\n      <td>-0.690517</td>\n      <td>-0.400406</td>\n      <td>0.437477</td>\n      <td>-0.183426</td>\n    </tr>\n    <tr>\n      <th>30</th>\n      <td>-13.856011</td>\n      <td>-4.163775</td>\n      <td>3.631028</td>\n      <td>1.865776</td>\n      <td>-2.329188</td>\n      <td>0.757284</td>\n      <td>-1.300080</td>\n      <td>-1.617990</td>\n      <td>1.020627</td>\n      <td>-2.175827</td>\n      <td>...</td>\n      <td>-1.373018</td>\n      <td>-0.534375</td>\n      <td>1.427067</td>\n      <td>-0.039281</td>\n      <td>-1.004755</td>\n      <td>-0.325445</td>\n      <td>-0.595635</td>\n      <td>0.142939</td>\n      <td>0.513864</td>\n      <td>0.487036</td>\n    </tr>\n    <tr>\n      <th>45</th>\n      <td>-6.752256</td>\n      <td>2.721546</td>\n      <td>-5.195089</td>\n      <td>2.002181</td>\n      <td>-1.468373</td>\n      <td>-2.251479</td>\n      <td>2.394843</td>\n      <td>-0.481035</td>\n      <td>1.585563</td>\n      <td>-1.779771</td>\n      <td>...</td>\n      <td>-0.186522</td>\n      <td>1.181914</td>\n      <td>0.376001</td>\n      <td>-0.186156</td>\n      <td>0.835236</td>\n      <td>0.309851</td>\n      <td>0.849636</td>\n      <td>-0.031070</td>\n      <td>2.237815</td>\n      <td>-0.262575</td>\n    </tr>\n    <tr>\n      <th>78</th>\n      <td>-9.322682</td>\n      <td>10.819188</td>\n      <td>-2.757573</td>\n      <td>1.759748</td>\n      <td>3.126652</td>\n      <td>-0.364349</td>\n      <td>2.125729</td>\n      <td>4.606894</td>\n      <td>0.518054</td>\n      <td>-1.573970</td>\n      <td>...</td>\n      <td>0.889376</td>\n      <td>-0.968675</td>\n      <td>0.019127</td>\n      <td>-0.162733</td>\n      <td>-0.442054</td>\n      <td>0.502426</td>\n      <td>-0.486064</td>\n      <td>0.183842</td>\n      <td>0.459358</td>\n      <td>0.588359</td>\n    </tr>\n    <tr>\n      <th>93</th>\n      <td>-3.002261</td>\n      <td>-6.128770</td>\n      <td>6.126433</td>\n      <td>-2.407620</td>\n      <td>6.058019</td>\n      <td>-2.522949</td>\n      <td>-3.313390</td>\n      <td>-4.761455</td>\n      <td>3.739383</td>\n      <td>-5.963887</td>\n      <td>...</td>\n      <td>-0.787302</td>\n      <td>0.341326</td>\n      <td>-0.427313</td>\n      <td>-0.267422</td>\n      <td>-0.283365</td>\n      <td>-0.803243</td>\n      <td>0.598630</td>\n      <td>0.424904</td>\n      <td>0.997627</td>\n      <td>-0.080445</td>\n    </tr>\n    <tr>\n      <th>...</th>\n      <td>...</td>\n      <td>...</td>\n      <td>...</td>\n      <td>...</td>\n      <td>...</td>\n      <td>...</td>\n      <td>...</td>\n      <td>...</td>\n      <td>...</td>\n      <td>...</td>\n      <td>...</td>\n      <td>...</td>\n      <td>...</td>\n      <td>...</td>\n      <td>...</td>\n      <td>...</td>\n      <td>...</td>\n      <td>...</td>\n      <td>...</td>\n      <td>...</td>\n      <td>...</td>\n    </tr>\n    <tr>\n      <th>16643</th>\n      <td>-3.180972</td>\n      <td>7.933813</td>\n      <td>8.059284</td>\n      <td>0.177890</td>\n      <td>-5.180696</td>\n      <td>5.883586</td>\n      <td>3.316556</td>\n      <td>-0.674838</td>\n      <td>-1.802726</td>\n      <td>-0.825500</td>\n      <td>...</td>\n      <td>0.011247</td>\n      <td>-0.774469</td>\n      <td>-0.176811</td>\n      <td>-0.364127</td>\n      <td>0.852660</td>\n      <td>0.315323</td>\n      <td>-0.174332</td>\n      <td>-0.588334</td>\n      <td>-0.650237</td>\n      <td>-1.118293</td>\n    </tr>\n    <tr>\n      <th>14954</th>\n      <td>0.060770</td>\n      <td>12.194021</td>\n      <td>7.414852</td>\n      <td>1.070960</td>\n      <td>0.790588</td>\n      <td>-2.781871</td>\n      <td>-1.755778</td>\n      <td>7.391692</td>\n      <td>2.143545</td>\n      <td>2.118790</td>\n      <td>...</td>\n      <td>-0.807413</td>\n      <td>0.445819</td>\n      <td>1.060798</td>\n      <td>0.065747</td>\n      <td>0.517097</td>\n      <td>-0.061526</td>\n      <td>-0.476994</td>\n      <td>-0.066442</td>\n      <td>-0.040459</td>\n      <td>0.092263</td>\n    </tr>\n    <tr>\n      <th>89609</th>\n      <td>1.697693</td>\n      <td>2.904372</td>\n      <td>-3.367311</td>\n      <td>-1.474039</td>\n      <td>-1.469100</td>\n      <td>-2.389046</td>\n      <td>0.117179</td>\n      <td>-0.919052</td>\n      <td>-1.227924</td>\n      <td>0.680660</td>\n      <td>...</td>\n      <td>-0.689515</td>\n      <td>-1.427347</td>\n      <td>0.396265</td>\n      <td>-0.745791</td>\n      <td>-0.486365</td>\n      <td>0.464654</td>\n      <td>-0.420241</td>\n      <td>-1.260635</td>\n      <td>-0.584966</td>\n      <td>0.549421</td>\n    </tr>\n    <tr>\n      <th>51033</th>\n      <td>-10.903639</td>\n      <td>1.099832</td>\n      <td>2.264262</td>\n      <td>0.012856</td>\n      <td>8.177562</td>\n      <td>3.319672</td>\n      <td>-0.103205</td>\n      <td>-1.449756</td>\n      <td>1.749751</td>\n      <td>3.395480</td>\n      <td>...</td>\n      <td>-0.106572</td>\n      <td>-1.528317</td>\n      <td>1.404269</td>\n      <td>-0.679314</td>\n      <td>-2.186910</td>\n      <td>0.692113</td>\n      <td>1.226955</td>\n      <td>-0.096766</td>\n      <td>0.755463</td>\n      <td>-1.461110</td>\n    </tr>\n    <tr>\n      <th>38983</th>\n      <td>-15.993032</td>\n      <td>0.231972</td>\n      <td>0.781240</td>\n      <td>3.883012</td>\n      <td>2.709349</td>\n      <td>1.019945</td>\n      <td>-3.039682</td>\n      <td>2.599142</td>\n      <td>0.954831</td>\n      <td>-2.384771</td>\n      <td>...</td>\n      <td>-1.168188</td>\n      <td>0.022565</td>\n      <td>0.014403</td>\n      <td>-1.706762</td>\n      <td>-1.247123</td>\n      <td>-0.200159</td>\n      <td>-0.014604</td>\n      <td>-0.209263</td>\n      <td>1.527329</td>\n      <td>-0.312429</td>\n    </tr>\n  </tbody>\n</table>\n<p>9686 rows × 100 columns</p>\n</div>"
     },
     "execution_count": 47,
     "metadata": {},
     "output_type": "execute_result"
    }
   ],
   "source": [
    "pca_df, explained_var_pca = perform_pca(df, num_feats, n_components=100)\n",
    "pca_df.head()"
   ],
   "metadata": {
    "collapsed": false,
    "ExecuteTime": {
     "end_time": "2024-05-17T16:06:30.338410Z",
     "start_time": "2024-05-17T16:06:29.375685Z"
    }
   },
   "id": "f0ecbe125a19b4aa",
   "execution_count": 47
  },
  {
   "cell_type": "code",
   "outputs": [
    {
     "data": {
      "text/plain": "array([0.1193463 , 0.20898918, 0.28516589, 0.32836109, 0.36563576,\n       0.39377696, 0.41914037, 0.4408976 , 0.46076937, 0.4785683 ,\n       0.49216492, 0.50492217, 0.51705775, 0.52759768, 0.53778181,\n       0.54775395, 0.55743309, 0.56618462, 0.57462173, 0.58269297,\n       0.59065733, 0.5979196 , 0.60457357, 0.61102881, 0.61732413,\n       0.62346376, 0.62933542, 0.63505419, 0.64062781, 0.64600597,\n       0.65111591, 0.65617825, 0.6610306 , 0.66571757, 0.67037463,\n       0.67491083, 0.67933696, 0.68367008, 0.68794487, 0.69212499,\n       0.69623532, 0.70030501, 0.70430425, 0.70824749, 0.71213682,\n       0.71592162, 0.71966992, 0.72334408, 0.72697667, 0.73051842,\n       0.73403579, 0.73748658, 0.74085289, 0.74417957, 0.7474477 ,\n       0.7507074 , 0.7539479 , 0.75714505, 0.76024013, 0.76331573,\n       0.76637238, 0.76940377, 0.77238289, 0.77534878, 0.77828372,\n       0.78118587, 0.78405986, 0.78691794, 0.78974525, 0.79254543,\n       0.79531623, 0.79806721, 0.8007799 , 0.80346632, 0.80612075,\n       0.808747  , 0.81134028, 0.8139237 , 0.81648869, 0.81900555,\n       0.82148844, 0.82394343, 0.82638236, 0.82879935, 0.83116196,\n       0.83347684, 0.83577966, 0.83807183, 0.84033581, 0.84259172,\n       0.84482638, 0.84703174, 0.84921596, 0.85135699, 0.85348237,\n       0.85555686, 0.85762337, 0.85968284, 0.86168831, 0.8636635 ])"
     },
     "execution_count": 48,
     "metadata": {},
     "output_type": "execute_result"
    }
   ],
   "source": [
    "# cumulative explained variance\n",
    "cumulative_explained_var_pca = np.cumsum(explained_var_pca)\n",
    "cumulative_explained_var_pca"
   ],
   "metadata": {
    "collapsed": false,
    "ExecuteTime": {
     "end_time": "2024-05-17T16:06:30.344845Z",
     "start_time": "2024-05-17T16:06:30.338570Z"
    }
   },
   "id": "3049669bdd095b6e",
   "execution_count": 48
  },
  {
   "cell_type": "markdown",
   "source": [
    "*FA Feature Selection*\n",
    "Categorical features"
   ],
   "metadata": {
    "collapsed": false
   },
   "id": "1c99bb288930cc99"
  },
  {
   "cell_type": "code",
   "outputs": [],
   "source": [
    "def perform_mca(data, cat_feats, components=10):\n",
    "    # Perform Factor Analysis for categorical variables\n",
    "    \n",
    "    data[cat_feats] = data[cat_feats].astype(float)\n",
    "    mca = prince.MCA(n_components=components, n_iter=5, copy=True, check_input=True, engine='sklearn', random_state=42)\n",
    "    mca = mca.fit(data[cat_feats])\n",
    "    \n",
    "    # Get the factor loadings and explained variance\n",
    "    mca_df = mca.transform(data[cat_feats])\n",
    "    explained_variance = mca.eigenvalues_summary\n",
    "\n",
    "    return mca_df, explained_variance\n",
    "\n",
    "mca_df, explained_var_mca = perform_mca(df, cat_feats, components=100)"
   ],
   "metadata": {
    "collapsed": false,
    "ExecuteTime": {
     "end_time": "2024-05-17T16:06:40.120289Z",
     "start_time": "2024-05-17T16:06:30.345056Z"
    }
   },
   "id": "3513beef8bd54648",
   "execution_count": 49
  },
  {
   "cell_type": "code",
   "outputs": [
    {
     "data": {
      "text/plain": "             0         1         2         3         4         5         6   \\\n20     1.048690  0.228536  0.168658  0.158912 -0.084861 -0.119968 -0.384367   \n30     0.498788 -0.038535  0.683448 -0.565573  0.197704 -0.132278  0.449813   \n45     1.359003  0.512249  0.121986  0.488828 -0.113664 -0.097242 -0.376598   \n78    -0.306378 -0.280970 -0.042793  0.266826  0.124972 -0.218876 -0.095971   \n93     0.425444 -0.312620 -1.079577 -0.536022 -0.250338  0.223915  0.376358   \n...         ...       ...       ...       ...       ...       ...       ...   \n16643 -0.559317  0.978169 -0.019841 -0.208097 -0.277898 -0.394270  0.152333   \n14954 -0.342855 -0.101170  0.138569  0.349925  0.066995  0.245418  0.103416   \n89609 -0.471029  1.300067 -0.230744 -0.402122  0.815699  0.312745 -0.218936   \n51033 -0.538500  0.863327  0.073544 -0.298869 -0.208652 -0.499740  0.119081   \n38983 -0.320721 -0.131712  0.211447  0.288894 -0.007428  0.078201 -0.057587   \n\n             7         8         9   ...        90        91        92  \\\n20    -0.098970  0.479817 -0.214082  ... -0.287882  0.260797 -0.204004   \n30    -0.374018  0.177333 -0.027086  ...  0.024620  0.142893 -0.095052   \n45     0.043393  0.095280 -0.029880  ... -0.152433  0.344807 -0.266894   \n78    -0.176300 -0.197871  0.033635  ...  0.171198  0.058418  0.082890   \n93     0.001722  0.118414 -0.071507  ...  0.311884 -0.105527  0.300786   \n...         ...       ...       ...  ...       ...       ...       ...   \n16643 -0.046885  0.032781  0.050759  ... -0.056579 -0.063399  0.128023   \n14954  0.023755  0.033109 -0.068791  ...  0.099102 -0.015682  0.129949   \n89609  0.022305  0.229531  0.270705  ...  0.504559 -0.088524  0.231609   \n51033  0.236066 -0.419676 -0.388627  ...  0.024693 -0.089511 -0.008142   \n38983  0.666580  0.347949 -0.015120  ...  0.011115  0.194598  0.072073   \n\n             93        94        95        96        97        98        99  \n20    -0.381016  0.267600 -0.015936 -0.070506 -0.007641  0.071552  0.448481  \n30    -0.015910  0.251881 -0.161233  0.051502 -0.345089 -0.219190 -0.119295  \n45     0.206027  0.112871 -0.032110 -0.042093 -0.187756 -0.228909  0.163319  \n78     0.089715  0.017284  0.007705 -0.038881 -0.057696 -0.179529  0.155656  \n93     0.185191 -0.008182 -0.090964 -0.167153 -0.205256  0.003702 -0.103113  \n...         ...       ...       ...       ...       ...       ...       ...  \n16643 -0.078324  0.129803  0.049378 -0.004302 -0.043959  0.107877 -0.018581  \n14954 -0.042534 -0.131671  0.120141 -0.054222  0.100414  0.056941  0.118492  \n89609  0.076671  0.009458 -0.039447  0.144756 -0.111505  0.139980  0.343214  \n51033  0.161183 -0.114418 -0.050632  0.020158  0.218683 -0.156158  0.147069  \n38983 -0.193533 -0.116966  0.014926  0.024729  0.176818  0.088774  0.305429  \n\n[9686 rows x 100 columns]",
      "text/html": "<div>\n<style scoped>\n    .dataframe tbody tr th:only-of-type {\n        vertical-align: middle;\n    }\n\n    .dataframe tbody tr th {\n        vertical-align: top;\n    }\n\n    .dataframe thead th {\n        text-align: right;\n    }\n</style>\n<table border=\"1\" class=\"dataframe\">\n  <thead>\n    <tr style=\"text-align: right;\">\n      <th></th>\n      <th>0</th>\n      <th>1</th>\n      <th>2</th>\n      <th>3</th>\n      <th>4</th>\n      <th>5</th>\n      <th>6</th>\n      <th>7</th>\n      <th>8</th>\n      <th>9</th>\n      <th>...</th>\n      <th>90</th>\n      <th>91</th>\n      <th>92</th>\n      <th>93</th>\n      <th>94</th>\n      <th>95</th>\n      <th>96</th>\n      <th>97</th>\n      <th>98</th>\n      <th>99</th>\n    </tr>\n  </thead>\n  <tbody>\n    <tr>\n      <th>20</th>\n      <td>1.048690</td>\n      <td>0.228536</td>\n      <td>0.168658</td>\n      <td>0.158912</td>\n      <td>-0.084861</td>\n      <td>-0.119968</td>\n      <td>-0.384367</td>\n      <td>-0.098970</td>\n      <td>0.479817</td>\n      <td>-0.214082</td>\n      <td>...</td>\n      <td>-0.287882</td>\n      <td>0.260797</td>\n      <td>-0.204004</td>\n      <td>-0.381016</td>\n      <td>0.267600</td>\n      <td>-0.015936</td>\n      <td>-0.070506</td>\n      <td>-0.007641</td>\n      <td>0.071552</td>\n      <td>0.448481</td>\n    </tr>\n    <tr>\n      <th>30</th>\n      <td>0.498788</td>\n      <td>-0.038535</td>\n      <td>0.683448</td>\n      <td>-0.565573</td>\n      <td>0.197704</td>\n      <td>-0.132278</td>\n      <td>0.449813</td>\n      <td>-0.374018</td>\n      <td>0.177333</td>\n      <td>-0.027086</td>\n      <td>...</td>\n      <td>0.024620</td>\n      <td>0.142893</td>\n      <td>-0.095052</td>\n      <td>-0.015910</td>\n      <td>0.251881</td>\n      <td>-0.161233</td>\n      <td>0.051502</td>\n      <td>-0.345089</td>\n      <td>-0.219190</td>\n      <td>-0.119295</td>\n    </tr>\n    <tr>\n      <th>45</th>\n      <td>1.359003</td>\n      <td>0.512249</td>\n      <td>0.121986</td>\n      <td>0.488828</td>\n      <td>-0.113664</td>\n      <td>-0.097242</td>\n      <td>-0.376598</td>\n      <td>0.043393</td>\n      <td>0.095280</td>\n      <td>-0.029880</td>\n      <td>...</td>\n      <td>-0.152433</td>\n      <td>0.344807</td>\n      <td>-0.266894</td>\n      <td>0.206027</td>\n      <td>0.112871</td>\n      <td>-0.032110</td>\n      <td>-0.042093</td>\n      <td>-0.187756</td>\n      <td>-0.228909</td>\n      <td>0.163319</td>\n    </tr>\n    <tr>\n      <th>78</th>\n      <td>-0.306378</td>\n      <td>-0.280970</td>\n      <td>-0.042793</td>\n      <td>0.266826</td>\n      <td>0.124972</td>\n      <td>-0.218876</td>\n      <td>-0.095971</td>\n      <td>-0.176300</td>\n      <td>-0.197871</td>\n      <td>0.033635</td>\n      <td>...</td>\n      <td>0.171198</td>\n      <td>0.058418</td>\n      <td>0.082890</td>\n      <td>0.089715</td>\n      <td>0.017284</td>\n      <td>0.007705</td>\n      <td>-0.038881</td>\n      <td>-0.057696</td>\n      <td>-0.179529</td>\n      <td>0.155656</td>\n    </tr>\n    <tr>\n      <th>93</th>\n      <td>0.425444</td>\n      <td>-0.312620</td>\n      <td>-1.079577</td>\n      <td>-0.536022</td>\n      <td>-0.250338</td>\n      <td>0.223915</td>\n      <td>0.376358</td>\n      <td>0.001722</td>\n      <td>0.118414</td>\n      <td>-0.071507</td>\n      <td>...</td>\n      <td>0.311884</td>\n      <td>-0.105527</td>\n      <td>0.300786</td>\n      <td>0.185191</td>\n      <td>-0.008182</td>\n      <td>-0.090964</td>\n      <td>-0.167153</td>\n      <td>-0.205256</td>\n      <td>0.003702</td>\n      <td>-0.103113</td>\n    </tr>\n    <tr>\n      <th>...</th>\n      <td>...</td>\n      <td>...</td>\n      <td>...</td>\n      <td>...</td>\n      <td>...</td>\n      <td>...</td>\n      <td>...</td>\n      <td>...</td>\n      <td>...</td>\n      <td>...</td>\n      <td>...</td>\n      <td>...</td>\n      <td>...</td>\n      <td>...</td>\n      <td>...</td>\n      <td>...</td>\n      <td>...</td>\n      <td>...</td>\n      <td>...</td>\n      <td>...</td>\n      <td>...</td>\n    </tr>\n    <tr>\n      <th>16643</th>\n      <td>-0.559317</td>\n      <td>0.978169</td>\n      <td>-0.019841</td>\n      <td>-0.208097</td>\n      <td>-0.277898</td>\n      <td>-0.394270</td>\n      <td>0.152333</td>\n      <td>-0.046885</td>\n      <td>0.032781</td>\n      <td>0.050759</td>\n      <td>...</td>\n      <td>-0.056579</td>\n      <td>-0.063399</td>\n      <td>0.128023</td>\n      <td>-0.078324</td>\n      <td>0.129803</td>\n      <td>0.049378</td>\n      <td>-0.004302</td>\n      <td>-0.043959</td>\n      <td>0.107877</td>\n      <td>-0.018581</td>\n    </tr>\n    <tr>\n      <th>14954</th>\n      <td>-0.342855</td>\n      <td>-0.101170</td>\n      <td>0.138569</td>\n      <td>0.349925</td>\n      <td>0.066995</td>\n      <td>0.245418</td>\n      <td>0.103416</td>\n      <td>0.023755</td>\n      <td>0.033109</td>\n      <td>-0.068791</td>\n      <td>...</td>\n      <td>0.099102</td>\n      <td>-0.015682</td>\n      <td>0.129949</td>\n      <td>-0.042534</td>\n      <td>-0.131671</td>\n      <td>0.120141</td>\n      <td>-0.054222</td>\n      <td>0.100414</td>\n      <td>0.056941</td>\n      <td>0.118492</td>\n    </tr>\n    <tr>\n      <th>89609</th>\n      <td>-0.471029</td>\n      <td>1.300067</td>\n      <td>-0.230744</td>\n      <td>-0.402122</td>\n      <td>0.815699</td>\n      <td>0.312745</td>\n      <td>-0.218936</td>\n      <td>0.022305</td>\n      <td>0.229531</td>\n      <td>0.270705</td>\n      <td>...</td>\n      <td>0.504559</td>\n      <td>-0.088524</td>\n      <td>0.231609</td>\n      <td>0.076671</td>\n      <td>0.009458</td>\n      <td>-0.039447</td>\n      <td>0.144756</td>\n      <td>-0.111505</td>\n      <td>0.139980</td>\n      <td>0.343214</td>\n    </tr>\n    <tr>\n      <th>51033</th>\n      <td>-0.538500</td>\n      <td>0.863327</td>\n      <td>0.073544</td>\n      <td>-0.298869</td>\n      <td>-0.208652</td>\n      <td>-0.499740</td>\n      <td>0.119081</td>\n      <td>0.236066</td>\n      <td>-0.419676</td>\n      <td>-0.388627</td>\n      <td>...</td>\n      <td>0.024693</td>\n      <td>-0.089511</td>\n      <td>-0.008142</td>\n      <td>0.161183</td>\n      <td>-0.114418</td>\n      <td>-0.050632</td>\n      <td>0.020158</td>\n      <td>0.218683</td>\n      <td>-0.156158</td>\n      <td>0.147069</td>\n    </tr>\n    <tr>\n      <th>38983</th>\n      <td>-0.320721</td>\n      <td>-0.131712</td>\n      <td>0.211447</td>\n      <td>0.288894</td>\n      <td>-0.007428</td>\n      <td>0.078201</td>\n      <td>-0.057587</td>\n      <td>0.666580</td>\n      <td>0.347949</td>\n      <td>-0.015120</td>\n      <td>...</td>\n      <td>0.011115</td>\n      <td>0.194598</td>\n      <td>0.072073</td>\n      <td>-0.193533</td>\n      <td>-0.116966</td>\n      <td>0.014926</td>\n      <td>0.024729</td>\n      <td>0.176818</td>\n      <td>0.088774</td>\n      <td>0.305429</td>\n    </tr>\n  </tbody>\n</table>\n<p>9686 rows × 100 columns</p>\n</div>"
     },
     "execution_count": 50,
     "metadata": {},
     "output_type": "execute_result"
    }
   ],
   "source": [
    "mca_df.head()"
   ],
   "metadata": {
    "collapsed": false,
    "ExecuteTime": {
     "end_time": "2024-05-17T16:06:40.139408Z",
     "start_time": "2024-05-17T16:06:40.121547Z"
    }
   },
   "id": "715c696d878db3b8",
   "execution_count": 50
  },
  {
   "cell_type": "code",
   "outputs": [
    {
     "data": {
      "text/plain": "          eigenvalue % of variance % of variance (cumulative)\ncomponent                                                    \n0              0.259         0.18%                      0.18%\n1              0.213         0.15%                      0.33%\n2              0.191         0.13%                      0.46%\n3              0.184         0.13%                      0.59%\n4              0.163         0.11%                      0.71%\n...              ...           ...                        ...\n95             0.063         0.04%                      6.25%\n96             0.063         0.04%                      6.30%\n97             0.063         0.04%                      6.34%\n98             0.063         0.04%                      6.39%\n99             0.062         0.04%                      6.43%\n\n[100 rows x 3 columns]",
      "text/html": "<div>\n<style scoped>\n    .dataframe tbody tr th:only-of-type {\n        vertical-align: middle;\n    }\n\n    .dataframe tbody tr th {\n        vertical-align: top;\n    }\n\n    .dataframe thead th {\n        text-align: right;\n    }\n</style>\n<table border=\"1\" class=\"dataframe\">\n  <thead>\n    <tr style=\"text-align: right;\">\n      <th></th>\n      <th>eigenvalue</th>\n      <th>% of variance</th>\n      <th>% of variance (cumulative)</th>\n    </tr>\n    <tr>\n      <th>component</th>\n      <th></th>\n      <th></th>\n      <th></th>\n    </tr>\n  </thead>\n  <tbody>\n    <tr>\n      <th>0</th>\n      <td>0.259</td>\n      <td>0.18%</td>\n      <td>0.18%</td>\n    </tr>\n    <tr>\n      <th>1</th>\n      <td>0.213</td>\n      <td>0.15%</td>\n      <td>0.33%</td>\n    </tr>\n    <tr>\n      <th>2</th>\n      <td>0.191</td>\n      <td>0.13%</td>\n      <td>0.46%</td>\n    </tr>\n    <tr>\n      <th>3</th>\n      <td>0.184</td>\n      <td>0.13%</td>\n      <td>0.59%</td>\n    </tr>\n    <tr>\n      <th>4</th>\n      <td>0.163</td>\n      <td>0.11%</td>\n      <td>0.71%</td>\n    </tr>\n    <tr>\n      <th>...</th>\n      <td>...</td>\n      <td>...</td>\n      <td>...</td>\n    </tr>\n    <tr>\n      <th>95</th>\n      <td>0.063</td>\n      <td>0.04%</td>\n      <td>6.25%</td>\n    </tr>\n    <tr>\n      <th>96</th>\n      <td>0.063</td>\n      <td>0.04%</td>\n      <td>6.30%</td>\n    </tr>\n    <tr>\n      <th>97</th>\n      <td>0.063</td>\n      <td>0.04%</td>\n      <td>6.34%</td>\n    </tr>\n    <tr>\n      <th>98</th>\n      <td>0.063</td>\n      <td>0.04%</td>\n      <td>6.39%</td>\n    </tr>\n    <tr>\n      <th>99</th>\n      <td>0.062</td>\n      <td>0.04%</td>\n      <td>6.43%</td>\n    </tr>\n  </tbody>\n</table>\n<p>100 rows × 3 columns</p>\n</div>"
     },
     "execution_count": 51,
     "metadata": {},
     "output_type": "execute_result"
    }
   ],
   "source": [
    "# cumulative explained variance\n",
    "explained_var_mca"
   ],
   "metadata": {
    "collapsed": false,
    "ExecuteTime": {
     "end_time": "2024-05-17T16:06:40.162260Z",
     "start_time": "2024-05-17T16:06:40.140508Z"
    }
   },
   "id": "a57518b37cdc5ef9",
   "execution_count": 51
  },
  {
   "cell_type": "markdown",
   "source": [
    "*Significance test feature selection*\n",
    "Categorical features."
   ],
   "metadata": {
    "collapsed": false
   },
   "id": "8ad5c095de297003"
  },
  {
   "cell_type": "code",
   "outputs": [
    {
     "name": "stdout",
     "output_type": "stream",
     "text": [
      "Chi-squared test for OSOURCE\n",
      "Chi2 statistic: 584.4030782781556\n",
      "P-value: 0.008217943329440631\n",
      "The association between OSOURCE and TARGET_B is significant.\n",
      "\n",
      "\n",
      "Chi-squared test for TCODE\n",
      "Chi2 statistic: 49.46793206420607\n",
      "P-value: 0.014076518271343106\n",
      "The association between TCODE and TARGET_B is significant.\n",
      "\n",
      "\n",
      "Chi-squared test for STATE\n",
      "Chi2 statistic: 79.28310697304653\n",
      "P-value: 0.00398074295887081\n",
      "The association between STATE and TARGET_B is significant.\n",
      "\n",
      "\n",
      "Chi-squared test for ZIP\n",
      "Chi2 statistic: 5955.88253968254\n",
      "P-value: 0.15261320591878813\n",
      "The association between ZIP and TARGET_B is not significant.\n",
      "\n",
      "\n",
      "Chi-squared test for MAILCODE\n",
      "Chi2 statistic: 4.525386238261983\n",
      "P-value: 0.03339553659169869\n",
      "The association between MAILCODE and TARGET_B is significant.\n",
      "\n",
      "Fisher's exact test for MAILCODE\n",
      "Odds ratio: 0.6718007519510337\n",
      "P-value: 0.0330017582973016\n",
      "The association between MAILCODE and TARGET_B is significant.\n",
      "\n",
      "\n",
      "Chi-squared test for RECINHSE\n",
      "Chi2 statistic: 20.75494473650318\n",
      "P-value: 5.219662802919128e-06\n",
      "The association between RECINHSE and TARGET_B is significant.\n",
      "\n",
      "Fisher's exact test for RECINHSE\n",
      "Odds ratio: 1.4171233157168697\n",
      "P-value: 5.015350002188142e-06\n",
      "The association between RECINHSE and TARGET_B is significant.\n",
      "\n",
      "\n",
      "Chi-squared test for RECP3\n",
      "Chi2 statistic: 20.46359235463771\n",
      "P-value: 6.077639440293915e-06\n",
      "The association between RECP3 and TARGET_B is significant.\n",
      "\n",
      "Fisher's exact test for RECP3\n",
      "Odds ratio: 1.7480466908586134\n",
      "P-value: 5.415826382667256e-06\n",
      "The association between RECP3 and TARGET_B is significant.\n",
      "\n",
      "\n",
      "Chi-squared test for MDMAUD\n",
      "Chi2 statistic: 3.294475846199984\n",
      "P-value: 0.9145422591836221\n",
      "The association between MDMAUD and TARGET_B is not significant.\n",
      "\n",
      "\n",
      "Chi-squared test for DOMAIN\n",
      "Chi2 statistic: 26.109183805702973\n",
      "P-value: 0.12717533122775085\n",
      "The association between DOMAIN and TARGET_B is not significant.\n",
      "\n",
      "\n",
      "Chi-squared test for CLUSTER\n",
      "Chi2 statistic: 79.23031984447691\n",
      "P-value: 0.01128118954446939\n",
      "The association between CLUSTER and TARGET_B is significant.\n",
      "\n",
      "\n",
      "Chi-squared test for GENDER\n",
      "Chi2 statistic: 0.021004969170607013\n",
      "P-value: 0.8847654200783678\n",
      "The association between GENDER and TARGET_B is not significant.\n",
      "\n",
      "Fisher's exact test for GENDER\n",
      "Odds ratio: 0.9931646947947309\n",
      "P-value: 0.8847665313935635\n",
      "The association between GENDER and TARGET_B is not significant.\n",
      "\n",
      "\n",
      "Chi-squared test for WEALTH1\n",
      "Chi2 statistic: 17.81142443265245\n",
      "P-value: 0.03742546193985344\n",
      "The association between WEALTH1 and TARGET_B is significant.\n",
      "\n",
      "\n",
      "Chi-squared test for DATASRCE\n",
      "Chi2 statistic: 2.780028876856989\n",
      "P-value: 0.24907170840165452\n",
      "The association between DATASRCE and TARGET_B is not significant.\n",
      "\n",
      "\n",
      "Chi-squared test for SOLP3\n",
      "Chi2 statistic: 6.000413907284768\n",
      "P-value: 0.19911736475832578\n",
      "The association between SOLP3 and TARGET_B is not significant.\n",
      "\n",
      "\n",
      "Chi-squared test for SOLIH\n",
      "Chi2 statistic: 17.51087694435569\n",
      "P-value: 0.01438293395768027\n",
      "The association between SOLIH and TARGET_B is significant.\n",
      "\n",
      "\n",
      "Chi-squared test for MAJOR\n",
      "Chi2 statistic: 0.0\n",
      "P-value: 1.0\n",
      "The association between MAJOR and TARGET_B is not significant.\n",
      "\n",
      "Fisher's exact test for MAJOR\n",
      "Odds ratio: 1.0716504911823885\n",
      "P-value: 1.0\n",
      "The association between MAJOR and TARGET_B is not significant.\n",
      "\n",
      "\n",
      "Chi-squared test for WEALTH2\n",
      "Chi2 statistic: 30.65535522928114\n",
      "P-value: 0.0003391394240667435\n",
      "The association between WEALTH2 and TARGET_B is significant.\n",
      "\n",
      "\n",
      "Chi-squared test for COLLECT1\n",
      "Chi2 statistic: 1.1688978463895898\n",
      "P-value: 0.27962781915875723\n",
      "The association between COLLECT1 and TARGET_B is not significant.\n",
      "\n",
      "Fisher's exact test for COLLECT1\n",
      "Odds ratio: 1.102208989533802\n",
      "P-value: 0.2796174071613448\n",
      "The association between COLLECT1 and TARGET_B is not significant.\n",
      "\n",
      "\n",
      "Chi-squared test for VETERANS\n",
      "Chi2 statistic: 4.633147029062783\n",
      "P-value: 0.03135999141028283\n",
      "The association between VETERANS and TARGET_B is significant.\n",
      "\n",
      "Fisher's exact test for VETERANS\n",
      "Odds ratio: 1.1508822278911566\n",
      "P-value: 0.031322930875656456\n",
      "The association between VETERANS and TARGET_B is significant.\n",
      "\n",
      "\n",
      "Chi-squared test for BIBLE\n",
      "Chi2 statistic: 1.0633811725151574\n",
      "P-value: 0.3024452828291054\n",
      "The association between BIBLE and TARGET_B is not significant.\n",
      "\n",
      "Fisher's exact test for BIBLE\n",
      "Odds ratio: 1.0760310681460348\n",
      "P-value: 0.3024431132784048\n",
      "The association between BIBLE and TARGET_B is not significant.\n",
      "\n",
      "\n",
      "Chi-squared test for CATLG\n",
      "Chi2 statistic: 0.1020798333760094\n",
      "P-value: 0.7493478857184073\n",
      "The association between CATLG and TARGET_B is not significant.\n",
      "\n",
      "Fisher's exact test for CATLG\n",
      "Odds ratio: 0.9751091128503381\n",
      "P-value: 0.7493651509977104\n",
      "The association between CATLG and TARGET_B is not significant.\n",
      "\n",
      "\n",
      "Chi-squared test for HOMEE\n",
      "Chi2 statistic: 3.1109956853342773\n",
      "P-value: 0.0777654070848765\n",
      "The association between HOMEE and TARGET_B is not significant.\n",
      "\n",
      "Fisher's exact test for HOMEE\n",
      "Odds ratio: 1.5205255138491107\n",
      "P-value: 0.07714406152758028\n",
      "The association between HOMEE and TARGET_B is not significant.\n",
      "\n",
      "\n",
      "Chi-squared test for PETS\n",
      "Chi2 statistic: 2.80477007820548\n",
      "P-value: 0.09398431737106414\n",
      "The association between PETS and TARGET_B is not significant.\n",
      "\n",
      "Fisher's exact test for PETS\n",
      "Odds ratio: 1.0997618935859177\n",
      "P-value: 0.09396111367124256\n",
      "The association between PETS and TARGET_B is not significant.\n",
      "\n",
      "\n",
      "Chi-squared test for CDPLAY\n",
      "Chi2 statistic: 0.3991107587982294\n",
      "P-value: 0.5275488556719452\n",
      "The association between CDPLAY and TARGET_B is not significant.\n",
      "\n",
      "Fisher's exact test for CDPLAY\n",
      "Odds ratio: 1.040627645376549\n",
      "P-value: 0.5275611915662043\n",
      "The association between CDPLAY and TARGET_B is not significant.\n",
      "\n",
      "\n",
      "Chi-squared test for STEREO\n",
      "Chi2 statistic: 0.3843553954296943\n",
      "P-value: 0.5352814703231803\n",
      "The association between STEREO and TARGET_B is not significant.\n",
      "\n",
      "Fisher's exact test for STEREO\n",
      "Odds ratio: 0.9623746894162084\n",
      "P-value: 0.5352932612945309\n",
      "The association between STEREO and TARGET_B is not significant.\n",
      "\n",
      "\n",
      "Chi-squared test for PCOWNERS\n",
      "Chi2 statistic: 0.1269200347230645\n",
      "P-value: 0.7216470736711715\n",
      "The association between PCOWNERS and TARGET_B is not significant.\n",
      "\n",
      "Fisher's exact test for PCOWNERS\n",
      "Odds ratio: 0.9751390929165494\n",
      "P-value: 0.7216614474245836\n",
      "The association between PCOWNERS and TARGET_B is not significant.\n",
      "\n",
      "Chi-squared test for PHOTO\n",
      "Chi2 statistic: 1.181253275150776\n",
      "P-value: 0.2771010012841201\n",
      "The association between PHOTO and TARGET_B is not significant.\n",
      "\n",
      "Fisher's exact test for PHOTO\n",
      "Odds ratio: 1.1080655310451317\n",
      "P-value: 0.27708854840508423\n",
      "The association between PHOTO and TARGET_B is not significant.\n",
      "\n",
      "\n",
      "Chi-squared test for CRAFTS\n",
      "Chi2 statistic: 5.826410946891773\n",
      "P-value: 0.015787300377139678\n",
      "The association between CRAFTS and TARGET_B is significant.\n",
      "\n",
      "Fisher's exact test for CRAFTS\n",
      "Odds ratio: 1.193474628647433\n",
      "P-value: 0.015745697696923473\n",
      "The association between CRAFTS and TARGET_B is significant.\n",
      "\n",
      "\n",
      "Chi-squared test for FISHER\n",
      "Chi2 statistic: 0.052607590697084976\n",
      "P-value: 0.8185864441745396\n",
      "The association between FISHER and TARGET_B is not significant.\n",
      "\n",
      "Fisher's exact test for FISHER\n",
      "Odds ratio: 0.9797487969109164\n",
      "P-value: 0.818602687703581\n",
      "The association between FISHER and TARGET_B is not significant.\n",
      "\n",
      "\n",
      "Chi-squared test for GARDENIN\n",
      "Chi2 statistic: 3.094947078817737\n",
      "P-value: 0.07853570569562124\n",
      "The association between GARDENIN and TARGET_B is not significant.\n",
      "\n",
      "Fisher's exact test for GARDENIN\n",
      "Odds ratio: 1.1068308823529411\n",
      "P-value: 0.07850987267688649\n",
      "The association between GARDENIN and TARGET_B is not significant.\n",
      "\n",
      "\n",
      "Chi-squared test for BOATS\n",
      "Chi2 statistic: 0.22994596962050828\n",
      "P-value: 0.631563894092801\n",
      "The association between BOATS and TARGET_B is not significant.\n",
      "\n",
      "Fisher's exact test for BOATS\n",
      "Odds ratio: 1.0780106714990436\n",
      "P-value: 0.6316606825249055\n",
      "The association between BOATS and TARGET_B is not significant.\n",
      "\n",
      "\n",
      "Chi-squared test for WALKER\n",
      "Chi2 statistic: 4.020434020773905\n",
      "P-value: 0.04495214397979894\n",
      "The association between WALKER and TARGET_B is significant.\n",
      "\n",
      "Fisher's exact test for WALKER\n",
      "Odds ratio: 1.1362352596993428\n",
      "P-value: 0.04491588915067993\n",
      "The association between WALKER and TARGET_B is significant.\n",
      "\n",
      "\n",
      "Chi-squared test for KIDSTUFF\n",
      "Chi2 statistic: 0.006129138402348891\n",
      "P-value: 0.9375983152628645\n",
      "The association between KIDSTUFF and TARGET_B is not significant.\n",
      "\n",
      "Fisher's exact test for KIDSTUFF\n",
      "Odds ratio: 0.9757803982756724\n",
      "P-value: 0.937628595151948\n",
      "The association between KIDSTUFF and TARGET_B is not significant.\n",
      "\n",
      "\n",
      "Chi-squared test for CARDS\n",
      "Chi2 statistic: 0.0\n",
      "P-value: 1.0\n",
      "The association between CARDS and TARGET_B is not significant.\n",
      "\n",
      "Fisher's exact test for CARDS\n",
      "Odds ratio: 1.0168792694827826\n",
      "P-value: 1.0\n",
      "The association between CARDS and TARGET_B is not significant.\n",
      "\n",
      "\n",
      "Chi-squared test for PLATES\n",
      "Chi2 statistic: 0.39322321242984826\n",
      "P-value: 0.5306099918063214\n",
      "The association between PLATES and TARGET_B is not significant.\n",
      "\n",
      "Fisher's exact test for PLATES\n",
      "Odds ratio: 1.2084026622296173\n",
      "P-value: 0.5309426684996061\n",
      "The association between PLATES and TARGET_B is not significant.\n",
      "\n",
      "\n",
      "Chi-squared test for PEPSTRFL\n",
      "Chi2 statistic: 147.86761089757363\n",
      "P-value: 5.070733977783077e-34\n",
      "The association between PEPSTRFL and TARGET_B is significant.\n",
      "\n",
      "Fisher's exact test for PEPSTRFL\n",
      "Odds ratio: 0.6072565181189196\n",
      "P-value: 4.181568488124757e-34\n",
      "The association between PEPSTRFL and TARGET_B is significant.\n",
      "\n",
      "\n",
      "Chi-squared test for RFA_2\n",
      "Chi2 statistic: 223.07286404572181\n",
      "P-value: 2.4294755519780962e-42\n",
      "The association between RFA_2 and TARGET_B is significant.\n",
      "\n",
      "\n",
      "Chi-squared test for RFA_3\n",
      "Chi2 statistic: 276.61070289096483\n",
      "P-value: 6.551683798702916e-28\n",
      "The association between RFA_3 and TARGET_B is significant.\n",
      "\n",
      "\n",
      "Chi-squared test for RFA_4\n",
      "Chi2 statistic: 281.66883771566\n",
      "P-value: 8.314635003440745e-28\n",
      "The association between RFA_4 and TARGET_B is significant.\n",
      "\n",
      "\n",
      "Chi-squared test for RFA_5\n",
      "Chi2 statistic: 286.22378455784013\n",
      "P-value: 5.2086082745065344e-11\n",
      "The association between RFA_5 and TARGET_B is significant.\n",
      "\n",
      "\n",
      "Chi-squared test for RFA_6\n",
      "Chi2 statistic: 288.93911489678976\n",
      "P-value: 1.0144751778111247e-20\n",
      "The association between RFA_6 and TARGET_B is significant.\n",
      "\n",
      "\n",
      "Chi-squared test for RFA_7\n",
      "Chi2 statistic: 297.6898212299513\n",
      "P-value: 1.8729383813452817e-14\n",
      "The association between RFA_7 and TARGET_B is significant.\n",
      "\n",
      "\n",
      "Chi-squared test for RFA_8\n",
      "Chi2 statistic: 271.3920449948404\n",
      "P-value: 4.730994286488755e-16\n",
      "The association between RFA_8 and TARGET_B is significant.\n",
      "\n",
      "\n",
      "Chi-squared test for RFA_9\n",
      "Chi2 statistic: 246.61599082370202\n",
      "P-value: 5.970056455736865e-12\n",
      "The association between RFA_9 and TARGET_B is significant.\n",
      "\n",
      "\n",
      "Chi-squared test for RFA_10\n",
      "Chi2 statistic: 269.68453279032354\n",
      "P-value: 7.000522910570588e-06\n",
      "The association between RFA_10 and TARGET_B is significant.\n",
      "\n",
      "\n",
      "Chi-squared test for RFA_11\n",
      "Chi2 statistic: 283.31246314273153\n",
      "P-value: 4.445503807883509e-12\n",
      "The association between RFA_11 and TARGET_B is significant.\n",
      "\n",
      "\n",
      "Chi-squared test for RFA_12\n",
      "Chi2 statistic: 267.5204227714316\n",
      "P-value: 2.1854420336194542e-12\n",
      "The association between RFA_12 and TARGET_B is significant.\n",
      "\n",
      "\n",
      "Chi-squared test for RFA_13\n",
      "Chi2 statistic: 253.22252168595102\n",
      "P-value: 6.728249502825329e-05\n",
      "The association between RFA_13 and TARGET_B is significant.\n",
      "\n",
      "\n",
      "Chi-squared test for RFA_14\n",
      "Chi2 statistic: 262.4509694859657\n",
      "P-value: 2.075371007603225e-06\n",
      "The association between RFA_14 and TARGET_B is significant.\n",
      "\n",
      "\n",
      "Chi-squared test for RFA_16\n",
      "Chi2 statistic: 263.96864930395816\n",
      "P-value: 4.314788174516152e-09\n",
      "The association between RFA_16 and TARGET_B is significant.\n",
      "\n",
      "\n",
      "Chi-squared test for RFA_17\n",
      "Chi2 statistic: 242.10954109197445\n",
      "P-value: 0.0002824768769585097\n",
      "The association between RFA_17 and TARGET_B is significant.\n",
      "\n",
      "\n",
      "Chi-squared test for RFA_18\n",
      "Chi2 statistic: 239.87812319728738\n",
      "P-value: 5.493415394605122e-05\n",
      "The association between RFA_18 and TARGET_B is significant.\n",
      "\n",
      "\n",
      "Chi-squared test for RFA_19\n",
      "Chi2 statistic: 244.9738943056343\n",
      "P-value: 2.019614346548311e-06\n",
      "The association between RFA_19 and TARGET_B is significant.\n",
      "\n",
      "\n",
      "Chi-squared test for RFA_21\n",
      "Chi2 statistic: 261.65067346440594\n",
      "P-value: 3.087809129351734e-06\n",
      "The association between RFA_21 and TARGET_B is significant.\n",
      "\n",
      "\n",
      "Chi-squared test for RFA_22\n",
      "Chi2 statistic: 227.04119834977035\n",
      "P-value: 0.0001173798062203511\n",
      "The association between RFA_22 and TARGET_B is significant.\n",
      "\n",
      "\n",
      "Chi-squared test for RFA_24\n",
      "Chi2 statistic: 249.3520262520069\n",
      "P-value: 0.00022928119214922791\n",
      "The association between RFA_24 and TARGET_B is significant.\n",
      "\n",
      "\n",
      "Chi-squared test for MAXADATE\n",
      "Chi2 statistic: 4.4149377593361\n",
      "P-value: 0.22000430048662625\n",
      "The association between MAXADATE and TARGET_B is not significant.\n",
      "\n",
      "\n",
      "Chi-squared test for HPHONE_D\n",
      "Chi2 statistic: 0.049971944222727056\n",
      "P-value: 0.823112100077569\n",
      "The association between HPHONE_D and TARGET_B is not significant.\n",
      "\n",
      "Fisher's exact test for HPHONE_D\n",
      "Odds ratio: 0.9901371492227125\n",
      "P-value: 0.8231135234379973\n",
      "The association between HPHONE_D and TARGET_B is not significant.\n",
      "\n",
      "\n",
      "Chi-squared test for RFA_2R\n",
      "Chi2 statistic: 0.0\n",
      "P-value: 1.0\n",
      "The association between RFA_2R and TARGET_B is not significant.\n",
      "\n",
      "\n",
      "Chi-squared test for RFA_2F\n",
      "Chi2 statistic: 202.21347708087217\n",
      "P-value: 1.4024212146011902e-43\n",
      "The association between RFA_2F and TARGET_B is significant.\n",
      "\n",
      "\n",
      "Chi-squared test for RFA_2A\n",
      "Chi2 statistic: 184.11490510620644\n",
      "P-value: 1.1396743491896844e-39\n",
      "The association between RFA_2A and TARGET_B is significant.\n",
      "\n",
      "\n",
      "Chi-squared test for MDMAUD_R\n",
      "Chi2 statistic: 0.8858178375419754\n",
      "P-value: 0.926586606717768\n",
      "The association between MDMAUD_R and TARGET_B is not significant.\n",
      "\n",
      "\n",
      "Chi-squared test for MDMAUD_F\n",
      "Chi2 statistic: 1.620424407442663\n",
      "P-value: 0.6547676406473226\n",
      "The association between MDMAUD_F and TARGET_B is not significant.\n",
      "\n",
      "\n",
      "Chi-squared test for MDMAUD_A\n",
      "Chi2 statistic: 2.5001035518276895\n",
      "P-value: 0.47527236949963725\n",
      "The association between MDMAUD_A and TARGET_B is not significant.\n",
      "\n",
      "\n",
      "Chi-squared test for CLUSTER2\n",
      "Chi2 statistic: 104.71746138040425\n",
      "P-value: 0.00042392481674269225\n",
      "The association between CLUSTER2 and TARGET_B is significant.\n"
     ]
    }
   ],
   "source": [
    "alpha = 0.05\n",
    "significant = sig_tests(df, cat_feats, 'TARGET_B', alpha)"
   ],
   "metadata": {
    "collapsed": false,
    "ExecuteTime": {
     "end_time": "2024-05-17T16:52:07.811294Z",
     "start_time": "2024-05-17T16:52:07.157457Z"
    }
   },
   "id": "a8495930037e9f59",
   "execution_count": 61
  },
  {
   "cell_type": "code",
   "outputs": [
    {
     "data": {
      "text/plain": "['OSOURCE',\n 'TCODE',\n 'STATE',\n 'MAILCODE',\n 'RECINHSE',\n 'RECP3',\n 'CLUSTER',\n 'WEALTH1',\n 'SOLIH',\n 'WEALTH2',\n 'VETERANS',\n 'CRAFTS',\n 'WALKER',\n 'PEPSTRFL',\n 'RFA_2',\n 'RFA_3',\n 'RFA_4',\n 'RFA_5',\n 'RFA_6',\n 'RFA_7',\n 'RFA_8',\n 'RFA_9',\n 'RFA_10',\n 'RFA_11',\n 'RFA_12',\n 'RFA_13',\n 'RFA_14',\n 'RFA_16',\n 'RFA_17',\n 'RFA_18',\n 'RFA_19',\n 'RFA_21',\n 'RFA_22',\n 'RFA_24',\n 'RFA_2F',\n 'RFA_2A',\n 'CLUSTER2']"
     },
     "execution_count": 53,
     "metadata": {},
     "output_type": "execute_result"
    }
   ],
   "source": [
    "significant"
   ],
   "metadata": {
    "collapsed": false,
    "ExecuteTime": {
     "end_time": "2024-05-17T16:06:40.655409Z",
     "start_time": "2024-05-17T16:06:40.649451Z"
    }
   },
   "id": "7962813af4036fed",
   "execution_count": 53
  },
  {
   "cell_type": "markdown",
   "source": [
    "Checking some correlations between suspected informative features and the target."
   ],
   "metadata": {
    "collapsed": false
   },
   "id": "5b90f5eb98ae1f27"
  },
  {
   "cell_type": "code",
   "outputs": [
    {
     "name": "stdout",
     "output_type": "stream",
     "text": [
      "Cramer's V: 0.0\n"
     ]
    }
   ],
   "source": [
    "def cramers_v(x, y):\n",
    "    confusion_matrix = pd.crosstab(x, y)\n",
    "    chi2, _, _, _ = chi2_contingency(confusion_matrix)\n",
    "    n = confusion_matrix.sum().sum()\n",
    "    phi2 = chi2 / n\n",
    "    r, k = confusion_matrix.shape\n",
    "    phi2corr = max(0, phi2 - ((k - 1) * (r - 1)) / (n - 1))\n",
    "    rcorr = r - ((r - 1) ** 2) / (n - 1)\n",
    "    kcorr = k - ((k - 1) ** 2) / (n - 1)\n",
    "    return np.sqrt(phi2corr / min((kcorr - 1), (rcorr - 1)))\n",
    "\n",
    "# Calculate Cramer's V for columns A and B\n",
    "cramers_v_score = cramers_v(df['MAJOR'], df['TARGET_B'])\n",
    "\n",
    "print(\"Cramer's V:\", cramers_v_score)"
   ],
   "metadata": {
    "collapsed": false,
    "ExecuteTime": {
     "end_time": "2024-05-17T16:06:40.670873Z",
     "start_time": "2024-05-17T16:06:40.656490Z"
    }
   },
   "id": "e94287a5c225be76",
   "execution_count": 54
  },
  {
   "cell_type": "markdown",
   "source": [
    "### Define the final feature set"
   ],
   "metadata": {
    "collapsed": false
   },
   "id": "2e667bbd8a643bad"
  },
  {
   "cell_type": "code",
   "outputs": [
    {
     "data": {
      "text/plain": "(9686, 37)"
     },
     "execution_count": 55,
     "metadata": {},
     "output_type": "execute_result"
    }
   ],
   "source": [
    "df[significant].shape"
   ],
   "metadata": {
    "collapsed": false,
    "ExecuteTime": {
     "end_time": "2024-05-17T16:06:40.679799Z",
     "start_time": "2024-05-17T16:06:40.670873Z"
    }
   },
   "id": "17f660d0c1c29127",
   "execution_count": 55
  },
  {
   "cell_type": "code",
   "outputs": [
    {
     "data": {
      "text/plain": "(9686, 72)"
     },
     "execution_count": 56,
     "metadata": {},
     "output_type": "execute_result"
    }
   ],
   "source": [
    "pca_df.iloc[:, :72].shape"
   ],
   "metadata": {
    "collapsed": false,
    "ExecuteTime": {
     "end_time": "2024-05-17T16:06:40.685168Z",
     "start_time": "2024-05-17T16:06:40.680904Z"
    }
   },
   "id": "769ac6243cb6de6d",
   "execution_count": 56
  },
  {
   "cell_type": "code",
   "outputs": [
    {
     "data": {
      "text/plain": "(9686, 109)"
     },
     "execution_count": 57,
     "metadata": {},
     "output_type": "execute_result"
    }
   ],
   "source": [
    "df_final = pd.concat([df[significant], pca_df.iloc[:, :72]], axis=1)\n",
    "df_final.shape"
   ],
   "metadata": {
    "collapsed": false,
    "ExecuteTime": {
     "end_time": "2024-05-17T16:06:40.701202Z",
     "start_time": "2024-05-17T16:06:40.686182Z"
    }
   },
   "id": "4facf5d0688aae10",
   "execution_count": 57
  },
  {
   "cell_type": "code",
   "outputs": [
    {
     "data": {
      "text/plain": "    OSOURCE  TCODE  STATE  MAILCODE  RECINHSE  RECP3  CLUSTER  WEALTH1  SOLIH  \\\n20     20.0    2.0   10.0       0.0       0.0    0.0     12.0      8.0   99.0   \n30     22.0    0.0   14.0       0.0       0.0    0.0     35.0      6.0   99.0   \n45      6.0    0.0    7.0       0.0       0.0    0.0     24.0      9.0   99.0   \n78     54.0    0.0    1.0       0.0       0.0    0.0     13.0      5.0   99.0   \n93     23.0    1.0   18.0       0.0       0.0    0.0     18.0      7.0   99.0   \n\n    WEALTH2  ...      PC63      PC64      PC65      PC66      PC67      PC68  \\\n20      6.0  ...  0.359564 -1.605358  0.371449 -1.520905  0.593174  0.024790   \n30      5.0  ... -0.892001 -0.235985 -0.193795 -1.098376 -0.247193 -0.942611   \n45      9.0  ... -1.385058 -0.072268  0.812424  0.655906 -1.311188 -0.399538   \n78      9.0  ... -0.073674 -0.245323  0.258453 -0.248076 -0.210410  0.254960   \n93      7.0  ...  0.579192  1.487058  0.471290 -1.052662  1.013979 -0.189355   \n\n        PC69      PC70      PC71      PC72  \n20 -0.769868  0.123167  0.108519 -0.693440  \n30  0.230213  0.321562  0.699874  1.491970  \n45 -0.193921 -1.448552 -1.141853  0.149740  \n78  0.273202 -0.354980  1.036938  0.739242  \n93  0.381000  1.433739  0.856298 -0.391180  \n\n[5 rows x 109 columns]",
      "text/html": "<div>\n<style scoped>\n    .dataframe tbody tr th:only-of-type {\n        vertical-align: middle;\n    }\n\n    .dataframe tbody tr th {\n        vertical-align: top;\n    }\n\n    .dataframe thead th {\n        text-align: right;\n    }\n</style>\n<table border=\"1\" class=\"dataframe\">\n  <thead>\n    <tr style=\"text-align: right;\">\n      <th></th>\n      <th>OSOURCE</th>\n      <th>TCODE</th>\n      <th>STATE</th>\n      <th>MAILCODE</th>\n      <th>RECINHSE</th>\n      <th>RECP3</th>\n      <th>CLUSTER</th>\n      <th>WEALTH1</th>\n      <th>SOLIH</th>\n      <th>WEALTH2</th>\n      <th>...</th>\n      <th>PC63</th>\n      <th>PC64</th>\n      <th>PC65</th>\n      <th>PC66</th>\n      <th>PC67</th>\n      <th>PC68</th>\n      <th>PC69</th>\n      <th>PC70</th>\n      <th>PC71</th>\n      <th>PC72</th>\n    </tr>\n  </thead>\n  <tbody>\n    <tr>\n      <th>20</th>\n      <td>20.0</td>\n      <td>2.0</td>\n      <td>10.0</td>\n      <td>0.0</td>\n      <td>0.0</td>\n      <td>0.0</td>\n      <td>12.0</td>\n      <td>8.0</td>\n      <td>99.0</td>\n      <td>6.0</td>\n      <td>...</td>\n      <td>0.359564</td>\n      <td>-1.605358</td>\n      <td>0.371449</td>\n      <td>-1.520905</td>\n      <td>0.593174</td>\n      <td>0.024790</td>\n      <td>-0.769868</td>\n      <td>0.123167</td>\n      <td>0.108519</td>\n      <td>-0.693440</td>\n    </tr>\n    <tr>\n      <th>30</th>\n      <td>22.0</td>\n      <td>0.0</td>\n      <td>14.0</td>\n      <td>0.0</td>\n      <td>0.0</td>\n      <td>0.0</td>\n      <td>35.0</td>\n      <td>6.0</td>\n      <td>99.0</td>\n      <td>5.0</td>\n      <td>...</td>\n      <td>-0.892001</td>\n      <td>-0.235985</td>\n      <td>-0.193795</td>\n      <td>-1.098376</td>\n      <td>-0.247193</td>\n      <td>-0.942611</td>\n      <td>0.230213</td>\n      <td>0.321562</td>\n      <td>0.699874</td>\n      <td>1.491970</td>\n    </tr>\n    <tr>\n      <th>45</th>\n      <td>6.0</td>\n      <td>0.0</td>\n      <td>7.0</td>\n      <td>0.0</td>\n      <td>0.0</td>\n      <td>0.0</td>\n      <td>24.0</td>\n      <td>9.0</td>\n      <td>99.0</td>\n      <td>9.0</td>\n      <td>...</td>\n      <td>-1.385058</td>\n      <td>-0.072268</td>\n      <td>0.812424</td>\n      <td>0.655906</td>\n      <td>-1.311188</td>\n      <td>-0.399538</td>\n      <td>-0.193921</td>\n      <td>-1.448552</td>\n      <td>-1.141853</td>\n      <td>0.149740</td>\n    </tr>\n    <tr>\n      <th>78</th>\n      <td>54.0</td>\n      <td>0.0</td>\n      <td>1.0</td>\n      <td>0.0</td>\n      <td>0.0</td>\n      <td>0.0</td>\n      <td>13.0</td>\n      <td>5.0</td>\n      <td>99.0</td>\n      <td>9.0</td>\n      <td>...</td>\n      <td>-0.073674</td>\n      <td>-0.245323</td>\n      <td>0.258453</td>\n      <td>-0.248076</td>\n      <td>-0.210410</td>\n      <td>0.254960</td>\n      <td>0.273202</td>\n      <td>-0.354980</td>\n      <td>1.036938</td>\n      <td>0.739242</td>\n    </tr>\n    <tr>\n      <th>93</th>\n      <td>23.0</td>\n      <td>1.0</td>\n      <td>18.0</td>\n      <td>0.0</td>\n      <td>0.0</td>\n      <td>0.0</td>\n      <td>18.0</td>\n      <td>7.0</td>\n      <td>99.0</td>\n      <td>7.0</td>\n      <td>...</td>\n      <td>0.579192</td>\n      <td>1.487058</td>\n      <td>0.471290</td>\n      <td>-1.052662</td>\n      <td>1.013979</td>\n      <td>-0.189355</td>\n      <td>0.381000</td>\n      <td>1.433739</td>\n      <td>0.856298</td>\n      <td>-0.391180</td>\n    </tr>\n  </tbody>\n</table>\n<p>5 rows × 109 columns</p>\n</div>"
     },
     "execution_count": 60,
     "metadata": {},
     "output_type": "execute_result"
    }
   ],
   "source": [
    "df_final.head()"
   ],
   "metadata": {
    "collapsed": false,
    "ExecuteTime": {
     "end_time": "2024-05-17T16:07:16.636383Z",
     "start_time": "2024-05-17T16:07:16.617512Z"
    }
   },
   "id": "7067f11d9f252b47",
   "execution_count": 60
  },
  {
   "cell_type": "code",
   "outputs": [],
   "source": [
    "# save dataframe as csv\n",
    "#df_final.to_csv('data/preprocessed_data.csv', index=True)"
   ],
   "metadata": {
    "collapsed": false,
    "ExecuteTime": {
     "end_time": "2024-05-17T17:08:08.760320Z",
     "start_time": "2024-05-17T17:08:07.608556Z"
    }
   },
   "id": "6107967ee72d190f",
   "execution_count": 62
  }
 ],
 "metadata": {
  "kernelspec": {
   "display_name": "Python 3",
   "language": "python",
   "name": "python3"
  },
  "language_info": {
   "codemirror_mode": {
    "name": "ipython",
    "version": 2
   },
   "file_extension": ".py",
   "mimetype": "text/x-python",
   "name": "python",
   "nbconvert_exporter": "python",
   "pygments_lexer": "ipython2",
   "version": "2.7.6"
  }
 },
 "nbformat": 4,
 "nbformat_minor": 5
}
