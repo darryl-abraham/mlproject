{
 "cells": [
  {
   "cell_type": "markdown",
   "source": [
    "##### Machine Learning Course Project\n",
    "# Modelling\n",
    "##### Darryl Abraham, Riccardo Paciello"
   ],
   "metadata": {
    "collapsed": false
   },
   "id": "c18b874202ac74f"
  },
  {
   "cell_type": "markdown",
   "source": [
    "### Importing Libraries"
   ],
   "metadata": {
    "collapsed": false
   },
   "id": "dca21d8a6479524b"
  },
  {
   "cell_type": "code",
   "execution_count": 32,
   "id": "initial_id",
   "metadata": {
    "collapsed": true,
    "ExecuteTime": {
     "end_time": "2024-05-18T22:39:05.708761Z",
     "start_time": "2024-05-18T22:39:05.651054Z"
    }
   },
   "outputs": [],
   "source": [
    "import pandas as pd\n",
    "from sklearn.pipeline import Pipeline\n",
    "from sklearn.compose import ColumnTransformer\n",
    "from sklearn.preprocessing import StandardScaler, OneHotEncoder\n",
    "from sklearn.decomposition import PCA\n",
    "from sklearn.linear_model import LogisticRegression\n",
    "from sklearn.model_selection import cross_val_score\n",
    "import numpy as np\n",
    "from sklearn.linear_model import LinearRegression\n",
    "from sklearn.model_selection import train_test_split"
   ]
  },
  {
   "cell_type": "markdown",
   "source": [
    "### Load Data"
   ],
   "metadata": {
    "collapsed": false
   },
   "id": "16bd8305b5055b2a"
  },
  {
   "cell_type": "code",
   "outputs": [
    {
     "data": {
      "text/plain": "     OSOURCE  TCODE  STATE  MAILCODE  RECINHSE  RECP3  CLUSTER  WEALTH1  \\\nidx                                                                       \n20        20      2     10         0         0      0       12      8.0   \n30        22      0     14         0         0      0       35      6.0   \n45         6      0      7         0         0      0       24      9.0   \n78        54      0      1         0         0      0       13      7.0   \n93        23      1     18         0         0      0       18      7.0   \n\n     SOLIH  WEALTH2  ...       PC6       PC7       PC8       PC9      PC10  \\\nidx                  ...                                                     \n20    99.0      4.0  ... -0.560040 -0.508209  0.516819 -0.086505  0.588516   \n30    99.0      5.0  ...  0.362351 -1.191198 -0.102913  0.035730  0.221015   \n45    99.0      9.0  ... -0.656215  0.384504 -0.686458 -0.154291  1.135503   \n78    99.0      9.0  ... -1.306960 -0.273782  0.899270  0.447165  1.858439   \n93    99.0      7.0  ...  1.365392 -0.498220 -1.371105  0.960526 -0.823202   \n\n         PC11      PC12      PC13  TARGET_B  TARGET_D  \nidx                                                    \n20  -0.072230  0.361932 -0.464355         1       4.0  \n30   0.078312 -0.611230 -0.906074         1       7.0  \n45  -0.115429  1.363230  0.313729         1       5.0  \n78   0.358546 -0.540360  0.066545         1      13.0  \n93  -0.144125 -1.227357 -0.045361         1      10.0  \n\n[5 rows x 52 columns]",
      "text/html": "<div>\n<style scoped>\n    .dataframe tbody tr th:only-of-type {\n        vertical-align: middle;\n    }\n\n    .dataframe tbody tr th {\n        vertical-align: top;\n    }\n\n    .dataframe thead th {\n        text-align: right;\n    }\n</style>\n<table border=\"1\" class=\"dataframe\">\n  <thead>\n    <tr style=\"text-align: right;\">\n      <th></th>\n      <th>OSOURCE</th>\n      <th>TCODE</th>\n      <th>STATE</th>\n      <th>MAILCODE</th>\n      <th>RECINHSE</th>\n      <th>RECP3</th>\n      <th>CLUSTER</th>\n      <th>WEALTH1</th>\n      <th>SOLIH</th>\n      <th>WEALTH2</th>\n      <th>...</th>\n      <th>PC6</th>\n      <th>PC7</th>\n      <th>PC8</th>\n      <th>PC9</th>\n      <th>PC10</th>\n      <th>PC11</th>\n      <th>PC12</th>\n      <th>PC13</th>\n      <th>TARGET_B</th>\n      <th>TARGET_D</th>\n    </tr>\n    <tr>\n      <th>idx</th>\n      <th></th>\n      <th></th>\n      <th></th>\n      <th></th>\n      <th></th>\n      <th></th>\n      <th></th>\n      <th></th>\n      <th></th>\n      <th></th>\n      <th></th>\n      <th></th>\n      <th></th>\n      <th></th>\n      <th></th>\n      <th></th>\n      <th></th>\n      <th></th>\n      <th></th>\n      <th></th>\n      <th></th>\n    </tr>\n  </thead>\n  <tbody>\n    <tr>\n      <th>20</th>\n      <td>20</td>\n      <td>2</td>\n      <td>10</td>\n      <td>0</td>\n      <td>0</td>\n      <td>0</td>\n      <td>12</td>\n      <td>8.0</td>\n      <td>99.0</td>\n      <td>4.0</td>\n      <td>...</td>\n      <td>-0.560040</td>\n      <td>-0.508209</td>\n      <td>0.516819</td>\n      <td>-0.086505</td>\n      <td>0.588516</td>\n      <td>-0.072230</td>\n      <td>0.361932</td>\n      <td>-0.464355</td>\n      <td>1</td>\n      <td>4.0</td>\n    </tr>\n    <tr>\n      <th>30</th>\n      <td>22</td>\n      <td>0</td>\n      <td>14</td>\n      <td>0</td>\n      <td>0</td>\n      <td>0</td>\n      <td>35</td>\n      <td>6.0</td>\n      <td>99.0</td>\n      <td>5.0</td>\n      <td>...</td>\n      <td>0.362351</td>\n      <td>-1.191198</td>\n      <td>-0.102913</td>\n      <td>0.035730</td>\n      <td>0.221015</td>\n      <td>0.078312</td>\n      <td>-0.611230</td>\n      <td>-0.906074</td>\n      <td>1</td>\n      <td>7.0</td>\n    </tr>\n    <tr>\n      <th>45</th>\n      <td>6</td>\n      <td>0</td>\n      <td>7</td>\n      <td>0</td>\n      <td>0</td>\n      <td>0</td>\n      <td>24</td>\n      <td>9.0</td>\n      <td>99.0</td>\n      <td>9.0</td>\n      <td>...</td>\n      <td>-0.656215</td>\n      <td>0.384504</td>\n      <td>-0.686458</td>\n      <td>-0.154291</td>\n      <td>1.135503</td>\n      <td>-0.115429</td>\n      <td>1.363230</td>\n      <td>0.313729</td>\n      <td>1</td>\n      <td>5.0</td>\n    </tr>\n    <tr>\n      <th>78</th>\n      <td>54</td>\n      <td>0</td>\n      <td>1</td>\n      <td>0</td>\n      <td>0</td>\n      <td>0</td>\n      <td>13</td>\n      <td>7.0</td>\n      <td>99.0</td>\n      <td>9.0</td>\n      <td>...</td>\n      <td>-1.306960</td>\n      <td>-0.273782</td>\n      <td>0.899270</td>\n      <td>0.447165</td>\n      <td>1.858439</td>\n      <td>0.358546</td>\n      <td>-0.540360</td>\n      <td>0.066545</td>\n      <td>1</td>\n      <td>13.0</td>\n    </tr>\n    <tr>\n      <th>93</th>\n      <td>23</td>\n      <td>1</td>\n      <td>18</td>\n      <td>0</td>\n      <td>0</td>\n      <td>0</td>\n      <td>18</td>\n      <td>7.0</td>\n      <td>99.0</td>\n      <td>7.0</td>\n      <td>...</td>\n      <td>1.365392</td>\n      <td>-0.498220</td>\n      <td>-1.371105</td>\n      <td>0.960526</td>\n      <td>-0.823202</td>\n      <td>-0.144125</td>\n      <td>-1.227357</td>\n      <td>-0.045361</td>\n      <td>1</td>\n      <td>10.0</td>\n    </tr>\n  </tbody>\n</table>\n<p>5 rows × 52 columns</p>\n</div>"
     },
     "execution_count": 33,
     "metadata": {},
     "output_type": "execute_result"
    }
   ],
   "source": [
    "df = pd.read_csv('./data/train_preprocessed.csv', sep = ',', chunksize=10000, low_memory=False)\n",
    "df = pd.concat(df, axis='rows')\n",
    "df = df.rename(columns={'Unnamed: 0': 'idx'})\n",
    "df = df.set_index('idx')\n",
    "df.head()"
   ],
   "metadata": {
    "collapsed": false,
    "ExecuteTime": {
     "end_time": "2024-05-18T22:39:06.615331Z",
     "start_time": "2024-05-18T22:39:06.465861Z"
    }
   },
   "id": "5585f63941d89cec",
   "execution_count": 33
  },
  {
   "cell_type": "code",
   "outputs": [],
   "source": [
    "feats_to_encode = ['OSOURCE', 'TCODE', 'STATE', 'CLUSTER', 'CLUSTER2']"
   ],
   "metadata": {
    "collapsed": false,
    "ExecuteTime": {
     "end_time": "2024-05-18T22:39:07.986943Z",
     "start_time": "2024-05-18T22:39:07.981349Z"
    }
   },
   "id": "ce7c876036743469",
   "execution_count": 34
  },
  {
   "cell_type": "markdown",
   "source": [
    "### Modelling"
   ],
   "metadata": {
    "collapsed": false
   },
   "id": "1725aa5b5fd09af1"
  },
  {
   "cell_type": "markdown",
   "source": [
    "Encoding pipeline set up."
   ],
   "metadata": {
    "collapsed": false
   },
   "id": "6f4370b69b7e21d3"
  },
  {
   "cell_type": "code",
   "outputs": [],
   "source": [
    "categorical_transformer = Pipeline(steps=[\n",
    "    ('onehot', OneHotEncoder(handle_unknown='ignore'))\n",
    "])\n",
    "\n",
    "# Combine preprocessing steps\n",
    "preprocessor = ColumnTransformer(\n",
    "    transformers=[\n",
    "        ('cat', categorical_transformer, feats_to_encode)\n",
    "    ])"
   ],
   "metadata": {
    "collapsed": false,
    "ExecuteTime": {
     "end_time": "2024-05-18T22:39:11.059230Z",
     "start_time": "2024-05-18T22:39:11.053343Z"
    }
   },
   "id": "e9bcbc58f1efd031",
   "execution_count": 35
  },
  {
   "cell_type": "markdown",
   "source": [
    "*Logistic Regression*"
   ],
   "metadata": {
    "collapsed": false
   },
   "id": "93ef0e24b8bf1ec5"
  },
  {
   "cell_type": "code",
   "outputs": [
    {
     "name": "stdout",
     "output_type": "stream",
     "text": [
      "Cross-validation scores: [0.76986584 0.76883385 0.76883385 0.76883385 0.76780186 0.76676987\n",
      " 0.76756198 0.76859504 0.76342975 0.76446281]\n",
      "Mean CV Accuracy: 0.7674988699263959\n",
      "Standard Deviation of CV Accuracy: 0.001963498573816208\n"
     ]
    }
   ],
   "source": [
    "model = LogisticRegression()\n",
    "\n",
    "clf = Pipeline(steps=[('preprocessor', preprocessor),\n",
    "                      ('classifier', model)])\n",
    "\n",
    "X_train = df.drop(columns=['TARGET_B', 'TARGET_D'])\n",
    "y_train = df['TARGET_B']\n",
    "\n",
    "clf.fit(X_train, y_train)\n",
    "\n",
    "cv_scores = cross_val_score(clf, X_train, y_train, cv=10)\n",
    "\n",
    "print(\"Cross-validation scores:\", cv_scores)\n",
    "print(\"Mean CV Accuracy:\", cv_scores.mean())\n",
    "print(\"Standard Deviation of CV Accuracy:\", cv_scores.std())"
   ],
   "metadata": {
    "collapsed": false,
    "ExecuteTime": {
     "end_time": "2024-05-18T22:39:13.552357Z",
     "start_time": "2024-05-18T22:39:13.190830Z"
    }
   },
   "id": "2ada7a90f020ed8f",
   "execution_count": 36
  },
  {
   "cell_type": "markdown",
   "source": [
    "*Linear Regression*"
   ],
   "metadata": {
    "collapsed": false
   },
   "id": "8d306d3be8b44136"
  },
  {
   "cell_type": "code",
   "outputs": [
    {
     "name": "stdout",
     "output_type": "stream",
     "text": [
      "Cross-validation scores: [12.03396845 13.24932336 12.08261031 14.73766101 12.21717645 12.8184523\n",
      " 11.72816914 12.94476236 12.03911351 13.03905687]\n",
      "Mean CV RMSE: 12.689029375140473\n",
      "Standard Deviation of CV RMSE: 0.8414646113878047\n"
     ]
    }
   ],
   "source": [
    "model = LinearRegression()\n",
    "\n",
    "regressor = Pipeline(steps=[('preprocessor', preprocessor),\n",
    "                      ('regressor', model)])\n",
    "\n",
    "X_train = df.drop(columns=['TARGET_B', 'TARGET_D'])\n",
    "y_train = df['TARGET_D']\n",
    "\n",
    "regressor.fit(X_train, y_train)\n",
    "\n",
    "# Perform cross-validation\n",
    "cv_scores = cross_val_score(regressor, X_train, y_train, cv=10, scoring='neg_mean_squared_error')\n",
    "\n",
    "# Convert scores to positive values and take the square root to get RMSE\n",
    "cv_scores = np.sqrt(-cv_scores)\n",
    "\n",
    "print(\"Cross-validation scores:\", cv_scores)\n",
    "print(\"Mean CV RMSE:\", cv_scores.mean())\n",
    "print(\"Standard Deviation of CV RMSE:\", cv_scores.std())"
   ],
   "metadata": {
    "collapsed": false,
    "ExecuteTime": {
     "end_time": "2024-05-18T22:39:16.600330Z",
     "start_time": "2024-05-18T22:39:16.257401Z"
    }
   },
   "id": "903bd8c41b0ccdd2",
   "execution_count": 37
  },
  {
   "cell_type": "code",
   "outputs": [],
   "source": [],
   "metadata": {
    "collapsed": false
   },
   "id": "5576b2980a644c37"
  }
 ],
 "metadata": {
  "kernelspec": {
   "display_name": "Python 3",
   "language": "python",
   "name": "python3"
  },
  "language_info": {
   "codemirror_mode": {
    "name": "ipython",
    "version": 2
   },
   "file_extension": ".py",
   "mimetype": "text/x-python",
   "name": "python",
   "nbconvert_exporter": "python",
   "pygments_lexer": "ipython2",
   "version": "2.7.6"
  }
 },
 "nbformat": 4,
 "nbformat_minor": 5
}
